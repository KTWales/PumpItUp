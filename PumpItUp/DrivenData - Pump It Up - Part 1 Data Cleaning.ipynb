{
 "cells": [
  {
   "cell_type": "markdown",
   "metadata": {},
   "source": [
    "# Pump It Up: Data Mining the Water Table\n",
    "\n",
    "**Can you predict which water pumps are faulty?**\n",
    "\n",
    "Using data from Taarifa and the Tanzanian Ministry of Water, can you predict which pumps are functional, which need some repairs, and which don't work at all?\n",
    "\n",
    "Predict one of these three classes based on a number of variables about what kind of pump is operating, when it was installed, and how it is managed.\n",
    "\n",
    "A smart understanding of which waterpoints will fail can improve maintenance operations and ensure that clean, potable water is available to communities across Tanzania.\n",
    "\n",
    "_Website Link:_ https://www.drivendata.org/competitions/7/pump-it-up-data-mining-the-water-table/"
   ]
  },
  {
   "cell_type": "code",
   "execution_count": 1,
   "metadata": {},
   "outputs": [
    {
     "output_type": "stream",
     "name": "stdout",
     "text": [
      "Collecting tableone\n",
      "  Using cached tableone-0.7.10-py2.py3-none-any.whl (32 kB)\n",
      "Collecting numpy>=1.12.1\n",
      "  Downloading numpy-1.20.2-cp39-cp39-macosx_10_9_x86_64.whl (16.1 MB)\n",
      "\u001b[K     |████████████████████████████████| 16.1 MB 23.4 MB/s \n",
      "\u001b[?25hCollecting pandas>=0.22.0\n",
      "  Downloading pandas-1.2.3-cp39-cp39-macosx_10_9_x86_64.whl (10.7 MB)\n",
      "\u001b[K     |████████████████████████████████| 10.7 MB 581 kB/s \n",
      "\u001b[?25hCollecting python-dateutil>=2.7.3\n",
      "  Downloading python_dateutil-2.8.1-py2.py3-none-any.whl (227 kB)\n",
      "\u001b[K     |████████████████████████████████| 227 kB 718 kB/s \n",
      "\u001b[?25hRequirement already satisfied: six>=1.5 in /Users/KT/miniconda3/lib/python3.9/site-packages (from python-dateutil>=2.7.3->pandas>=0.22.0->tableone) (1.15.0)\n",
      "Collecting pytz>=2017.3\n",
      "  Downloading pytz-2021.1-py2.py3-none-any.whl (510 kB)\n",
      "\u001b[K     |████████████████████████████████| 510 kB 10.1 MB/s \n",
      "\u001b[?25hCollecting scipy>=0.18.1\n",
      "  Downloading scipy-1.6.2-cp39-cp39-macosx_10_9_x86_64.whl (30.9 MB)\n",
      "\u001b[K     |████████████████████████████████| 30.9 MB 5.5 MB/s \n",
      "\u001b[?25hCollecting statsmodels>=0.8.0\n",
      "  Downloading statsmodels-0.12.2-cp39-cp39-macosx_10_15_x86_64.whl (9.6 MB)\n",
      "\u001b[K     |████████████████████████████████| 9.6 MB 11.2 MB/s \n",
      "\u001b[?25hCollecting patsy>=0.5\n",
      "  Downloading patsy-0.5.1-py2.py3-none-any.whl (231 kB)\n",
      "\u001b[K     |████████████████████████████████| 231 kB 3.3 MB/s \n",
      "\u001b[?25hRequirement already satisfied: six>=1.5 in /Users/KT/miniconda3/lib/python3.9/site-packages (from python-dateutil>=2.7.3->pandas>=0.22.0->tableone) (1.15.0)\n",
      "Collecting tabulate>=0.8.2\n",
      "  Downloading tabulate-0.8.9-py3-none-any.whl (25 kB)\n",
      "Installing collected packages: pytz, python-dateutil, numpy, scipy, patsy, pandas, tabulate, statsmodels, tableone\n",
      "Successfully installed numpy-1.20.2 pandas-1.2.3 patsy-0.5.1 python-dateutil-2.8.1 pytz-2021.1 scipy-1.6.2 statsmodels-0.12.2 tableone-0.7.10 tabulate-0.8.9\n"
     ]
    }
   ],
   "source": [
    "# Gotta install some packages that aren't available in colab by default\n",
    "!pip install tableone"
   ]
  },
  {
   "cell_type": "code",
   "execution_count": 2,
   "metadata": {},
   "outputs": [
    {
     "output_type": "stream",
     "name": "stderr",
     "text": [
      "/Users/KT/opt/anaconda3/lib/python3.7/site-packages/statsmodels/tools/_testing.py:19: FutureWarning: pandas.util.testing is deprecated. Use the functions in the public API at pandas.testing instead.\n  import pandas.util.testing as tm\n/Users/KT/opt/anaconda3/lib/python3.7/site-packages/matplotlib/__init__.py:107: DeprecationWarning: Using or importing the ABCs from 'collections' instead of from 'collections.abc' is deprecated, and in 3.8 it will stop working\n  from collections import MutableMapping\n/Users/KT/opt/anaconda3/lib/python3.7/site-packages/matplotlib/rcsetup.py:20: DeprecationWarning: Using or importing the ABCs from 'collections' instead of from 'collections.abc' is deprecated, and in 3.8 it will stop working\n  from collections import Iterable, Mapping\n/Users/KT/opt/anaconda3/lib/python3.7/site-packages/matplotlib/rcsetup.py:20: DeprecationWarning: Using or importing the ABCs from 'collections' instead of from 'collections.abc' is deprecated, and in 3.8 it will stop working\n  from collections import Iterable, Mapping\n/Users/KT/opt/anaconda3/lib/python3.7/site-packages/matplotlib/colors.py:53: DeprecationWarning: Using or importing the ABCs from 'collections' instead of from 'collections.abc' is deprecated, and in 3.8 it will stop working\n  from collections import Sized\n"
     ]
    }
   ],
   "source": [
    "# Import Libraries\n",
    "import pandas as pd\n",
    "import numpy as np\n",
    "from tableone import TableOne, load_dataset\n",
    "\n",
    "# plotting\n",
    "import matplotlib.pyplot as plt\n",
    "import seaborn as sns\n",
    "import warnings\n",
    "warnings.filterwarnings(\"ignore\", category=DeprecationWarning) \n"
   ]
  },
  {
   "cell_type": "code",
   "execution_count": 3,
   "metadata": {},
   "outputs": [],
   "source": [
    "#4910797b-ee55-40a7-8668-10efd5c1b960.csv: Training Data\n",
    "#0bf8bc6e-30d0-4c50-956a-603fc693d966.csv: Training Labels\n",
    "#702ddfc5-68cd-4d1d-a0de-f5f566f76d91.csv: Test Data\n",
    "\n",
    "# Load Data:\n",
    "#import os\n",
    "#print(os.getcwd())\n",
    "#print(os.listdir('PumpItUp/raw_data'))\n",
    "X_train = pd.read_csv(\"PumpItUp/raw_data/4910797b-ee55-40a7-8668-10efd5c1b960.csv\")\n",
    "y_train = pd.read_csv(\"PumpItUp/raw_data/0bf8bc6e-30d0-4c50-956a-603fc693d966.csv\")\n",
    "train = X_train.merge(y_train, how = \"outer\", on = \"id\")"
   ]
  },
  {
   "cell_type": "code",
   "execution_count": 4,
   "metadata": {},
   "outputs": [
    {
     "output_type": "execute_result",
     "data": {
      "text/plain": [
       "      id  amount_tsh date_recorded        funder  gps_height     installer  \\\n",
       "0  69572      6000.0    2011-03-14         Roman        1390         Roman   \n",
       "1   8776         0.0    2013-03-06       Grumeti        1399       GRUMETI   \n",
       "2  34310        25.0    2013-02-25  Lottery Club         686  World vision   \n",
       "3  67743         0.0    2013-01-28        Unicef         263        UNICEF   \n",
       "4  19728         0.0    2011-07-13   Action In A           0       Artisan   \n",
       "\n",
       "   longitude   latitude              wpt_name  num_private  ... water_quality  \\\n",
       "0  34.938093  -9.856322                  none            0  ...          soft   \n",
       "1  34.698766  -2.147466              Zahanati            0  ...          soft   \n",
       "2  37.460664  -3.821329           Kwa Mahundi            0  ...          soft   \n",
       "3  38.486161 -11.155298  Zahanati Ya Nanyumbu            0  ...          soft   \n",
       "4  31.130847  -1.825359               Shuleni            0  ...          soft   \n",
       "\n",
       "  quality_group      quantity  quantity_group                source  \\\n",
       "0          good        enough          enough                spring   \n",
       "1          good  insufficient    insufficient  rainwater harvesting   \n",
       "2          good        enough          enough                   dam   \n",
       "3          good           dry             dry           machine dbh   \n",
       "4          good      seasonal        seasonal  rainwater harvesting   \n",
       "\n",
       "            source_type source_class              waterpoint_type  \\\n",
       "0                spring  groundwater           communal standpipe   \n",
       "1  rainwater harvesting      surface           communal standpipe   \n",
       "2                   dam      surface  communal standpipe multiple   \n",
       "3              borehole  groundwater  communal standpipe multiple   \n",
       "4  rainwater harvesting      surface           communal standpipe   \n",
       "\n",
       "  waterpoint_type_group    status_group  \n",
       "0    communal standpipe      functional  \n",
       "1    communal standpipe      functional  \n",
       "2    communal standpipe      functional  \n",
       "3    communal standpipe  non functional  \n",
       "4    communal standpipe      functional  \n",
       "\n",
       "[5 rows x 41 columns]"
      ],
      "text/html": "<div>\n<style scoped>\n    .dataframe tbody tr th:only-of-type {\n        vertical-align: middle;\n    }\n\n    .dataframe tbody tr th {\n        vertical-align: top;\n    }\n\n    .dataframe thead th {\n        text-align: right;\n    }\n</style>\n<table border=\"1\" class=\"dataframe\">\n  <thead>\n    <tr style=\"text-align: right;\">\n      <th></th>\n      <th>id</th>\n      <th>amount_tsh</th>\n      <th>date_recorded</th>\n      <th>funder</th>\n      <th>gps_height</th>\n      <th>installer</th>\n      <th>longitude</th>\n      <th>latitude</th>\n      <th>wpt_name</th>\n      <th>num_private</th>\n      <th>...</th>\n      <th>water_quality</th>\n      <th>quality_group</th>\n      <th>quantity</th>\n      <th>quantity_group</th>\n      <th>source</th>\n      <th>source_type</th>\n      <th>source_class</th>\n      <th>waterpoint_type</th>\n      <th>waterpoint_type_group</th>\n      <th>status_group</th>\n    </tr>\n  </thead>\n  <tbody>\n    <tr>\n      <th>0</th>\n      <td>69572</td>\n      <td>6000.0</td>\n      <td>2011-03-14</td>\n      <td>Roman</td>\n      <td>1390</td>\n      <td>Roman</td>\n      <td>34.938093</td>\n      <td>-9.856322</td>\n      <td>none</td>\n      <td>0</td>\n      <td>...</td>\n      <td>soft</td>\n      <td>good</td>\n      <td>enough</td>\n      <td>enough</td>\n      <td>spring</td>\n      <td>spring</td>\n      <td>groundwater</td>\n      <td>communal standpipe</td>\n      <td>communal standpipe</td>\n      <td>functional</td>\n    </tr>\n    <tr>\n      <th>1</th>\n      <td>8776</td>\n      <td>0.0</td>\n      <td>2013-03-06</td>\n      <td>Grumeti</td>\n      <td>1399</td>\n      <td>GRUMETI</td>\n      <td>34.698766</td>\n      <td>-2.147466</td>\n      <td>Zahanati</td>\n      <td>0</td>\n      <td>...</td>\n      <td>soft</td>\n      <td>good</td>\n      <td>insufficient</td>\n      <td>insufficient</td>\n      <td>rainwater harvesting</td>\n      <td>rainwater harvesting</td>\n      <td>surface</td>\n      <td>communal standpipe</td>\n      <td>communal standpipe</td>\n      <td>functional</td>\n    </tr>\n    <tr>\n      <th>2</th>\n      <td>34310</td>\n      <td>25.0</td>\n      <td>2013-02-25</td>\n      <td>Lottery Club</td>\n      <td>686</td>\n      <td>World vision</td>\n      <td>37.460664</td>\n      <td>-3.821329</td>\n      <td>Kwa Mahundi</td>\n      <td>0</td>\n      <td>...</td>\n      <td>soft</td>\n      <td>good</td>\n      <td>enough</td>\n      <td>enough</td>\n      <td>dam</td>\n      <td>dam</td>\n      <td>surface</td>\n      <td>communal standpipe multiple</td>\n      <td>communal standpipe</td>\n      <td>functional</td>\n    </tr>\n    <tr>\n      <th>3</th>\n      <td>67743</td>\n      <td>0.0</td>\n      <td>2013-01-28</td>\n      <td>Unicef</td>\n      <td>263</td>\n      <td>UNICEF</td>\n      <td>38.486161</td>\n      <td>-11.155298</td>\n      <td>Zahanati Ya Nanyumbu</td>\n      <td>0</td>\n      <td>...</td>\n      <td>soft</td>\n      <td>good</td>\n      <td>dry</td>\n      <td>dry</td>\n      <td>machine dbh</td>\n      <td>borehole</td>\n      <td>groundwater</td>\n      <td>communal standpipe multiple</td>\n      <td>communal standpipe</td>\n      <td>non functional</td>\n    </tr>\n    <tr>\n      <th>4</th>\n      <td>19728</td>\n      <td>0.0</td>\n      <td>2011-07-13</td>\n      <td>Action In A</td>\n      <td>0</td>\n      <td>Artisan</td>\n      <td>31.130847</td>\n      <td>-1.825359</td>\n      <td>Shuleni</td>\n      <td>0</td>\n      <td>...</td>\n      <td>soft</td>\n      <td>good</td>\n      <td>seasonal</td>\n      <td>seasonal</td>\n      <td>rainwater harvesting</td>\n      <td>rainwater harvesting</td>\n      <td>surface</td>\n      <td>communal standpipe</td>\n      <td>communal standpipe</td>\n      <td>functional</td>\n    </tr>\n  </tbody>\n</table>\n<p>5 rows × 41 columns</p>\n</div>"
     },
     "metadata": {},
     "execution_count": 4
    }
   ],
   "source": [
    "train.head()"
   ]
  },
  {
   "cell_type": "code",
   "execution_count": 5,
   "metadata": {},
   "outputs": [
    {
     "output_type": "stream",
     "name": "stdout",
     "text": [
      "<class 'pandas.core.frame.DataFrame'>\nInt64Index: 59400 entries, 0 to 59399\nData columns (total 41 columns):\n #   Column                 Non-Null Count  Dtype  \n---  ------                 --------------  -----  \n 0   id                     59400 non-null  int64  \n 1   amount_tsh             59400 non-null  float64\n 2   date_recorded          59400 non-null  object \n 3   funder                 55765 non-null  object \n 4   gps_height             59400 non-null  int64  \n 5   installer              55745 non-null  object \n 6   longitude              59400 non-null  float64\n 7   latitude               59400 non-null  float64\n 8   wpt_name               59400 non-null  object \n 9   num_private            59400 non-null  int64  \n 10  basin                  59400 non-null  object \n 11  subvillage             59029 non-null  object \n 12  region                 59400 non-null  object \n 13  region_code            59400 non-null  int64  \n 14  district_code          59400 non-null  int64  \n 15  lga                    59400 non-null  object \n 16  ward                   59400 non-null  object \n 17  population             59400 non-null  int64  \n 18  public_meeting         56066 non-null  object \n 19  recorded_by            59400 non-null  object \n 20  scheme_management      55523 non-null  object \n 21  scheme_name            31234 non-null  object \n 22  permit                 56344 non-null  object \n 23  construction_year      59400 non-null  int64  \n 24  extraction_type        59400 non-null  object \n 25  extraction_type_group  59400 non-null  object \n 26  extraction_type_class  59400 non-null  object \n 27  management             59400 non-null  object \n 28  management_group       59400 non-null  object \n 29  payment                59400 non-null  object \n 30  payment_type           59400 non-null  object \n 31  water_quality          59400 non-null  object \n 32  quality_group          59400 non-null  object \n 33  quantity               59400 non-null  object \n 34  quantity_group         59400 non-null  object \n 35  source                 59400 non-null  object \n 36  source_type            59400 non-null  object \n 37  source_class           59400 non-null  object \n 38  waterpoint_type        59400 non-null  object \n 39  waterpoint_type_group  59400 non-null  object \n 40  status_group           59400 non-null  object \ndtypes: float64(3), int64(7), object(31)\nmemory usage: 19.0+ MB\n"
     ]
    }
   ],
   "source": [
    "# Get Datatype info for the features (X variables) and target Y\n",
    "train.info()"
   ]
  },
  {
   "cell_type": "code",
   "execution_count": 6,
   "metadata": {},
   "outputs": [
    {
     "output_type": "execute_result",
     "data": {
      "text/plain": [
       "Index(['funder', 'installer', 'subvillage', 'public_meeting',\n",
       "       'scheme_management', 'scheme_name', 'permit'],\n",
       "      dtype='object')"
      ]
     },
     "metadata": {},
     "execution_count": 6
    }
   ],
   "source": [
    "# Are there any columns with missing values?\n",
    "missing_fields = train.columns[train.isnull().any()]\n",
    "missing_fields"
   ]
  },
  {
   "cell_type": "code",
   "execution_count": 7,
   "metadata": {},
   "outputs": [
    {
     "output_type": "execute_result",
     "data": {
      "text/plain": [
       "funder                3635\n",
       "installer             3655\n",
       "subvillage             371\n",
       "public_meeting        3334\n",
       "scheme_management     3877\n",
       "scheme_name          28166\n",
       "permit                3056\n",
       "dtype: int64"
      ]
     },
     "metadata": {},
     "execution_count": 7
    }
   ],
   "source": [
    "# How many missing values are there?\n",
    "train[missing_fields].isnull().sum()"
   ]
  },
  {
   "cell_type": "code",
   "execution_count": 8,
   "metadata": {},
   "outputs": [
    {
     "output_type": "execute_result",
     "data": {
      "text/plain": [
       "K                             682\n",
       "None                          644\n",
       "Borehole                      546\n",
       "Chalinze wate                 405\n",
       "M                             400\n",
       "                             ... \n",
       "Sero water scheme               1\n",
       "Kibaon                          1\n",
       "Kasahunga pipe scheme           1\n",
       "NYA /MAK BUK/ piped scheme      1\n",
       "nyaluhande                      1\n",
       "Name: scheme_name, Length: 2696, dtype: int64"
      ]
     },
     "metadata": {},
     "execution_count": 8
    }
   ],
   "source": [
    "train['scheme_name'].value_counts()"
   ]
  },
  {
   "cell_type": "code",
   "execution_count": 9,
   "metadata": {},
   "outputs": [],
   "source": [
    "scheme_name_missing = train['scheme_name'].fillna(\"missing\")\n",
    "scheme_name_missing_count = scheme_name_missing.value_counts()\n",
    "\n",
    "# Save in Excel\n",
    "scheme_name_missing_count.to_excel('PumpItUp - scheme_name_missing_count.xlsx')"
   ]
  },
  {
   "cell_type": "code",
   "execution_count": 10,
   "metadata": {},
   "outputs": [
    {
     "output_type": "execute_result",
     "data": {
      "text/plain": [
       "Government Of Tanzania          9084\n",
       "Danida                          3114\n",
       "Hesawa                          2202\n",
       "Rwssp                           1374\n",
       "World Bank                      1349\n",
       "                                ... \n",
       "Ms-danish                          1\n",
       "Mhuzu                              1\n",
       "Kitiangare Village Community       1\n",
       "Wamissionari Wa Kikatoriki         1\n",
       "Sema S                             1\n",
       "Name: funder, Length: 1897, dtype: int64"
      ]
     },
     "metadata": {},
     "execution_count": 10
    }
   ],
   "source": [
    "train['funder'].value_counts()"
   ]
  },
  {
   "cell_type": "code",
   "execution_count": 11,
   "metadata": {},
   "outputs": [],
   "source": [
    "funder_missing = train['funder'].fillna(\"missing\")\n",
    "funder_missing_count = funder_missing.value_counts()\n",
    "\n",
    "# Save in Excel\n",
    "funder_missing_count.to_excel('PumpItUp - funder_missing_count.xlsx')"
   ]
  },
  {
   "cell_type": "markdown",
   "metadata": {},
   "source": [
    "Far too many categories for `funder` and `scheme_name` and the values don't make much sense.. I am going to exclude this field."
   ]
  },
  {
   "cell_type": "code",
   "execution_count": 12,
   "metadata": {},
   "outputs": [
    {
     "output_type": "execute_result",
     "data": {
      "text/plain": [
       "VWC                 36793\n",
       "WUG                  5206\n",
       "Water authority      3153\n",
       "WUA                  2883\n",
       "Water Board          2748\n",
       "Parastatal           1680\n",
       "Private operator     1063\n",
       "Company              1061\n",
       "Other                 766\n",
       "SWC                    97\n",
       "Trust                  72\n",
       "None                    1\n",
       "Name: scheme_management, dtype: int64"
      ]
     },
     "metadata": {},
     "execution_count": 12
    }
   ],
   "source": [
    "train['scheme_management'].value_counts()"
   ]
  },
  {
   "cell_type": "code",
   "execution_count": 13,
   "metadata": {},
   "outputs": [
    {
     "output_type": "execute_result",
     "data": {
      "text/plain": [
       "True     51011\n",
       "False     5055\n",
       "Name: public_meeting, dtype: int64"
      ]
     },
     "metadata": {},
     "execution_count": 13
    }
   ],
   "source": [
    "train['public_meeting'].value_counts()"
   ]
  },
  {
   "cell_type": "code",
   "execution_count": 14,
   "metadata": {},
   "outputs": [
    {
     "output_type": "execute_result",
     "data": {
      "text/plain": [
       "False    56066\n",
       "True      3334\n",
       "Name: public_meeting, dtype: int64"
      ]
     },
     "metadata": {},
     "execution_count": 14
    }
   ],
   "source": [
    "public_meeting_missing = train['public_meeting'].isna()\n",
    "public_meeting_missing.value_counts()"
   ]
  },
  {
   "cell_type": "markdown",
   "metadata": {},
   "source": [
    "Since the `public_meeting` field is an integer field, the missing rows of 3334 can be changed to **\"True\"** as there are 51011 out of 59400 that are **\"True\"** and 5055 out of 59400 are **\"False\"**.\n",
    "To avoid tipping the scales to the other side, imputing missing values to be **\"True\"** is the best decision for `public_meeting`."
   ]
  },
  {
   "cell_type": "code",
   "execution_count": 15,
   "metadata": {},
   "outputs": [
    {
     "output_type": "execute_result",
     "data": {
      "text/plain": [
       "True     54345\n",
       "False     5055\n",
       "Name: public_meeting, dtype: int64"
      ]
     },
     "metadata": {},
     "execution_count": 15
    }
   ],
   "source": [
    "train['public_meeting'] = train['public_meeting'].fillna(True)\n",
    "train['public_meeting'].value_counts()"
   ]
  },
  {
   "cell_type": "code",
   "execution_count": 16,
   "metadata": {},
   "outputs": [
    {
     "output_type": "execute_result",
     "data": {
      "text/plain": [
       "0"
      ]
     },
     "metadata": {},
     "execution_count": 16
    }
   ],
   "source": [
    "# Checking if this worked...\n",
    "train['public_meeting'].isna().sum()"
   ]
  },
  {
   "cell_type": "code",
   "execution_count": 17,
   "metadata": {},
   "outputs": [
    {
     "output_type": "execute_result",
     "data": {
      "text/plain": [
       "True     38852\n",
       "False    17492\n",
       "Name: permit, dtype: int64"
      ]
     },
     "metadata": {},
     "execution_count": 17
    }
   ],
   "source": [
    "train['permit'].value_counts()"
   ]
  },
  {
   "cell_type": "code",
   "execution_count": 18,
   "metadata": {},
   "outputs": [
    {
     "output_type": "execute_result",
     "data": {
      "text/plain": [
       "False    56344\n",
       "True      3056\n",
       "Name: permit, dtype: int64"
      ]
     },
     "metadata": {},
     "execution_count": 18
    }
   ],
   "source": [
    "permit_missing = train['permit'].isna()\n",
    "permit_missing.value_counts()"
   ]
  },
  {
   "cell_type": "markdown",
   "metadata": {},
   "source": [
    "Since the `permit` field is an integer field, the missing rows of 3056 can be changed to **\"True\"** as there are 38852 out of 59400 that are **\"True\"** and 17492 out of 59400 are **\"False\"**.\n",
    "To avoid tipping the scales to the other side, imputing missing values to be **\"True\"** is the best decision for `permit`."
   ]
  },
  {
   "cell_type": "code",
   "execution_count": 19,
   "metadata": {},
   "outputs": [
    {
     "output_type": "execute_result",
     "data": {
      "text/plain": [
       "True     41908\n",
       "False    17492\n",
       "Name: permit, dtype: int64"
      ]
     },
     "metadata": {},
     "execution_count": 19
    }
   ],
   "source": [
    "train['permit'] = train['permit'].fillna(True)\n",
    "train['permit'].value_counts()"
   ]
  },
  {
   "cell_type": "code",
   "execution_count": 20,
   "metadata": {},
   "outputs": [
    {
     "output_type": "execute_result",
     "data": {
      "text/plain": [
       "0"
      ]
     },
     "metadata": {},
     "execution_count": 20
    }
   ],
   "source": [
    "# Checking if this worked...\n",
    "train['permit'].isna().sum()"
   ]
  },
  {
   "cell_type": "code",
   "execution_count": 21,
   "metadata": {},
   "outputs": [
    {
     "output_type": "execute_result",
     "data": {
      "text/plain": [
       "funder                3635\n",
       "installer             3655\n",
       "subvillage             371\n",
       "public_meeting           0\n",
       "scheme_management     3877\n",
       "scheme_name          28166\n",
       "permit                   0\n",
       "dtype: int64"
      ]
     },
     "metadata": {},
     "execution_count": 21
    }
   ],
   "source": [
    "# How many missing values are there?\n",
    "train[missing_fields].isnull().sum()"
   ]
  },
  {
   "cell_type": "markdown",
   "metadata": {},
   "source": [
    "From the missing values section, we were able to impute values for `public_meeting` and `permit` as they both were boolean fields and should only have values **True** and **False**. We will now look at the descriptive statistics and feature engineering steps.\n",
    "\n",
    "In those steps, we would be able to further break-down the multiple categories for the above mentioned fields: `installer`,`subvillage`,`scheme_management`. \n",
    "\n",
    "For `funder` and `scheme_name`, there are far too many categories. There are also some very sparse category names which makes it unclear. Due to this uncertainty, we can exclude these 2 fields during model building."
   ]
  },
  {
   "cell_type": "markdown",
   "metadata": {},
   "source": [
    "## Descriptive Statistics"
   ]
  },
  {
   "cell_type": "code",
   "execution_count": 22,
   "metadata": {},
   "outputs": [
    {
     "output_type": "execute_result",
     "data": {
      "text/plain": [
       "                 id     amount_tsh    gps_height     longitude      latitude  \\\n",
       "count  59400.000000   59400.000000  59400.000000  59400.000000  5.940000e+04   \n",
       "mean   37115.131768     317.650385    668.297239     34.077427 -5.706033e+00   \n",
       "std    21453.128371    2997.574558    693.116350      6.567432  2.946019e+00   \n",
       "min        0.000000       0.000000    -90.000000      0.000000 -1.164944e+01   \n",
       "25%    18519.750000       0.000000      0.000000     33.090347 -8.540621e+00   \n",
       "50%    37061.500000       0.000000    369.000000     34.908743 -5.021597e+00   \n",
       "75%    55656.500000      20.000000   1319.250000     37.178387 -3.326156e+00   \n",
       "max    74247.000000  350000.000000   2770.000000     40.345193 -2.000000e-08   \n",
       "\n",
       "        num_private   region_code  district_code    population  \\\n",
       "count  59400.000000  59400.000000   59400.000000  59400.000000   \n",
       "mean       0.474141     15.297003       5.629747    179.909983   \n",
       "std       12.236230     17.587406       9.633649    471.482176   \n",
       "min        0.000000      1.000000       0.000000      0.000000   \n",
       "25%        0.000000      5.000000       2.000000      0.000000   \n",
       "50%        0.000000     12.000000       3.000000     25.000000   \n",
       "75%        0.000000     17.000000       5.000000    215.000000   \n",
       "max     1776.000000     99.000000      80.000000  30500.000000   \n",
       "\n",
       "       construction_year  \n",
       "count       59400.000000  \n",
       "mean         1300.652475  \n",
       "std           951.620547  \n",
       "min             0.000000  \n",
       "25%             0.000000  \n",
       "50%          1986.000000  \n",
       "75%          2004.000000  \n",
       "max          2013.000000  "
      ],
      "text/html": "<div>\n<style scoped>\n    .dataframe tbody tr th:only-of-type {\n        vertical-align: middle;\n    }\n\n    .dataframe tbody tr th {\n        vertical-align: top;\n    }\n\n    .dataframe thead th {\n        text-align: right;\n    }\n</style>\n<table border=\"1\" class=\"dataframe\">\n  <thead>\n    <tr style=\"text-align: right;\">\n      <th></th>\n      <th>id</th>\n      <th>amount_tsh</th>\n      <th>gps_height</th>\n      <th>longitude</th>\n      <th>latitude</th>\n      <th>num_private</th>\n      <th>region_code</th>\n      <th>district_code</th>\n      <th>population</th>\n      <th>construction_year</th>\n    </tr>\n  </thead>\n  <tbody>\n    <tr>\n      <th>count</th>\n      <td>59400.000000</td>\n      <td>59400.000000</td>\n      <td>59400.000000</td>\n      <td>59400.000000</td>\n      <td>5.940000e+04</td>\n      <td>59400.000000</td>\n      <td>59400.000000</td>\n      <td>59400.000000</td>\n      <td>59400.000000</td>\n      <td>59400.000000</td>\n    </tr>\n    <tr>\n      <th>mean</th>\n      <td>37115.131768</td>\n      <td>317.650385</td>\n      <td>668.297239</td>\n      <td>34.077427</td>\n      <td>-5.706033e+00</td>\n      <td>0.474141</td>\n      <td>15.297003</td>\n      <td>5.629747</td>\n      <td>179.909983</td>\n      <td>1300.652475</td>\n    </tr>\n    <tr>\n      <th>std</th>\n      <td>21453.128371</td>\n      <td>2997.574558</td>\n      <td>693.116350</td>\n      <td>6.567432</td>\n      <td>2.946019e+00</td>\n      <td>12.236230</td>\n      <td>17.587406</td>\n      <td>9.633649</td>\n      <td>471.482176</td>\n      <td>951.620547</td>\n    </tr>\n    <tr>\n      <th>min</th>\n      <td>0.000000</td>\n      <td>0.000000</td>\n      <td>-90.000000</td>\n      <td>0.000000</td>\n      <td>-1.164944e+01</td>\n      <td>0.000000</td>\n      <td>1.000000</td>\n      <td>0.000000</td>\n      <td>0.000000</td>\n      <td>0.000000</td>\n    </tr>\n    <tr>\n      <th>25%</th>\n      <td>18519.750000</td>\n      <td>0.000000</td>\n      <td>0.000000</td>\n      <td>33.090347</td>\n      <td>-8.540621e+00</td>\n      <td>0.000000</td>\n      <td>5.000000</td>\n      <td>2.000000</td>\n      <td>0.000000</td>\n      <td>0.000000</td>\n    </tr>\n    <tr>\n      <th>50%</th>\n      <td>37061.500000</td>\n      <td>0.000000</td>\n      <td>369.000000</td>\n      <td>34.908743</td>\n      <td>-5.021597e+00</td>\n      <td>0.000000</td>\n      <td>12.000000</td>\n      <td>3.000000</td>\n      <td>25.000000</td>\n      <td>1986.000000</td>\n    </tr>\n    <tr>\n      <th>75%</th>\n      <td>55656.500000</td>\n      <td>20.000000</td>\n      <td>1319.250000</td>\n      <td>37.178387</td>\n      <td>-3.326156e+00</td>\n      <td>0.000000</td>\n      <td>17.000000</td>\n      <td>5.000000</td>\n      <td>215.000000</td>\n      <td>2004.000000</td>\n    </tr>\n    <tr>\n      <th>max</th>\n      <td>74247.000000</td>\n      <td>350000.000000</td>\n      <td>2770.000000</td>\n      <td>40.345193</td>\n      <td>-2.000000e-08</td>\n      <td>1776.000000</td>\n      <td>99.000000</td>\n      <td>80.000000</td>\n      <td>30500.000000</td>\n      <td>2013.000000</td>\n    </tr>\n  </tbody>\n</table>\n</div>"
     },
     "metadata": {},
     "execution_count": 22
    }
   ],
   "source": [
    "train.describe()"
   ]
  },
  {
   "cell_type": "markdown",
   "metadata": {},
   "source": [
    "**Why would `construction_year` be 0?**"
   ]
  },
  {
   "cell_type": "code",
   "execution_count": 23,
   "metadata": {},
   "outputs": [
    {
     "output_type": "execute_result",
     "data": {
      "text/plain": [
       "          id  amount_tsh date_recorded                  funder  gps_height  \\\n",
       "4      19728         0.0    2011-07-13             Action In A           0   \n",
       "6      19816         0.0    2012-10-01                    Dwsp           0   \n",
       "7      54551         0.0    2012-10-09                   Rwssp           0   \n",
       "8      53934         0.0    2012-11-03                Wateraid           0   \n",
       "9      46144         0.0    2011-08-03             Isingiro Ho           0   \n",
       "...      ...         ...           ...                     ...         ...   \n",
       "59384  72148         0.0    2011-07-10                 Concern           0   \n",
       "59392  40607         0.0    2011-04-15  Government Of Tanzania           0   \n",
       "59393  48348         0.0    2012-10-27                 Private           0   \n",
       "59397  37057         0.0    2011-04-11                     NaN           0   \n",
       "59398  31282         0.0    2011-03-08                   Malec           0   \n",
       "\n",
       "        installer  longitude  latitude           wpt_name  num_private  ...  \\\n",
       "4         Artisan  31.130847 -1.825359            Shuleni            0  ...   \n",
       "6            DWSP  33.362410 -3.766365         Kwa Ngomho            0  ...   \n",
       "7             DWE  32.620617 -4.226198       Tushirikiane            0  ...   \n",
       "8       Water Aid  32.711100 -5.146712  Kwa Ramadhan Musa            0  ...   \n",
       "9         Artisan  30.626991 -1.257051            Kwapeto            0  ...   \n",
       "...           ...        ...       ...                ...          ...  ...   \n",
       "59384     CONCERN  30.667805 -2.483710           Chamkube            0  ...   \n",
       "59392  Government  33.009440 -8.520888     Benard Charles            0  ...   \n",
       "59393     Private  33.866852 -4.287410          Kwa Peter            0  ...   \n",
       "59397         NaN  34.017087 -8.750434            Mashine            0  ...   \n",
       "59398        Musa  35.861315 -6.378573             Mshoro            0  ...   \n",
       "\n",
       "      water_quality quality_group      quantity  quantity_group  \\\n",
       "4              soft          good      seasonal        seasonal   \n",
       "6              soft          good        enough          enough   \n",
       "7             milky         milky        enough          enough   \n",
       "8             salty         salty      seasonal        seasonal   \n",
       "9              soft          good        enough          enough   \n",
       "...             ...           ...           ...             ...   \n",
       "59384          soft          good  insufficient    insufficient   \n",
       "59392          soft          good        enough          enough   \n",
       "59393          soft          good  insufficient    insufficient   \n",
       "59397      fluoride      fluoride        enough          enough   \n",
       "59398          soft          good  insufficient    insufficient   \n",
       "\n",
       "                     source           source_type source_class  \\\n",
       "4      rainwater harvesting  rainwater harvesting      surface   \n",
       "6               machine dbh              borehole  groundwater   \n",
       "7              shallow well          shallow well  groundwater   \n",
       "8               machine dbh              borehole  groundwater   \n",
       "9              shallow well          shallow well  groundwater   \n",
       "...                     ...                   ...          ...   \n",
       "59384                spring                spring  groundwater   \n",
       "59392                spring                spring  groundwater   \n",
       "59393                   dam                   dam      surface   \n",
       "59397           machine dbh              borehole  groundwater   \n",
       "59398          shallow well          shallow well  groundwater   \n",
       "\n",
       "          waterpoint_type  waterpoint_type_group    status_group  \n",
       "4      communal standpipe     communal standpipe      functional  \n",
       "6               hand pump              hand pump  non functional  \n",
       "7               hand pump              hand pump  non functional  \n",
       "8               hand pump              hand pump  non functional  \n",
       "9               hand pump              hand pump      functional  \n",
       "...                   ...                    ...             ...  \n",
       "59384  communal standpipe     communal standpipe  non functional  \n",
       "59392  communal standpipe     communal standpipe  non functional  \n",
       "59393               other                  other      functional  \n",
       "59397           hand pump              hand pump      functional  \n",
       "59398           hand pump              hand pump      functional  \n",
       "\n",
       "[20709 rows x 41 columns]"
      ],
      "text/html": "<div>\n<style scoped>\n    .dataframe tbody tr th:only-of-type {\n        vertical-align: middle;\n    }\n\n    .dataframe tbody tr th {\n        vertical-align: top;\n    }\n\n    .dataframe thead th {\n        text-align: right;\n    }\n</style>\n<table border=\"1\" class=\"dataframe\">\n  <thead>\n    <tr style=\"text-align: right;\">\n      <th></th>\n      <th>id</th>\n      <th>amount_tsh</th>\n      <th>date_recorded</th>\n      <th>funder</th>\n      <th>gps_height</th>\n      <th>installer</th>\n      <th>longitude</th>\n      <th>latitude</th>\n      <th>wpt_name</th>\n      <th>num_private</th>\n      <th>...</th>\n      <th>water_quality</th>\n      <th>quality_group</th>\n      <th>quantity</th>\n      <th>quantity_group</th>\n      <th>source</th>\n      <th>source_type</th>\n      <th>source_class</th>\n      <th>waterpoint_type</th>\n      <th>waterpoint_type_group</th>\n      <th>status_group</th>\n    </tr>\n  </thead>\n  <tbody>\n    <tr>\n      <th>4</th>\n      <td>19728</td>\n      <td>0.0</td>\n      <td>2011-07-13</td>\n      <td>Action In A</td>\n      <td>0</td>\n      <td>Artisan</td>\n      <td>31.130847</td>\n      <td>-1.825359</td>\n      <td>Shuleni</td>\n      <td>0</td>\n      <td>...</td>\n      <td>soft</td>\n      <td>good</td>\n      <td>seasonal</td>\n      <td>seasonal</td>\n      <td>rainwater harvesting</td>\n      <td>rainwater harvesting</td>\n      <td>surface</td>\n      <td>communal standpipe</td>\n      <td>communal standpipe</td>\n      <td>functional</td>\n    </tr>\n    <tr>\n      <th>6</th>\n      <td>19816</td>\n      <td>0.0</td>\n      <td>2012-10-01</td>\n      <td>Dwsp</td>\n      <td>0</td>\n      <td>DWSP</td>\n      <td>33.362410</td>\n      <td>-3.766365</td>\n      <td>Kwa Ngomho</td>\n      <td>0</td>\n      <td>...</td>\n      <td>soft</td>\n      <td>good</td>\n      <td>enough</td>\n      <td>enough</td>\n      <td>machine dbh</td>\n      <td>borehole</td>\n      <td>groundwater</td>\n      <td>hand pump</td>\n      <td>hand pump</td>\n      <td>non functional</td>\n    </tr>\n    <tr>\n      <th>7</th>\n      <td>54551</td>\n      <td>0.0</td>\n      <td>2012-10-09</td>\n      <td>Rwssp</td>\n      <td>0</td>\n      <td>DWE</td>\n      <td>32.620617</td>\n      <td>-4.226198</td>\n      <td>Tushirikiane</td>\n      <td>0</td>\n      <td>...</td>\n      <td>milky</td>\n      <td>milky</td>\n      <td>enough</td>\n      <td>enough</td>\n      <td>shallow well</td>\n      <td>shallow well</td>\n      <td>groundwater</td>\n      <td>hand pump</td>\n      <td>hand pump</td>\n      <td>non functional</td>\n    </tr>\n    <tr>\n      <th>8</th>\n      <td>53934</td>\n      <td>0.0</td>\n      <td>2012-11-03</td>\n      <td>Wateraid</td>\n      <td>0</td>\n      <td>Water Aid</td>\n      <td>32.711100</td>\n      <td>-5.146712</td>\n      <td>Kwa Ramadhan Musa</td>\n      <td>0</td>\n      <td>...</td>\n      <td>salty</td>\n      <td>salty</td>\n      <td>seasonal</td>\n      <td>seasonal</td>\n      <td>machine dbh</td>\n      <td>borehole</td>\n      <td>groundwater</td>\n      <td>hand pump</td>\n      <td>hand pump</td>\n      <td>non functional</td>\n    </tr>\n    <tr>\n      <th>9</th>\n      <td>46144</td>\n      <td>0.0</td>\n      <td>2011-08-03</td>\n      <td>Isingiro Ho</td>\n      <td>0</td>\n      <td>Artisan</td>\n      <td>30.626991</td>\n      <td>-1.257051</td>\n      <td>Kwapeto</td>\n      <td>0</td>\n      <td>...</td>\n      <td>soft</td>\n      <td>good</td>\n      <td>enough</td>\n      <td>enough</td>\n      <td>shallow well</td>\n      <td>shallow well</td>\n      <td>groundwater</td>\n      <td>hand pump</td>\n      <td>hand pump</td>\n      <td>functional</td>\n    </tr>\n    <tr>\n      <th>...</th>\n      <td>...</td>\n      <td>...</td>\n      <td>...</td>\n      <td>...</td>\n      <td>...</td>\n      <td>...</td>\n      <td>...</td>\n      <td>...</td>\n      <td>...</td>\n      <td>...</td>\n      <td>...</td>\n      <td>...</td>\n      <td>...</td>\n      <td>...</td>\n      <td>...</td>\n      <td>...</td>\n      <td>...</td>\n      <td>...</td>\n      <td>...</td>\n      <td>...</td>\n      <td>...</td>\n    </tr>\n    <tr>\n      <th>59384</th>\n      <td>72148</td>\n      <td>0.0</td>\n      <td>2011-07-10</td>\n      <td>Concern</td>\n      <td>0</td>\n      <td>CONCERN</td>\n      <td>30.667805</td>\n      <td>-2.483710</td>\n      <td>Chamkube</td>\n      <td>0</td>\n      <td>...</td>\n      <td>soft</td>\n      <td>good</td>\n      <td>insufficient</td>\n      <td>insufficient</td>\n      <td>spring</td>\n      <td>spring</td>\n      <td>groundwater</td>\n      <td>communal standpipe</td>\n      <td>communal standpipe</td>\n      <td>non functional</td>\n    </tr>\n    <tr>\n      <th>59392</th>\n      <td>40607</td>\n      <td>0.0</td>\n      <td>2011-04-15</td>\n      <td>Government Of Tanzania</td>\n      <td>0</td>\n      <td>Government</td>\n      <td>33.009440</td>\n      <td>-8.520888</td>\n      <td>Benard Charles</td>\n      <td>0</td>\n      <td>...</td>\n      <td>soft</td>\n      <td>good</td>\n      <td>enough</td>\n      <td>enough</td>\n      <td>spring</td>\n      <td>spring</td>\n      <td>groundwater</td>\n      <td>communal standpipe</td>\n      <td>communal standpipe</td>\n      <td>non functional</td>\n    </tr>\n    <tr>\n      <th>59393</th>\n      <td>48348</td>\n      <td>0.0</td>\n      <td>2012-10-27</td>\n      <td>Private</td>\n      <td>0</td>\n      <td>Private</td>\n      <td>33.866852</td>\n      <td>-4.287410</td>\n      <td>Kwa Peter</td>\n      <td>0</td>\n      <td>...</td>\n      <td>soft</td>\n      <td>good</td>\n      <td>insufficient</td>\n      <td>insufficient</td>\n      <td>dam</td>\n      <td>dam</td>\n      <td>surface</td>\n      <td>other</td>\n      <td>other</td>\n      <td>functional</td>\n    </tr>\n    <tr>\n      <th>59397</th>\n      <td>37057</td>\n      <td>0.0</td>\n      <td>2011-04-11</td>\n      <td>NaN</td>\n      <td>0</td>\n      <td>NaN</td>\n      <td>34.017087</td>\n      <td>-8.750434</td>\n      <td>Mashine</td>\n      <td>0</td>\n      <td>...</td>\n      <td>fluoride</td>\n      <td>fluoride</td>\n      <td>enough</td>\n      <td>enough</td>\n      <td>machine dbh</td>\n      <td>borehole</td>\n      <td>groundwater</td>\n      <td>hand pump</td>\n      <td>hand pump</td>\n      <td>functional</td>\n    </tr>\n    <tr>\n      <th>59398</th>\n      <td>31282</td>\n      <td>0.0</td>\n      <td>2011-03-08</td>\n      <td>Malec</td>\n      <td>0</td>\n      <td>Musa</td>\n      <td>35.861315</td>\n      <td>-6.378573</td>\n      <td>Mshoro</td>\n      <td>0</td>\n      <td>...</td>\n      <td>soft</td>\n      <td>good</td>\n      <td>insufficient</td>\n      <td>insufficient</td>\n      <td>shallow well</td>\n      <td>shallow well</td>\n      <td>groundwater</td>\n      <td>hand pump</td>\n      <td>hand pump</td>\n      <td>functional</td>\n    </tr>\n  </tbody>\n</table>\n<p>20709 rows × 41 columns</p>\n</div>"
     },
     "metadata": {},
     "execution_count": 23
    }
   ],
   "source": [
    "construction_year_check = train[train['construction_year'] == 0]\n",
    "construction_year_check"
   ]
  },
  {
   "cell_type": "code",
   "execution_count": 24,
   "metadata": {},
   "outputs": [
    {
     "output_type": "execute_result",
     "data": {
      "text/plain": [
       "(20709, 41)"
      ]
     },
     "metadata": {},
     "execution_count": 24
    }
   ],
   "source": [
    "# 20709 rows have the construction_year as 0... This is not good....\n",
    "construction_year_check.shape"
   ]
  },
  {
   "cell_type": "code",
   "execution_count": 25,
   "metadata": {},
   "outputs": [
    {
     "output_type": "execute_result",
     "data": {
      "text/plain": [
       "(-2.014, 167.75]     20709\n",
       "(167.75, 335.5]          0\n",
       "(335.5, 503.25]          0\n",
       "(503.25, 671.0]          0\n",
       "(671.0, 838.75]          0\n",
       "(838.75, 1006.5]         0\n",
       "(1006.5, 1174.25]        0\n",
       "(1174.25, 1342.0]        0\n",
       "(1342.0, 1509.75]        0\n",
       "(1509.75, 1677.5]        0\n",
       "(1677.5, 1845.25]        0\n",
       "(1845.25, 2013.0]    38691\n",
       "Name: construction_year, dtype: int64"
      ]
     },
     "metadata": {},
     "execution_count": 25
    }
   ],
   "source": [
    "train['construction_year'].value_counts(bins=12).sort_index(ascending=True)"
   ]
  },
  {
   "cell_type": "code",
   "execution_count": 26,
   "metadata": {},
   "outputs": [
    {
     "output_type": "display_data",
     "data": {
      "text/plain": "<Figure size 432x288 with 1 Axes>",
      "image/svg+xml": "<?xml version=\"1.0\" encoding=\"utf-8\" standalone=\"no\"?>\n<!DOCTYPE svg PUBLIC \"-//W3C//DTD SVG 1.1//EN\"\n  \"http://www.w3.org/Graphics/SVG/1.1/DTD/svg11.dtd\">\n<!-- Created with matplotlib (http://matplotlib.org/) -->\n<svg height=\"326.480625pt\" version=\"1.1\" viewBox=\"0 0 405.190625 326.480625\" width=\"405.190625pt\" xmlns=\"http://www.w3.org/2000/svg\" xmlns:xlink=\"http://www.w3.org/1999/xlink\">\n <defs>\n  <style type=\"text/css\">\n*{stroke-linecap:butt;stroke-linejoin:round;}\n  </style>\n </defs>\n <g id=\"figure_1\">\n  <g id=\"patch_1\">\n   <path d=\"M 0 326.480625 \nL 405.190625 326.480625 \nL 405.190625 0 \nL 0 0 \nz\n\" style=\"fill:none;\"/>\n  </g>\n  <g id=\"axes_1\">\n   <g id=\"patch_2\">\n    <path d=\"M 59.690625 228.14 \nL 394.490625 228.14 \nL 394.490625 10.7 \nL 59.690625 10.7 \nz\n\" style=\"fill:#ffffff;\"/>\n   </g>\n   <g id=\"matplotlib.axis_1\">\n    <g id=\"xtick_1\">\n     <g id=\"line2d_1\">\n      <defs>\n       <path d=\"M 0 0 \nL 0 3.5 \n\" id=\"m0f0d419afc\" style=\"stroke:#000000;stroke-width:0.8;\"/>\n      </defs>\n      <g>\n       <use style=\"stroke:#000000;stroke-width:0.8;\" x=\"74.908807\" xlink:href=\"#m0f0d419afc\" y=\"228.14\"/>\n      </g>\n     </g>\n     <g id=\"text_1\">\n      <!-- (-2.014, 91.5] -->\n      <defs>\n       <path d=\"M 31 75.875 \nQ 24.46875 64.65625 21.28125 53.65625 \nQ 18.109375 42.671875 18.109375 31.390625 \nQ 18.109375 20.125 21.3125 9.0625 \nQ 24.515625 -2 31 -13.1875 \nL 23.1875 -13.1875 \nQ 15.875 -1.703125 12.234375 9.375 \nQ 8.59375 20.453125 8.59375 31.390625 \nQ 8.59375 42.28125 12.203125 53.3125 \nQ 15.828125 64.359375 23.1875 75.875 \nz\n\" id=\"DejaVuSans-28\"/>\n       <path d=\"M 4.890625 31.390625 \nL 31.203125 31.390625 \nL 31.203125 23.390625 \nL 4.890625 23.390625 \nz\n\" id=\"DejaVuSans-2d\"/>\n       <path d=\"M 19.1875 8.296875 \nL 53.609375 8.296875 \nL 53.609375 0 \nL 7.328125 0 \nL 7.328125 8.296875 \nQ 12.9375 14.109375 22.625 23.890625 \nQ 32.328125 33.6875 34.8125 36.53125 \nQ 39.546875 41.84375 41.421875 45.53125 \nQ 43.3125 49.21875 43.3125 52.78125 \nQ 43.3125 58.59375 39.234375 62.25 \nQ 35.15625 65.921875 28.609375 65.921875 \nQ 23.96875 65.921875 18.8125 64.3125 \nQ 13.671875 62.703125 7.8125 59.421875 \nL 7.8125 69.390625 \nQ 13.765625 71.78125 18.9375 73 \nQ 24.125 74.21875 28.421875 74.21875 \nQ 39.75 74.21875 46.484375 68.546875 \nQ 53.21875 62.890625 53.21875 53.421875 \nQ 53.21875 48.921875 51.53125 44.890625 \nQ 49.859375 40.875 45.40625 35.40625 \nQ 44.1875 33.984375 37.640625 27.21875 \nQ 31.109375 20.453125 19.1875 8.296875 \nz\n\" id=\"DejaVuSans-32\"/>\n       <path d=\"M 10.6875 12.40625 \nL 21 12.40625 \nL 21 0 \nL 10.6875 0 \nz\n\" id=\"DejaVuSans-2e\"/>\n       <path d=\"M 31.78125 66.40625 \nQ 24.171875 66.40625 20.328125 58.90625 \nQ 16.5 51.421875 16.5 36.375 \nQ 16.5 21.390625 20.328125 13.890625 \nQ 24.171875 6.390625 31.78125 6.390625 \nQ 39.453125 6.390625 43.28125 13.890625 \nQ 47.125 21.390625 47.125 36.375 \nQ 47.125 51.421875 43.28125 58.90625 \nQ 39.453125 66.40625 31.78125 66.40625 \nz\nM 31.78125 74.21875 \nQ 44.046875 74.21875 50.515625 64.515625 \nQ 56.984375 54.828125 56.984375 36.375 \nQ 56.984375 17.96875 50.515625 8.265625 \nQ 44.046875 -1.421875 31.78125 -1.421875 \nQ 19.53125 -1.421875 13.0625 8.265625 \nQ 6.59375 17.96875 6.59375 36.375 \nQ 6.59375 54.828125 13.0625 64.515625 \nQ 19.53125 74.21875 31.78125 74.21875 \nz\n\" id=\"DejaVuSans-30\"/>\n       <path d=\"M 12.40625 8.296875 \nL 28.515625 8.296875 \nL 28.515625 63.921875 \nL 10.984375 60.40625 \nL 10.984375 69.390625 \nL 28.421875 72.90625 \nL 38.28125 72.90625 \nL 38.28125 8.296875 \nL 54.390625 8.296875 \nL 54.390625 0 \nL 12.40625 0 \nz\n\" id=\"DejaVuSans-31\"/>\n       <path d=\"M 37.796875 64.3125 \nL 12.890625 25.390625 \nL 37.796875 25.390625 \nz\nM 35.203125 72.90625 \nL 47.609375 72.90625 \nL 47.609375 25.390625 \nL 58.015625 25.390625 \nL 58.015625 17.1875 \nL 47.609375 17.1875 \nL 47.609375 0 \nL 37.796875 0 \nL 37.796875 17.1875 \nL 4.890625 17.1875 \nL 4.890625 26.703125 \nz\n\" id=\"DejaVuSans-34\"/>\n       <path d=\"M 11.71875 12.40625 \nL 22.015625 12.40625 \nL 22.015625 4 \nL 14.015625 -11.625 \nL 7.71875 -11.625 \nL 11.71875 4 \nz\n\" id=\"DejaVuSans-2c\"/>\n       <path id=\"DejaVuSans-20\"/>\n       <path d=\"M 10.984375 1.515625 \nL 10.984375 10.5 \nQ 14.703125 8.734375 18.5 7.8125 \nQ 22.3125 6.890625 25.984375 6.890625 \nQ 35.75 6.890625 40.890625 13.453125 \nQ 46.046875 20.015625 46.78125 33.40625 \nQ 43.953125 29.203125 39.59375 26.953125 \nQ 35.25 24.703125 29.984375 24.703125 \nQ 19.046875 24.703125 12.671875 31.3125 \nQ 6.296875 37.9375 6.296875 49.421875 \nQ 6.296875 60.640625 12.9375 67.421875 \nQ 19.578125 74.21875 30.609375 74.21875 \nQ 43.265625 74.21875 49.921875 64.515625 \nQ 56.59375 54.828125 56.59375 36.375 \nQ 56.59375 19.140625 48.40625 8.859375 \nQ 40.234375 -1.421875 26.421875 -1.421875 \nQ 22.703125 -1.421875 18.890625 -0.6875 \nQ 15.09375 0.046875 10.984375 1.515625 \nz\nM 30.609375 32.421875 \nQ 37.25 32.421875 41.125 36.953125 \nQ 45.015625 41.5 45.015625 49.421875 \nQ 45.015625 57.28125 41.125 61.84375 \nQ 37.25 66.40625 30.609375 66.40625 \nQ 23.96875 66.40625 20.09375 61.84375 \nQ 16.21875 57.28125 16.21875 49.421875 \nQ 16.21875 41.5 20.09375 36.953125 \nQ 23.96875 32.421875 30.609375 32.421875 \nz\n\" id=\"DejaVuSans-39\"/>\n       <path d=\"M 10.796875 72.90625 \nL 49.515625 72.90625 \nL 49.515625 64.59375 \nL 19.828125 64.59375 \nL 19.828125 46.734375 \nQ 21.96875 47.46875 24.109375 47.828125 \nQ 26.265625 48.1875 28.421875 48.1875 \nQ 40.625 48.1875 47.75 41.5 \nQ 54.890625 34.8125 54.890625 23.390625 \nQ 54.890625 11.625 47.5625 5.09375 \nQ 40.234375 -1.421875 26.90625 -1.421875 \nQ 22.3125 -1.421875 17.546875 -0.640625 \nQ 12.796875 0.140625 7.71875 1.703125 \nL 7.71875 11.625 \nQ 12.109375 9.234375 16.796875 8.0625 \nQ 21.484375 6.890625 26.703125 6.890625 \nQ 35.15625 6.890625 40.078125 11.328125 \nQ 45.015625 15.765625 45.015625 23.390625 \nQ 45.015625 31 40.078125 35.4375 \nQ 35.15625 39.890625 26.703125 39.890625 \nQ 22.75 39.890625 18.8125 39.015625 \nQ 14.890625 38.140625 10.796875 36.28125 \nz\n\" id=\"DejaVuSans-35\"/>\n       <path d=\"M 30.421875 75.984375 \nL 30.421875 -13.1875 \nL 9.71875 -13.1875 \nL 9.71875 -6.203125 \nL 21.390625 -6.203125 \nL 21.390625 69 \nL 9.71875 69 \nL 9.71875 75.984375 \nz\n\" id=\"DejaVuSans-5d\"/>\n      </defs>\n      <g transform=\"translate(77.668182 303.800937)rotate(-90)scale(0.1 -0.1)\">\n       <use xlink:href=\"#DejaVuSans-28\"/>\n       <use x=\"39.013672\" xlink:href=\"#DejaVuSans-2d\"/>\n       <use x=\"75.097656\" xlink:href=\"#DejaVuSans-32\"/>\n       <use x=\"138.720703\" xlink:href=\"#DejaVuSans-2e\"/>\n       <use x=\"170.507812\" xlink:href=\"#DejaVuSans-30\"/>\n       <use x=\"234.130859\" xlink:href=\"#DejaVuSans-31\"/>\n       <use x=\"297.753906\" xlink:href=\"#DejaVuSans-34\"/>\n       <use x=\"361.376953\" xlink:href=\"#DejaVuSans-2c\"/>\n       <use x=\"393.164062\" xlink:href=\"#DejaVuSans-20\"/>\n       <use x=\"424.951172\" xlink:href=\"#DejaVuSans-39\"/>\n       <use x=\"488.574219\" xlink:href=\"#DejaVuSans-31\"/>\n       <use x=\"552.197266\" xlink:href=\"#DejaVuSans-2e\"/>\n       <use x=\"583.984375\" xlink:href=\"#DejaVuSans-35\"/>\n       <use x=\"647.607422\" xlink:href=\"#DejaVuSans-5d\"/>\n      </g>\n     </g>\n    </g>\n    <g id=\"xtick_2\">\n     <g id=\"line2d_2\">\n      <g>\n       <use style=\"stroke:#000000;stroke-width:0.8;\" x=\"147.376339\" xlink:href=\"#m0f0d419afc\" y=\"228.14\"/>\n      </g>\n     </g>\n     <g id=\"text_2\">\n      <!-- (457.5, 549.0] -->\n      <defs>\n       <path d=\"M 8.203125 72.90625 \nL 55.078125 72.90625 \nL 55.078125 68.703125 \nL 28.609375 0 \nL 18.3125 0 \nL 43.21875 64.59375 \nL 8.203125 64.59375 \nz\n\" id=\"DejaVuSans-37\"/>\n      </defs>\n      <g transform=\"translate(150.135714 306.555625)rotate(-90)scale(0.1 -0.1)\">\n       <use xlink:href=\"#DejaVuSans-28\"/>\n       <use x=\"39.013672\" xlink:href=\"#DejaVuSans-34\"/>\n       <use x=\"102.636719\" xlink:href=\"#DejaVuSans-35\"/>\n       <use x=\"166.259766\" xlink:href=\"#DejaVuSans-37\"/>\n       <use x=\"229.882812\" xlink:href=\"#DejaVuSans-2e\"/>\n       <use x=\"261.669922\" xlink:href=\"#DejaVuSans-35\"/>\n       <use x=\"325.292969\" xlink:href=\"#DejaVuSans-2c\"/>\n       <use x=\"357.080078\" xlink:href=\"#DejaVuSans-20\"/>\n       <use x=\"388.867188\" xlink:href=\"#DejaVuSans-35\"/>\n       <use x=\"452.490234\" xlink:href=\"#DejaVuSans-34\"/>\n       <use x=\"516.113281\" xlink:href=\"#DejaVuSans-39\"/>\n       <use x=\"579.736328\" xlink:href=\"#DejaVuSans-2e\"/>\n       <use x=\"611.523438\" xlink:href=\"#DejaVuSans-30\"/>\n       <use x=\"675.146484\" xlink:href=\"#DejaVuSans-5d\"/>\n      </g>\n     </g>\n    </g>\n    <g id=\"xtick_3\">\n     <g id=\"line2d_3\">\n      <g>\n       <use style=\"stroke:#000000;stroke-width:0.8;\" x=\"219.843872\" xlink:href=\"#m0f0d419afc\" y=\"228.14\"/>\n      </g>\n     </g>\n     <g id=\"text_3\">\n      <!-- (915.0, 1006.5] -->\n      <defs>\n       <path d=\"M 33.015625 40.375 \nQ 26.375 40.375 22.484375 35.828125 \nQ 18.609375 31.296875 18.609375 23.390625 \nQ 18.609375 15.53125 22.484375 10.953125 \nQ 26.375 6.390625 33.015625 6.390625 \nQ 39.65625 6.390625 43.53125 10.953125 \nQ 47.40625 15.53125 47.40625 23.390625 \nQ 47.40625 31.296875 43.53125 35.828125 \nQ 39.65625 40.375 33.015625 40.375 \nz\nM 52.59375 71.296875 \nL 52.59375 62.3125 \nQ 48.875 64.0625 45.09375 64.984375 \nQ 41.3125 65.921875 37.59375 65.921875 \nQ 27.828125 65.921875 22.671875 59.328125 \nQ 17.53125 52.734375 16.796875 39.40625 \nQ 19.671875 43.65625 24.015625 45.921875 \nQ 28.375 48.1875 33.59375 48.1875 \nQ 44.578125 48.1875 50.953125 41.515625 \nQ 57.328125 34.859375 57.328125 23.390625 \nQ 57.328125 12.15625 50.6875 5.359375 \nQ 44.046875 -1.421875 33.015625 -1.421875 \nQ 20.359375 -1.421875 13.671875 8.265625 \nQ 6.984375 17.96875 6.984375 36.375 \nQ 6.984375 53.65625 15.1875 63.9375 \nQ 23.390625 74.21875 37.203125 74.21875 \nQ 40.921875 74.21875 44.703125 73.484375 \nQ 48.484375 72.75 52.59375 71.296875 \nz\n\" id=\"DejaVuSans-36\"/>\n      </defs>\n      <g transform=\"translate(222.603247 312.918125)rotate(-90)scale(0.1 -0.1)\">\n       <use xlink:href=\"#DejaVuSans-28\"/>\n       <use x=\"39.013672\" xlink:href=\"#DejaVuSans-39\"/>\n       <use x=\"102.636719\" xlink:href=\"#DejaVuSans-31\"/>\n       <use x=\"166.259766\" xlink:href=\"#DejaVuSans-35\"/>\n       <use x=\"229.882812\" xlink:href=\"#DejaVuSans-2e\"/>\n       <use x=\"261.669922\" xlink:href=\"#DejaVuSans-30\"/>\n       <use x=\"325.292969\" xlink:href=\"#DejaVuSans-2c\"/>\n       <use x=\"357.080078\" xlink:href=\"#DejaVuSans-20\"/>\n       <use x=\"388.867188\" xlink:href=\"#DejaVuSans-31\"/>\n       <use x=\"452.490234\" xlink:href=\"#DejaVuSans-30\"/>\n       <use x=\"516.113281\" xlink:href=\"#DejaVuSans-30\"/>\n       <use x=\"579.736328\" xlink:href=\"#DejaVuSans-36\"/>\n       <use x=\"643.359375\" xlink:href=\"#DejaVuSans-2e\"/>\n       <use x=\"675.146484\" xlink:href=\"#DejaVuSans-35\"/>\n       <use x=\"738.769531\" xlink:href=\"#DejaVuSans-5d\"/>\n      </g>\n     </g>\n    </g>\n    <g id=\"xtick_4\">\n     <g id=\"line2d_4\">\n      <g>\n       <use style=\"stroke:#000000;stroke-width:0.8;\" x=\"292.311404\" xlink:href=\"#m0f0d419afc\" y=\"228.14\"/>\n      </g>\n     </g>\n     <g id=\"text_4\">\n      <!-- (1372.5, 1464.0] -->\n      <defs>\n       <path d=\"M 40.578125 39.3125 \nQ 47.65625 37.796875 51.625 33 \nQ 55.609375 28.21875 55.609375 21.1875 \nQ 55.609375 10.40625 48.1875 4.484375 \nQ 40.765625 -1.421875 27.09375 -1.421875 \nQ 22.515625 -1.421875 17.65625 -0.515625 \nQ 12.796875 0.390625 7.625 2.203125 \nL 7.625 11.71875 \nQ 11.71875 9.328125 16.59375 8.109375 \nQ 21.484375 6.890625 26.8125 6.890625 \nQ 36.078125 6.890625 40.9375 10.546875 \nQ 45.796875 14.203125 45.796875 21.1875 \nQ 45.796875 27.640625 41.28125 31.265625 \nQ 36.765625 34.90625 28.71875 34.90625 \nL 20.21875 34.90625 \nL 20.21875 43.015625 \nL 29.109375 43.015625 \nQ 36.375 43.015625 40.234375 45.921875 \nQ 44.09375 48.828125 44.09375 54.296875 \nQ 44.09375 59.90625 40.109375 62.90625 \nQ 36.140625 65.921875 28.71875 65.921875 \nQ 24.65625 65.921875 20.015625 65.03125 \nQ 15.375 64.15625 9.8125 62.3125 \nL 9.8125 71.09375 \nQ 15.4375 72.65625 20.34375 73.4375 \nQ 25.25 74.21875 29.59375 74.21875 \nQ 40.828125 74.21875 47.359375 69.109375 \nQ 53.90625 64.015625 53.90625 55.328125 \nQ 53.90625 49.265625 50.4375 45.09375 \nQ 46.96875 40.921875 40.578125 39.3125 \nz\n\" id=\"DejaVuSans-33\"/>\n      </defs>\n      <g transform=\"translate(295.070779 319.280625)rotate(-90)scale(0.1 -0.1)\">\n       <use xlink:href=\"#DejaVuSans-28\"/>\n       <use x=\"39.013672\" xlink:href=\"#DejaVuSans-31\"/>\n       <use x=\"102.636719\" xlink:href=\"#DejaVuSans-33\"/>\n       <use x=\"166.259766\" xlink:href=\"#DejaVuSans-37\"/>\n       <use x=\"229.882812\" xlink:href=\"#DejaVuSans-32\"/>\n       <use x=\"293.505859\" xlink:href=\"#DejaVuSans-2e\"/>\n       <use x=\"325.292969\" xlink:href=\"#DejaVuSans-35\"/>\n       <use x=\"388.916016\" xlink:href=\"#DejaVuSans-2c\"/>\n       <use x=\"420.703125\" xlink:href=\"#DejaVuSans-20\"/>\n       <use x=\"452.490234\" xlink:href=\"#DejaVuSans-31\"/>\n       <use x=\"516.113281\" xlink:href=\"#DejaVuSans-34\"/>\n       <use x=\"579.736328\" xlink:href=\"#DejaVuSans-36\"/>\n       <use x=\"643.359375\" xlink:href=\"#DejaVuSans-34\"/>\n       <use x=\"706.982422\" xlink:href=\"#DejaVuSans-2e\"/>\n       <use x=\"738.769531\" xlink:href=\"#DejaVuSans-30\"/>\n       <use x=\"802.392578\" xlink:href=\"#DejaVuSans-5d\"/>\n      </g>\n     </g>\n    </g>\n    <g id=\"xtick_5\">\n     <g id=\"line2d_5\">\n      <g>\n       <use style=\"stroke:#000000;stroke-width:0.8;\" x=\"364.778937\" xlink:href=\"#m0f0d419afc\" y=\"228.14\"/>\n      </g>\n     </g>\n     <g id=\"text_5\">\n      <!-- (1830.0, 1921.5] -->\n      <defs>\n       <path d=\"M 31.78125 34.625 \nQ 24.75 34.625 20.71875 30.859375 \nQ 16.703125 27.09375 16.703125 20.515625 \nQ 16.703125 13.921875 20.71875 10.15625 \nQ 24.75 6.390625 31.78125 6.390625 \nQ 38.8125 6.390625 42.859375 10.171875 \nQ 46.921875 13.96875 46.921875 20.515625 \nQ 46.921875 27.09375 42.890625 30.859375 \nQ 38.875 34.625 31.78125 34.625 \nz\nM 21.921875 38.8125 \nQ 15.578125 40.375 12.03125 44.71875 \nQ 8.5 49.078125 8.5 55.328125 \nQ 8.5 64.0625 14.71875 69.140625 \nQ 20.953125 74.21875 31.78125 74.21875 \nQ 42.671875 74.21875 48.875 69.140625 \nQ 55.078125 64.0625 55.078125 55.328125 \nQ 55.078125 49.078125 51.53125 44.71875 \nQ 48 40.375 41.703125 38.8125 \nQ 48.828125 37.15625 52.796875 32.3125 \nQ 56.78125 27.484375 56.78125 20.515625 \nQ 56.78125 9.90625 50.3125 4.234375 \nQ 43.84375 -1.421875 31.78125 -1.421875 \nQ 19.734375 -1.421875 13.25 4.234375 \nQ 6.78125 9.90625 6.78125 20.515625 \nQ 6.78125 27.484375 10.78125 32.3125 \nQ 14.796875 37.15625 21.921875 38.8125 \nz\nM 18.3125 54.390625 \nQ 18.3125 48.734375 21.84375 45.5625 \nQ 25.390625 42.390625 31.78125 42.390625 \nQ 38.140625 42.390625 41.71875 45.5625 \nQ 45.3125 48.734375 45.3125 54.390625 \nQ 45.3125 60.0625 41.71875 63.234375 \nQ 38.140625 66.40625 31.78125 66.40625 \nQ 25.390625 66.40625 21.84375 63.234375 \nQ 18.3125 60.0625 18.3125 54.390625 \nz\n\" id=\"DejaVuSans-38\"/>\n      </defs>\n      <g transform=\"translate(367.538312 319.280625)rotate(-90)scale(0.1 -0.1)\">\n       <use xlink:href=\"#DejaVuSans-28\"/>\n       <use x=\"39.013672\" xlink:href=\"#DejaVuSans-31\"/>\n       <use x=\"102.636719\" xlink:href=\"#DejaVuSans-38\"/>\n       <use x=\"166.259766\" xlink:href=\"#DejaVuSans-33\"/>\n       <use x=\"229.882812\" xlink:href=\"#DejaVuSans-30\"/>\n       <use x=\"293.505859\" xlink:href=\"#DejaVuSans-2e\"/>\n       <use x=\"325.292969\" xlink:href=\"#DejaVuSans-30\"/>\n       <use x=\"388.916016\" xlink:href=\"#DejaVuSans-2c\"/>\n       <use x=\"420.703125\" xlink:href=\"#DejaVuSans-20\"/>\n       <use x=\"452.490234\" xlink:href=\"#DejaVuSans-31\"/>\n       <use x=\"516.113281\" xlink:href=\"#DejaVuSans-39\"/>\n       <use x=\"579.736328\" xlink:href=\"#DejaVuSans-32\"/>\n       <use x=\"643.359375\" xlink:href=\"#DejaVuSans-31\"/>\n       <use x=\"706.982422\" xlink:href=\"#DejaVuSans-2e\"/>\n       <use x=\"738.769531\" xlink:href=\"#DejaVuSans-35\"/>\n       <use x=\"802.392578\" xlink:href=\"#DejaVuSans-5d\"/>\n      </g>\n     </g>\n    </g>\n   </g>\n   <g id=\"matplotlib.axis_2\">\n    <g id=\"ytick_1\">\n     <g id=\"line2d_6\">\n      <defs>\n       <path d=\"M 0 0 \nL -3.5 0 \n\" id=\"m4db7cc203c\" style=\"stroke:#000000;stroke-width:0.8;\"/>\n      </defs>\n      <g>\n       <use style=\"stroke:#000000;stroke-width:0.8;\" x=\"59.690625\" xlink:href=\"#m4db7cc203c\" y=\"218.256364\"/>\n      </g>\n     </g>\n     <g id=\"text_6\">\n      <!-- 0 -->\n      <g transform=\"translate(46.328125 222.055582)scale(0.1 -0.1)\">\n       <use xlink:href=\"#DejaVuSans-30\"/>\n      </g>\n     </g>\n    </g>\n    <g id=\"ytick_2\">\n     <g id=\"line2d_7\">\n      <g>\n       <use style=\"stroke:#000000;stroke-width:0.8;\" x=\"59.690625\" xlink:href=\"#m4db7cc203c\" y=\"192.711311\"/>\n      </g>\n     </g>\n     <g id=\"text_7\">\n      <!-- 5000 -->\n      <g transform=\"translate(27.240625 196.51053)scale(0.1 -0.1)\">\n       <use xlink:href=\"#DejaVuSans-35\"/>\n       <use x=\"63.623047\" xlink:href=\"#DejaVuSans-30\"/>\n       <use x=\"127.246094\" xlink:href=\"#DejaVuSans-30\"/>\n       <use x=\"190.869141\" xlink:href=\"#DejaVuSans-30\"/>\n      </g>\n     </g>\n    </g>\n    <g id=\"ytick_3\">\n     <g id=\"line2d_8\">\n      <g>\n       <use style=\"stroke:#000000;stroke-width:0.8;\" x=\"59.690625\" xlink:href=\"#m4db7cc203c\" y=\"167.166258\"/>\n      </g>\n     </g>\n     <g id=\"text_8\">\n      <!-- 10000 -->\n      <g transform=\"translate(20.878125 170.965477)scale(0.1 -0.1)\">\n       <use xlink:href=\"#DejaVuSans-31\"/>\n       <use x=\"63.623047\" xlink:href=\"#DejaVuSans-30\"/>\n       <use x=\"127.246094\" xlink:href=\"#DejaVuSans-30\"/>\n       <use x=\"190.869141\" xlink:href=\"#DejaVuSans-30\"/>\n       <use x=\"254.492188\" xlink:href=\"#DejaVuSans-30\"/>\n      </g>\n     </g>\n    </g>\n    <g id=\"ytick_4\">\n     <g id=\"line2d_9\">\n      <g>\n       <use style=\"stroke:#000000;stroke-width:0.8;\" x=\"59.690625\" xlink:href=\"#m4db7cc203c\" y=\"141.621205\"/>\n      </g>\n     </g>\n     <g id=\"text_9\">\n      <!-- 15000 -->\n      <g transform=\"translate(20.878125 145.420424)scale(0.1 -0.1)\">\n       <use xlink:href=\"#DejaVuSans-31\"/>\n       <use x=\"63.623047\" xlink:href=\"#DejaVuSans-35\"/>\n       <use x=\"127.246094\" xlink:href=\"#DejaVuSans-30\"/>\n       <use x=\"190.869141\" xlink:href=\"#DejaVuSans-30\"/>\n       <use x=\"254.492188\" xlink:href=\"#DejaVuSans-30\"/>\n      </g>\n     </g>\n    </g>\n    <g id=\"ytick_5\">\n     <g id=\"line2d_10\">\n      <g>\n       <use style=\"stroke:#000000;stroke-width:0.8;\" x=\"59.690625\" xlink:href=\"#m4db7cc203c\" y=\"116.076153\"/>\n      </g>\n     </g>\n     <g id=\"text_10\">\n      <!-- 20000 -->\n      <g transform=\"translate(20.878125 119.875371)scale(0.1 -0.1)\">\n       <use xlink:href=\"#DejaVuSans-32\"/>\n       <use x=\"63.623047\" xlink:href=\"#DejaVuSans-30\"/>\n       <use x=\"127.246094\" xlink:href=\"#DejaVuSans-30\"/>\n       <use x=\"190.869141\" xlink:href=\"#DejaVuSans-30\"/>\n       <use x=\"254.492188\" xlink:href=\"#DejaVuSans-30\"/>\n      </g>\n     </g>\n    </g>\n    <g id=\"ytick_6\">\n     <g id=\"line2d_11\">\n      <g>\n       <use style=\"stroke:#000000;stroke-width:0.8;\" x=\"59.690625\" xlink:href=\"#m4db7cc203c\" y=\"90.5311\"/>\n      </g>\n     </g>\n     <g id=\"text_11\">\n      <!-- 25000 -->\n      <g transform=\"translate(20.878125 94.330319)scale(0.1 -0.1)\">\n       <use xlink:href=\"#DejaVuSans-32\"/>\n       <use x=\"63.623047\" xlink:href=\"#DejaVuSans-35\"/>\n       <use x=\"127.246094\" xlink:href=\"#DejaVuSans-30\"/>\n       <use x=\"190.869141\" xlink:href=\"#DejaVuSans-30\"/>\n       <use x=\"254.492188\" xlink:href=\"#DejaVuSans-30\"/>\n      </g>\n     </g>\n    </g>\n    <g id=\"ytick_7\">\n     <g id=\"line2d_12\">\n      <g>\n       <use style=\"stroke:#000000;stroke-width:0.8;\" x=\"59.690625\" xlink:href=\"#m4db7cc203c\" y=\"64.986047\"/>\n      </g>\n     </g>\n     <g id=\"text_12\">\n      <!-- 30000 -->\n      <g transform=\"translate(20.878125 68.785266)scale(0.1 -0.1)\">\n       <use xlink:href=\"#DejaVuSans-33\"/>\n       <use x=\"63.623047\" xlink:href=\"#DejaVuSans-30\"/>\n       <use x=\"127.246094\" xlink:href=\"#DejaVuSans-30\"/>\n       <use x=\"190.869141\" xlink:href=\"#DejaVuSans-30\"/>\n       <use x=\"254.492188\" xlink:href=\"#DejaVuSans-30\"/>\n      </g>\n     </g>\n    </g>\n    <g id=\"ytick_8\">\n     <g id=\"line2d_13\">\n      <g>\n       <use style=\"stroke:#000000;stroke-width:0.8;\" x=\"59.690625\" xlink:href=\"#m4db7cc203c\" y=\"39.440994\"/>\n      </g>\n     </g>\n     <g id=\"text_13\">\n      <!-- 35000 -->\n      <g transform=\"translate(20.878125 43.240213)scale(0.1 -0.1)\">\n       <use xlink:href=\"#DejaVuSans-33\"/>\n       <use x=\"63.623047\" xlink:href=\"#DejaVuSans-35\"/>\n       <use x=\"127.246094\" xlink:href=\"#DejaVuSans-30\"/>\n       <use x=\"190.869141\" xlink:href=\"#DejaVuSans-30\"/>\n       <use x=\"254.492188\" xlink:href=\"#DejaVuSans-30\"/>\n      </g>\n     </g>\n    </g>\n    <g id=\"ytick_9\">\n     <g id=\"line2d_14\">\n      <g>\n       <use style=\"stroke:#000000;stroke-width:0.8;\" x=\"59.690625\" xlink:href=\"#m4db7cc203c\" y=\"13.895942\"/>\n      </g>\n     </g>\n     <g id=\"text_14\">\n      <!-- 40000 -->\n      <g transform=\"translate(20.878125 17.69516)scale(0.1 -0.1)\">\n       <use xlink:href=\"#DejaVuSans-34\"/>\n       <use x=\"63.623047\" xlink:href=\"#DejaVuSans-30\"/>\n       <use x=\"127.246094\" xlink:href=\"#DejaVuSans-30\"/>\n       <use x=\"190.869141\" xlink:href=\"#DejaVuSans-30\"/>\n       <use x=\"254.492188\" xlink:href=\"#DejaVuSans-30\"/>\n      </g>\n     </g>\n    </g>\n    <g id=\"text_15\">\n     <!-- Count -->\n     <defs>\n      <path d=\"M 64.40625 67.28125 \nL 64.40625 56.890625 \nQ 59.421875 61.53125 53.78125 63.8125 \nQ 48.140625 66.109375 41.796875 66.109375 \nQ 29.296875 66.109375 22.65625 58.46875 \nQ 16.015625 50.828125 16.015625 36.375 \nQ 16.015625 21.96875 22.65625 14.328125 \nQ 29.296875 6.6875 41.796875 6.6875 \nQ 48.140625 6.6875 53.78125 8.984375 \nQ 59.421875 11.28125 64.40625 15.921875 \nL 64.40625 5.609375 \nQ 59.234375 2.09375 53.4375 0.328125 \nQ 47.65625 -1.421875 41.21875 -1.421875 \nQ 24.65625 -1.421875 15.125 8.703125 \nQ 5.609375 18.84375 5.609375 36.375 \nQ 5.609375 53.953125 15.125 64.078125 \nQ 24.65625 74.21875 41.21875 74.21875 \nQ 47.75 74.21875 53.53125 72.484375 \nQ 59.328125 70.75 64.40625 67.28125 \nz\n\" id=\"DejaVuSans-43\"/>\n      <path d=\"M 30.609375 48.390625 \nQ 23.390625 48.390625 19.1875 42.75 \nQ 14.984375 37.109375 14.984375 27.296875 \nQ 14.984375 17.484375 19.15625 11.84375 \nQ 23.34375 6.203125 30.609375 6.203125 \nQ 37.796875 6.203125 41.984375 11.859375 \nQ 46.1875 17.53125 46.1875 27.296875 \nQ 46.1875 37.015625 41.984375 42.703125 \nQ 37.796875 48.390625 30.609375 48.390625 \nz\nM 30.609375 56 \nQ 42.328125 56 49.015625 48.375 \nQ 55.71875 40.765625 55.71875 27.296875 \nQ 55.71875 13.875 49.015625 6.21875 \nQ 42.328125 -1.421875 30.609375 -1.421875 \nQ 18.84375 -1.421875 12.171875 6.21875 \nQ 5.515625 13.875 5.515625 27.296875 \nQ 5.515625 40.765625 12.171875 48.375 \nQ 18.84375 56 30.609375 56 \nz\n\" id=\"DejaVuSans-6f\"/>\n      <path d=\"M 8.5 21.578125 \nL 8.5 54.6875 \nL 17.484375 54.6875 \nL 17.484375 21.921875 \nQ 17.484375 14.15625 20.5 10.265625 \nQ 23.53125 6.390625 29.59375 6.390625 \nQ 36.859375 6.390625 41.078125 11.03125 \nQ 45.3125 15.671875 45.3125 23.6875 \nL 45.3125 54.6875 \nL 54.296875 54.6875 \nL 54.296875 0 \nL 45.3125 0 \nL 45.3125 8.40625 \nQ 42.046875 3.421875 37.71875 1 \nQ 33.40625 -1.421875 27.6875 -1.421875 \nQ 18.265625 -1.421875 13.375 4.4375 \nQ 8.5 10.296875 8.5 21.578125 \nz\nM 31.109375 56 \nz\n\" id=\"DejaVuSans-75\"/>\n      <path d=\"M 54.890625 33.015625 \nL 54.890625 0 \nL 45.90625 0 \nL 45.90625 32.71875 \nQ 45.90625 40.484375 42.875 44.328125 \nQ 39.84375 48.1875 33.796875 48.1875 \nQ 26.515625 48.1875 22.3125 43.546875 \nQ 18.109375 38.921875 18.109375 30.90625 \nL 18.109375 0 \nL 9.078125 0 \nL 9.078125 54.6875 \nL 18.109375 54.6875 \nL 18.109375 46.1875 \nQ 21.34375 51.125 25.703125 53.5625 \nQ 30.078125 56 35.796875 56 \nQ 45.21875 56 50.046875 50.171875 \nQ 54.890625 44.34375 54.890625 33.015625 \nz\n\" id=\"DejaVuSans-6e\"/>\n      <path d=\"M 18.3125 70.21875 \nL 18.3125 54.6875 \nL 36.8125 54.6875 \nL 36.8125 47.703125 \nL 18.3125 47.703125 \nL 18.3125 18.015625 \nQ 18.3125 11.328125 20.140625 9.421875 \nQ 21.96875 7.515625 27.59375 7.515625 \nL 36.8125 7.515625 \nL 36.8125 0 \nL 27.59375 0 \nQ 17.1875 0 13.234375 3.875 \nQ 9.28125 7.765625 9.28125 18.015625 \nL 9.28125 47.703125 \nL 2.6875 47.703125 \nL 2.6875 54.6875 \nL 9.28125 54.6875 \nL 9.28125 70.21875 \nz\n\" id=\"DejaVuSans-74\"/>\n     </defs>\n     <g transform=\"translate(14.798438 134.268437)rotate(-90)scale(0.1 -0.1)\">\n      <use xlink:href=\"#DejaVuSans-43\"/>\n      <use x=\"69.824219\" xlink:href=\"#DejaVuSans-6f\"/>\n      <use x=\"131.005859\" xlink:href=\"#DejaVuSans-75\"/>\n      <use x=\"194.384766\" xlink:href=\"#DejaVuSans-6e\"/>\n      <use x=\"257.763672\" xlink:href=\"#DejaVuSans-74\"/>\n     </g>\n    </g>\n   </g>\n   <g id=\"line2d_15\">\n    <path clip-path=\"url(#pab1bfdfacc)\" d=\"M 74.908807 112.453864 \nL 89.402313 218.256364 \nL 103.89582 218.256364 \nL 118.389326 218.256364 \nL 132.882833 218.256364 \nL 147.376339 218.256364 \nL 161.869846 218.256364 \nL 176.363352 218.256364 \nL 190.856859 218.256364 \nL 205.350365 218.256364 \nL 219.843872 218.256364 \nL 234.337378 218.256364 \nL 248.830885 218.256364 \nL 263.324391 218.256364 \nL 277.817898 218.256364 \nL 292.311404 218.256364 \nL 306.804911 218.256364 \nL 321.298417 218.256364 \nL 335.791924 218.256364 \nL 350.28543 218.256364 \nL 364.778937 218.256364 \nL 379.272443 20.583636 \n\" style=\"fill:none;stroke:#1f77b4;stroke-linecap:square;stroke-width:1.5;\"/>\n   </g>\n   <g id=\"patch_3\">\n    <path d=\"M 59.690625 228.14 \nL 59.690625 10.7 \n\" style=\"fill:none;stroke:#000000;stroke-linecap:square;stroke-linejoin:miter;stroke-width:0.8;\"/>\n   </g>\n   <g id=\"patch_4\">\n    <path d=\"M 394.490625 228.14 \nL 394.490625 10.7 \n\" style=\"fill:none;stroke:#000000;stroke-linecap:square;stroke-linejoin:miter;stroke-width:0.8;\"/>\n   </g>\n   <g id=\"patch_5\">\n    <path d=\"M 59.690625 228.14 \nL 394.490625 228.14 \n\" style=\"fill:none;stroke:#000000;stroke-linecap:square;stroke-linejoin:miter;stroke-width:0.8;\"/>\n   </g>\n   <g id=\"patch_6\">\n    <path d=\"M 59.690625 10.7 \nL 394.490625 10.7 \n\" style=\"fill:none;stroke:#000000;stroke-linecap:square;stroke-linejoin:miter;stroke-width:0.8;\"/>\n   </g>\n  </g>\n </g>\n <defs>\n  <clipPath id=\"pab1bfdfacc\">\n   <rect height=\"217.44\" width=\"334.8\" x=\"59.690625\" y=\"10.7\"/>\n  </clipPath>\n </defs>\n</svg>\n",
      "image/png": "[encoded data removed]"
     },
     "metadata": {
      "needs_background": "light"
     }
    }
   ],
   "source": [
    "# Bar plot of target Y\n",
    "train['construction_year'].value_counts(bins=22).sort_index(ascending=True).plot()\n",
    "plt.xticks(rotation=90)\n",
    "plt.ylabel('Count')\n",
    "plt.show()"
   ]
  },
  {
   "cell_type": "code",
   "execution_count": 27,
   "metadata": {},
   "outputs": [
    {
     "output_type": "stream",
     "name": "stdout",
     "text": [
      "Min value:  0\nMax value:  2013\nMean value:  1300.6524747474748\nMedian value:  1986.0\nMode value:  0    0\ndtype: int64\nStd value:  951.6205473153105\n"
     ]
    }
   ],
   "source": [
    "print(\"Min value: \", train['construction_year'].min())\n",
    "print(\"Max value: \", train['construction_year'].max())\n",
    "print(\"Mean value: \", train['construction_year'].mean())\n",
    "print(\"Median value: \", train['construction_year'].median())\n",
    "print(\"Mode value: \", train['construction_year'].mode())\n",
    "print(\"Std value: \", train['construction_year'].std())"
   ]
  },
  {
   "cell_type": "markdown",
   "metadata": {},
   "source": [
    "For `construction_year`, as per the analysis above, majority of the dataset collected has 1986 as the construction year, so it is best to impute 20709 rows that have a `construction_year` as **0** to be **1986**."
   ]
  },
  {
   "cell_type": "code",
   "execution_count": 28,
   "metadata": {},
   "outputs": [],
   "source": [
    "train['construction_year']=train['construction_year'].replace(0,train['construction_year'].median())"
   ]
  },
  {
   "cell_type": "code",
   "execution_count": 29,
   "metadata": {},
   "outputs": [
    {
     "output_type": "stream",
     "name": "stdout",
     "text": [
      "Min value:  1960\nMax value:  2013\nMean value:  1993.0442929292929\nMedian value:  1986.0\nMode value:  0    1986\ndtype: int64\nStd value:  11.308410166585247\n"
     ]
    }
   ],
   "source": [
    "print(\"Min value: \", train['construction_year'].min())\n",
    "print(\"Max value: \", train['construction_year'].max())\n",
    "print(\"Mean value: \", train['construction_year'].mean())\n",
    "print(\"Median value: \", train['construction_year'].median())\n",
    "print(\"Mode value: \", train['construction_year'].mode())\n",
    "print(\"Std value: \", train['construction_year'].std())"
   ]
  },
  {
   "cell_type": "markdown",
   "metadata": {},
   "source": [
    "Rather than going through and describing all the categorical variables, we should try seeing the relative ratio of the number of unique categorical values to the number of records. A huge ratio indicates sparseness which is not for building any model. A solution to this is to combine levels, but in most cases, we just don't know enough about the data to do that."
   ]
  },
  {
   "cell_type": "code",
   "execution_count": 30,
   "metadata": {},
   "outputs": [],
   "source": [
    "\n",
    "#Columns to Describle\n",
    "columns = ['amount_tsh','gps_height','installer','wpt_name','num_private','basin','subvillage','region','region_code',\n",
    "           'district_code','lga','ward','population','public_meeting','recorded_by','scheme_management','scheme_name','permit','construction_year',\n",
    "           'extraction_type','extraction_type_group','extraction_type_class','management','management_group','payment','water_quality','quality_group',\n",
    "           'source','source_type','waterpoint_type','waterpoint_type_group','status_group']\n",
    "\n",
    "categorical = ['installer','wpt_name','basin','subvillage','region','region_code','district_code','lga','ward','public_meeting',\n",
    "               'recorded_by','scheme_management','scheme_name','permit','construction_year','extraction_type_group',\n",
    "               'extraction_type_class','management','management_group','payment','payment_type','water_quality','quality_group','quantity',\n",
    "               'quantity_group','source','source_type','source_class','waterpoint_type_group','status_group']\n",
    "\n",
    "groupby = ['status_group']\n",
    "\n",
    "nonnormal = ['amount_tsh','gps_height','population','construction_year']\n",
    "\n",
    "labels = {'amount_tsh' : 'Total static head (amount water available to waterpoint)',\n",
    "            'date_recorded' : 'The date the row was entered',\n",
    "            'funder' : 'Who funded the well',\n",
    "            'gps_height' : 'Altitude of the well',\n",
    "            'installer' : 'Organization that installed the well',\n",
    "            'longitude' : 'GPS coordinate Long',\n",
    "            'latitude' : 'GPS coordinate Lat',\n",
    "            'wpt_name' : 'Name of the waterpoint if there is one',\n",
    "            'num_private' : 'num private',\n",
    "            'basin' : 'Geographic water basin',\n",
    "            'subvillage' : 'Geographic location (Subvillage)',\n",
    "            'region' : 'Geographic location (Region)',\n",
    "            'region_code' : 'Geographic location (region coded)',\n",
    "            'district_code' : 'Geographic location (district coded)',\n",
    "            'lga' : 'Geographic location (LGA)',\n",
    "            'ward' : 'Geographic location (Ward)',\n",
    "            'population' : 'Population around the well',\n",
    "            'public_meeting' : 'Public Meeting True/False',\n",
    "            'recorded_by' : 'Group entering this row of data',\n",
    "            'scheme_management' : 'Who operates the waterpoint',\n",
    "            'scheme_name' : 'Who operates the waterpoint - name',\n",
    "            'permit' : 'If the waterpoint is permitted',\n",
    "            'construction_year' : 'Year the waterpoint was constructed',\n",
    "            'extraction_type' : 'The kind of extraction the waterpoint uses',\n",
    "            'extraction_type_group' : 'The kind of extraction the waterpoint uses - group',\n",
    "            'extraction_type_class' : 'The kind of extraction the waterpoint uses - class',\n",
    "            'management' : 'How the waterpoint is managed',\n",
    "            'management_group' : 'How the waterpoint is managed - group',\n",
    "            'payment' : 'What the water costs',\n",
    "            'payment_type' : 'What the water costs - pmt type',\n",
    "            'water_quality' : 'The quality of the water',\n",
    "            'quality_group' : 'The quality of the water - group',\n",
    "            'quantity' : 'The quantity of water',\n",
    "            'quantity_group' : 'The quantity of water - group',\n",
    "            'source' : 'The source of the water',\n",
    "            'source_type' : 'The source of the water - type',\n",
    "            'source_class' : 'The source of the water - class',\n",
    "            'waterpoint_type' : 'The kind of waterpoint',\n",
    "            'waterpoint_type_group' : 'The kind of waterpoint - group'}\n"
   ]
  },
  {
   "cell_type": "code",
   "execution_count": 31,
   "metadata": {},
   "outputs": [
    {
     "output_type": "execute_result",
     "data": {
      "text/plain": [
       "                    data     ratio\n",
       "0            recorded_by  0.000017\n",
       "0                 permit  0.000034\n",
       "0         public_meeting  0.000034\n",
       "0           status_group  0.000051\n",
       "0           source_class  0.000051\n",
       "0       management_group  0.000084\n",
       "0               quantity  0.000084\n",
       "0         quantity_group  0.000084\n",
       "0  waterpoint_type_group  0.000101\n",
       "0          quality_group  0.000101\n",
       "0            source_type  0.000118\n",
       "0  extraction_type_class  0.000118\n",
       "0                payment  0.000118\n",
       "0           payment_type  0.000118\n",
       "0          water_quality  0.000135\n",
       "0                  basin  0.000152\n",
       "0                 source  0.000168\n",
       "0             management  0.000202\n",
       "0  extraction_type_group  0.000219\n",
       "0      scheme_management  0.000219\n",
       "0          district_code  0.000337\n",
       "0                 region  0.000354\n",
       "0            region_code  0.000455\n",
       "0      construction_year  0.000909\n",
       "0                    lga  0.002104\n",
       "0                   ward  0.035219\n",
       "0              installer  0.036128\n",
       "0            scheme_name  0.045404\n",
       "0             subvillage  0.324714\n",
       "0               wpt_name  0.629630"
      ],
      "text/html": "<div>\n<style scoped>\n    .dataframe tbody tr th:only-of-type {\n        vertical-align: middle;\n    }\n\n    .dataframe tbody tr th {\n        vertical-align: top;\n    }\n\n    .dataframe thead th {\n        text-align: right;\n    }\n</style>\n<table border=\"1\" class=\"dataframe\">\n  <thead>\n    <tr style=\"text-align: right;\">\n      <th></th>\n      <th>data</th>\n      <th>ratio</th>\n    </tr>\n  </thead>\n  <tbody>\n    <tr>\n      <th>0</th>\n      <td>recorded_by</td>\n      <td>0.000017</td>\n    </tr>\n    <tr>\n      <th>0</th>\n      <td>permit</td>\n      <td>0.000034</td>\n    </tr>\n    <tr>\n      <th>0</th>\n      <td>public_meeting</td>\n      <td>0.000034</td>\n    </tr>\n    <tr>\n      <th>0</th>\n      <td>status_group</td>\n      <td>0.000051</td>\n    </tr>\n    <tr>\n      <th>0</th>\n      <td>source_class</td>\n      <td>0.000051</td>\n    </tr>\n    <tr>\n      <th>0</th>\n      <td>management_group</td>\n      <td>0.000084</td>\n    </tr>\n    <tr>\n      <th>0</th>\n      <td>quantity</td>\n      <td>0.000084</td>\n    </tr>\n    <tr>\n      <th>0</th>\n      <td>quantity_group</td>\n      <td>0.000084</td>\n    </tr>\n    <tr>\n      <th>0</th>\n      <td>waterpoint_type_group</td>\n      <td>0.000101</td>\n    </tr>\n    <tr>\n      <th>0</th>\n      <td>quality_group</td>\n      <td>0.000101</td>\n    </tr>\n    <tr>\n      <th>0</th>\n      <td>source_type</td>\n      <td>0.000118</td>\n    </tr>\n    <tr>\n      <th>0</th>\n      <td>extraction_type_class</td>\n      <td>0.000118</td>\n    </tr>\n    <tr>\n      <th>0</th>\n      <td>payment</td>\n      <td>0.000118</td>\n    </tr>\n    <tr>\n      <th>0</th>\n      <td>payment_type</td>\n      <td>0.000118</td>\n    </tr>\n    <tr>\n      <th>0</th>\n      <td>water_quality</td>\n      <td>0.000135</td>\n    </tr>\n    <tr>\n      <th>0</th>\n      <td>basin</td>\n      <td>0.000152</td>\n    </tr>\n    <tr>\n      <th>0</th>\n      <td>source</td>\n      <td>0.000168</td>\n    </tr>\n    <tr>\n      <th>0</th>\n      <td>management</td>\n      <td>0.000202</td>\n    </tr>\n    <tr>\n      <th>0</th>\n      <td>extraction_type_group</td>\n      <td>0.000219</td>\n    </tr>\n    <tr>\n      <th>0</th>\n      <td>scheme_management</td>\n      <td>0.000219</td>\n    </tr>\n    <tr>\n      <th>0</th>\n      <td>district_code</td>\n      <td>0.000337</td>\n    </tr>\n    <tr>\n      <th>0</th>\n      <td>region</td>\n      <td>0.000354</td>\n    </tr>\n    <tr>\n      <th>0</th>\n      <td>region_code</td>\n      <td>0.000455</td>\n    </tr>\n    <tr>\n      <th>0</th>\n      <td>construction_year</td>\n      <td>0.000909</td>\n    </tr>\n    <tr>\n      <th>0</th>\n      <td>lga</td>\n      <td>0.002104</td>\n    </tr>\n    <tr>\n      <th>0</th>\n      <td>ward</td>\n      <td>0.035219</td>\n    </tr>\n    <tr>\n      <th>0</th>\n      <td>installer</td>\n      <td>0.036128</td>\n    </tr>\n    <tr>\n      <th>0</th>\n      <td>scheme_name</td>\n      <td>0.045404</td>\n    </tr>\n    <tr>\n      <th>0</th>\n      <td>subvillage</td>\n      <td>0.324714</td>\n    </tr>\n    <tr>\n      <th>0</th>\n      <td>wpt_name</td>\n      <td>0.629630</td>\n    </tr>\n  </tbody>\n</table>\n</div>"
     },
     "metadata": {},
     "execution_count": 31
    }
   ],
   "source": [
    "full = []\n",
    "for var in categorical:\n",
    "    levels = len(set(train[var].values)) #number of categorical levels\n",
    "    ratio = levels/train.shape[0]\n",
    "    row = pd.DataFrame(data = {'data':var, 'ratio': ratio}, index = [0])\n",
    "    full.append(row)\n",
    "full = pd.concat(full).sort_values('ratio')\n",
    "full"
   ]
  },
  {
   "cell_type": "markdown",
   "metadata": {},
   "source": [
    "Based off these results, I think we can exclude `lga`, `ward`, `installer`, `scheme_name`, `subvillage`, and `wpt_name`.\n",
    "\n",
    "The above code is checking for cardinality (i.e. number of rows/categorical levels divided by the total number of rows in dataset). Some fields (`lga`, `ward`, `installer`, `scheme_name`, `subvillage`, and `wpt_name`) do not fall into the 5% statistical significance level. Hence at 5% significance level, we will exclude these from the data model."
   ]
  },
  {
   "cell_type": "code",
   "execution_count": 32,
   "metadata": {},
   "outputs": [],
   "source": [
    "columns = ['amount_tsh','gps_height','num_private','basin','region','region_code',\n",
    "           'district_code','population','public_meeting','recorded_by','scheme_management','permit','construction_year',\n",
    "           'extraction_type','extraction_type_group','extraction_type_class','management','management_group','payment','water_quality','quality_group',\n",
    "           'source','source_type','waterpoint_type','waterpoint_type_group','status_group','payment_type','quantity','quantity_group','source_class']\n",
    "\n",
    "categorical = ['basin','region','region_code','district_code','public_meeting',\n",
    "               'recorded_by','scheme_management','permit','extraction_type_group',\n",
    "               'extraction_type_class','management','management_group','payment','payment_type','water_quality','quality_group','quantity',\n",
    "               'quantity_group','source','source_type','source_class','waterpoint_type_group','status_group','extraction_type', 'waterpoint_type']"
   ]
  },
  {
   "cell_type": "code",
   "execution_count": 33,
   "metadata": {
    "tags": [
     "outputPrepend"
    ]
   },
   "outputs": [
    {
     "output_type": "stream",
     "name": "stderr",
     "text": [
      " (20.1)           │ 5919 (18.3)            │ 508 (11.8)                │ 5522 (24.2)            │ <0.001    │\n",
      "├──────────────────────────────────────────────────────────────────────────┼─────────────────────────────┼───────────┼────────────────────────┼────────────────────────┼───────────────────────────┼────────────────────────┼───────────┤\n",
      "│                                                                          │ dam                         │           │ 656 (1.1)              │ 253 (0.8)              │ 24 (0.6)                  │ 379 (1.7)              │           │\n",
      "├──────────────────────────────────────────────────────────────────────────┼─────────────────────────────┼───────────┼────────────────────────┼────────────────────────┼───────────────────────────┼────────────────────────┼───────────┤\n",
      "│                                                                          │ other                       │           │ 278 (0.5)              │ 158 (0.5)              │ 5 (0.1)                   │ 115 (0.5)              │           │\n",
      "├──────────────────────────────────────────────────────────────────────────┼─────────────────────────────┼───────────┼────────────────────────┼────────────────────────┼───────────────────────────┼────────────────────────┼───────────┤\n",
      "│                                                                          │ rainwater harvesting        │           │ 2295 (3.9)             │ 1386 (4.3)             │ 314 (7.3)                 │ 595 (2.6)              │           │\n",
      "├──────────────────────────────────────────────────────────────────────────┼─────────────────────────────┼───────────┼────────────────────────┼────────────────────────┼───────────────────────────┼────────────────────────┼───────────┤\n",
      "│                                                                          │ river/lake                  │           │ 10377 (17.5)           │ 5627 (17.4)            │ 1233 (28.6)               │ 3517 (15.4)            │           │\n",
      "├──────────────────────────────────────────────────────────────────────────┼─────────────────────────────┼───────────┼────────────────────────┼────────────────────────┼───────────────────────────┼────────────────────────┼───────────┤\n",
      "│                                                                          │ shallow well                │           │ 16824 (28.3)           │ 8324 (25.8)            │ 957 (22.2)                │ 7543 (33.0)            │           │\n",
      "├──────────────────────────────────────────────────────────────────────────┼─────────────────────────────┼───────────┼────────────────────────┼────────────────────────┼───────────────────────────┼────────────────────────┼───────────┤\n",
      "│                                                                          │ spring                      │           │ 17021 (28.7)           │ 10592 (32.8)           │ 1276 (29.6)               │ 5153 (22.6)            │           │\n",
      "├──────────────────────────────────────────────────────────────────────────┼─────────────────────────────┼───────────┼────────────────────────┼────────────────────────┼───────────────────────────┼────────────────────────┼───────────┤\n",
      "│ The kind of waterpoint, n (%)                                            │ cattle trough               │ 0         │ 116 (0.2)              │ 84 (0.3)               │ 2 (0.0)                   │ 30 (0.1)               │ <0.001    │\n",
      "├──────────────────────────────────────────────────────────────────────────┼─────────────────────────────┼───────────┼────────────────────────┼────────────────────────┼───────────────────────────┼────────────────────────┼───────────┤\n",
      "│                                                                          │ communal standpipe          │           │ 28522 (48.0)           │ 17726 (54.9)           │ 2260 (52.4)               │ 8536 (37.4)            │           │\n",
      "├──────────────────────────────────────────────────────────────────────────┼─────────────────────────────┼───────────┼────────────────────────┼────────────────────────┼───────────────────────────┼────────────────────────┼───────────┤\n",
      "│                                                                          │ communal standpipe multiple │           │ 6103 (10.3)            │ 2235 (6.9)             │ 648 (15.0)                │ 3220 (14.1)            │           │\n",
      "├──────────────────────────────────────────────────────────────────────────┼─────────────────────────────┼───────────┼────────────────────────┼────────────────────────┼───────────────────────────┼────────────────────────┼───────────┤\n",
      "│                                                                          │ dam                         │           │ 7 (0.0)                │ 6 (0.0)                │                           │ 1 (0.0)                │           │\n",
      "├──────────────────────────────────────────────────────────────────────────┼─────────────────────────────┼───────────┼────────────────────────┼────────────────────────┼───────────────────────────┼────────────────────────┼───────────┤\n",
      "│                                                                          │ hand pump                   │           │ 17488 (29.4)           │ 10805 (33.5)           │ 1029 (23.8)               │ 5654 (24.8)            │           │\n",
      "├──────────────────────────────────────────────────────────────────────────┼─────────────────────────────┼───────────┼────────────────────────┼────────────────────────┼───────────────────────────┼────────────────────────┼───────────┤\n",
      "│                                                                          │ improved spring             │           │ 784 (1.3)              │ 563 (1.7)              │ 85 (2.0)                  │ 136 (0.6)              │           │\n",
      "├──────────────────────────────────────────────────────────────────────────┼─────────────────────────────┼───────────┼────────────────────────┼────────────────────────┼───────────────────────────┼────────────────────────┼───────────┤\n",
      "│                                                                          │ other                       │           │ 6380 (10.7)            │ 840 (2.6)              │ 293 (6.8)                 │ 5247 (23.0)            │           │\n",
      "├──────────────────────────────────────────────────────────────────────────┼─────────────────────────────┼───────────┼────────────────────────┼────────────────────────┼───────────────────────────┼────────────────────────┼───────────┤\n",
      "│ The kind of waterpoint - group, n (%)                                    │ cattle trough               │ 0         │ 116 (0.2)              │ 84 (0.3)               │ 2 (0.0)                   │ 30 (0.1)               │ <0.001    │\n",
      "├──────────────────────────────────────────────────────────────────────────┼─────────────────────────────┼───────────┼────────────────────────┼────────────────────────┼───────────────────────────┼────────────────────────┼───────────┤\n",
      "│                                                                          │ communal standpipe          │           │ 34625 (58.3)           │ 19961 (61.9)           │ 2908 (67.4)               │ 11756 (51.5)           │           │\n",
      "├──────────────────────────────────────────────────────────────────────────┼─────────────────────────────┼───────────┼────────────────────────┼────────────────────────┼───────────────────────────┼────────────────────────┼───────────┤\n",
      "│                                                                          │ dam                         │           │ 7 (0.0)                │ 6 (0.0)                │                           │ 1 (0.0)                │           │\n",
      "├──────────────────────────────────────────────────────────────────────────┼─────────────────────────────┼───────────┼────────────────────────┼────────────────────────┼───────────────────────────┼────────────────────────┼───────────┤\n",
      "│                                                                          │ hand pump                   │           │ 17488 (29.4)           │ 10805 (33.5)           │ 1029 (23.8)               │ 5654 (24.8)            │           │\n",
      "├──────────────────────────────────────────────────────────────────────────┼─────────────────────────────┼───────────┼────────────────────────┼────────────────────────┼───────────────────────────┼────────────────────────┼───────────┤\n",
      "│                                                                          │ improved spring             │           │ 784 (1.3)              │ 563 (1.7)              │ 85 (2.0)                  │ 136 (0.6)              │           │\n",
      "├──────────────────────────────────────────────────────────────────────────┼─────────────────────────────┼───────────┼────────────────────────┼────────────────────────┼───────────────────────────┼────────────────────────┼───────────┤\n",
      "│                                                                          │ other                       │           │ 6380 (10.7)            │ 840 (2.6)              │ 293 (6.8)                 │ 5247 (23.0)            │           │\n",
      "├──────────────────────────────────────────────────────────────────────────┼─────────────────────────────┼───────────┼────────────────────────┼────────────────────────┼───────────────────────────┼────────────────────────┼───────────┤\n",
      "│ status_group, n (%)                                                      │ functional                  │ 0         │ 32259 (54.3)           │ 32259 (100.0)          │                           │                        │ <0.001    │\n",
      "├──────────────────────────────────────────────────────────────────────────┼─────────────────────────────┼───────────┼────────────────────────┼────────────────────────┼───────────────────────────┼────────────────────────┼───────────┤\n",
      "│                                                                          │ functional needs repair     │           │ 4317 (7.3)             │                        │ 4317 (100.0)              │                        │           │\n",
      "├──────────────────────────────────────────────────────────────────────────┼─────────────────────────────┼───────────┼────────────────────────┼────────────────────────┼───────────────────────────┼────────────────────────┼───────────┤\n",
      "│                                                                          │ non functional              │           │ 22824 (38.4)           │                        │                           │ 22824 (100.0)          │           │\n",
      "├──────────────────────────────────────────────────────────────────────────┼─────────────────────────────┼───────────┼────────────────────────┼────────────────────────┼───────────────────────────┼────────────────────────┼───────────┤\n",
      "│ What the water costs - pmt type, n (%)                                   │ annually                    │ 0         │ 3642 (6.1)             │ 2740 (8.5)             │ 247 (5.7)                 │ 655 (2.9)              │ <0.001    │\n",
      "├──────────────────────────────────────────────────────────────────────────┼─────────────────────────────┼───────────┼────────────────────────┼────────────────────────┼───────────────────────────┼────────────────────────┼───────────┤\n",
      "│                                                                          │ monthly                     │           │ 8300 (14.0)            │ 5482 (17.0)            │ 927 (21.5)                │ 1891 (8.3)             │           │\n",
      "├──────────────────────────────────────────────────────────────────────────┼─────────────────────────────┼───────────┼────────────────────────┼────────────────────────┼───────────────────────────┼────────────────────────┼───────────┤\n",
      "│                                                                          │ never pay                   │           │ 25348 (42.7)           │ 11379 (35.3)           │ 1907 (44.2)               │ 12062 (52.8)           │           │\n",
      "├──────────────────────────────────────────────────────────────────────────┼─────────────────────────────┼───────────┼────────────────────────┼────────────────────────┼───────────────────────────┼────────────────────────┼───────────┤\n",
      "│                                                                          │ on failure                  │           │ 3914 (6.6)             │ 2429 (7.5)             │ 277 (6.4)                 │ 1208 (5.3)             │           │\n",
      "├──────────────────────────────────────────────────────────────────────────┼─────────────────────────────┼───────────┼────────────────────────┼────────────────────────┼───────────────────────────┼────────────────────────┼───────────┤\n",
      "│                                                                          │ other                       │           │ 1054 (1.8)             │ 611 (1.9)              │ 118 (2.7)                 │ 325 (1.4)              │           │\n",
      "├──────────────────────────────────────────────────────────────────────────┼─────────────────────────────┼───────────┼────────────────────────┼────────────────────────┼───────────────────────────┼────────────────────────┼───────────┤\n",
      "│                                                                          │ per bucket                  │           │ 8985 (15.1)            │ 6090 (18.9)            │ 409 (9.5)                 │ 2486 (10.9)            │           │\n",
      "├──────────────────────────────────────────────────────────────────────────┼─────────────────────────────┼───────────┼────────────────────────┼────────────────────────┼───────────────────────────┼────────────────────────┼───────────┤\n",
      "│                                                                          │ unknown                     │           │ 8157 (13.7)            │ 3528 (10.9)            │ 432 (10.0)                │ 4197 (18.4)            │           │\n",
      "├──────────────────────────────────────────────────────────────────────────┼─────────────────────────────┼───────────┼────────────────────────┼────────────────────────┼───────────────────────────┼────────────────────────┼───────────┤\n",
      "│ The quantity of water, n (%)                                             │ dry                         │ 0         │ 6246 (10.5)            │ 157 (0.5)              │ 37 (0.9)                  │ 6052 (26.5)            │ <0.001    │\n",
      "├──────────────────────────────────────────────────────────────────────────┼─────────────────────────────┼───────────┼────────────────────────┼────────────────────────┼───────────────────────────┼────────────────────────┼───────────┤\n",
      "│                                                                          │ enough                      │           │ 33186 (55.9)           │ 21648 (67.1)           │ 2400 (55.6)               │ 9138 (40.0)            │           │\n",
      "├──────────────────────────────────────────────────────────────────────────┼─────────────────────────────┼───────────┼────────────────────────┼────────────────────────┼───────────────────────────┼────────────────────────┼───────────┤\n",
      "│                                                                          │ insufficient                │           │ 15129 (25.5)           │ 7916 (24.5)            │ 1450 (33.6)               │ 5763 (25.2)            │           │\n",
      "├──────────────────────────────────────────────────────────────────────────┼─────────────────────────────┼───────────┼────────────────────────┼────────────────────────┼───────────────────────────┼────────────────────────┼───────────┤\n",
      "│                                                                          │ seasonal                    │           │ 4050 (6.8)             │ 2325 (7.2)             │ 416 (9.6)                 │ 1309 (5.7)             │           │\n",
      "├──────────────────────────────────────────────────────────────────────────┼─────────────────────────────┼───────────┼────────────────────────┼────────────────────────┼───────────────────────────┼────────────────────────┼───────────┤\n",
      "│                                                                          │ unknown                     │           │ 789 (1.3)              │ 213 (0.7)              │ 14 (0.3)                  │ 562 (2.5)              │           │\n",
      "├──────────────────────────────────────────────────────────────────────────┼─────────────────────────────┼───────────┼────────────────────────┼────────────────────────┼───────────────────────────┼────────────────────────┼───────────┤\n",
      "│ The quantity of water - group, n (%)                                     │ dry                         │ 0         │ 6246 (10.5)            │ 157 (0.5)              │ 37 (0.9)                  │ 6052 (26.5)            │ <0.001    │\n",
      "├──────────────────────────────────────────────────────────────────────────┼─────────────────────────────┼───────────┼────────────────────────┼────────────────────────┼───────────────────────────┼────────────────────────┼───────────┤\n",
      "│                                                                          │ enough                      │           │ 33186 (55.9)           │ 21648 (67.1)           │ 2400 (55.6)               │ 9138 (40.0)            │           │\n",
      "├──────────────────────────────────────────────────────────────────────────┼─────────────────────────────┼───────────┼────────────────────────┼────────────────────────┼───────────────────────────┼────────────────────────┼───────────┤\n",
      "│                                                                          │ insufficient                │           │ 15129 (25.5)           │ 7916 (24.5)            │ 1450 (33.6)               │ 5763 (25.2)            │           │\n",
      "├──────────────────────────────────────────────────────────────────────────┼─────────────────────────────┼───────────┼────────────────────────┼────────────────────────┼───────────────────────────┼────────────────────────┼───────────┤\n",
      "│                                                                          │ seasonal                    │           │ 4050 (6.8)             │ 2325 (7.2)             │ 416 (9.6)                 │ 1309 (5.7)             │           │\n",
      "├──────────────────────────────────────────────────────────────────────────┼─────────────────────────────┼───────────┼────────────────────────┼────────────────────────┼───────────────────────────┼────────────────────────┼───────────┤\n",
      "│                                                                          │ unknown                     │           │ 789 (1.3)              │ 213 (0.7)              │ 14 (0.3)                  │ 562 (2.5)              │           │\n",
      "├──────────────────────────────────────────────────────────────────────────┼─────────────────────────────┼───────────┼────────────────────────┼────────────────────────┼───────────────────────────┼────────────────────────┼───────────┤\n",
      "│ The source of the water - class, n (%)                                   │ groundwater                 │ 0         │ 45794 (77.1)           │ 24835 (77.0)           │ 2741 (63.5)               │ 18218 (79.8)           │ <0.001    │\n",
      "├──────────────────────────────────────────────────────────────────────────┼─────────────────────────────┼───────────┼────────────────────────┼────────────────────────┼───────────────────────────┼────────────────────────┼───────────┤\n",
      "│                                                                          │ surface                     │           │ 13328 (22.4)           │ 7266 (22.5)            │ 1571 (36.4)               │ 4491 (19.7)            │           │\n",
      "├──────────────────────────────────────────────────────────────────────────┼─────────────────────────────┼───────────┼────────────────────────┼────────────────────────┼───────────────────────────┼────────────────────────┼───────────┤\n",
      "│                                                                          │ unknown                     │           │ 278 (0.5)              │ 158 (0.5)              │ 5 (0.1)                   │ 115 (0.5)              │           │\n",
      "╘══════════════════════════════════════════════════════════════════════════╧═════════════════════════════╧═══════════╧════════════════════════╧════════════════════════╧═══════════════════════════╧════════════════════════╧═══════════╛\n"
     ]
    }
   ],
   "source": [
    "table = TableOne(train, \n",
    "                 columns = columns, \n",
    "                 categorical = categorical,\n",
    "                #  groupby = groupby, \n",
    "                 nonnormal = nonnormal,\n",
    "                 labels = labels,\n",
    "                 groupby=['status_group'],\n",
    "                 pval=True)\n",
    "print(table.tabulate(tablefmt = \"fancy_grid\"))\n",
    "#status_group = f(everything else)"
   ]
  },
  {
   "cell_type": "code",
   "execution_count": 34,
   "metadata": {},
   "outputs": [],
   "source": [
    "# Save Descriptive Statistics in Excel\n",
    "table.to_excel('PumpItUp - Descriptive Statistics table.xlsx')"
   ]
  },
  {
   "cell_type": "markdown",
   "metadata": {},
   "source": [
    "The following categorical variables were found to be too sparse and will be excluded:\n",
    "\n",
    "* `installer`\n",
    "* `wpt_name`"
   ]
  },
  {
   "cell_type": "markdown",
   "metadata": {},
   "source": [
    "### Target variable"
   ]
  },
  {
   "cell_type": "code",
   "execution_count": 35,
   "metadata": {},
   "outputs": [
    {
     "output_type": "execute_result",
     "data": {
      "text/plain": [
       "functional                 32259\n",
       "non functional             22824\n",
       "functional needs repair     4317\n",
       "Name: status_group, dtype: int64"
      ]
     },
     "metadata": {},
     "execution_count": 35
    }
   ],
   "source": [
    "# count the number of rows for each target category\n",
    "train['status_group'].value_counts()"
   ]
  },
  {
   "cell_type": "code",
   "execution_count": 36,
   "metadata": {},
   "outputs": [
    {
     "output_type": "display_data",
     "data": {
      "text/plain": "<Figure size 432x288 with 1 Axes>",
      "image/svg+xml": "<?xml version=\"1.0\" encoding=\"utf-8\" standalone=\"no\"?>\n<!DOCTYPE svg PUBLIC \"-//W3C//DTD SVG 1.1//EN\"\n  \"http://www.w3.org/Graphics/SVG/1.1/DTD/svg11.dtd\">\n<!-- Created with matplotlib (http://matplotlib.org/) -->\n<svg height=\"358.279063pt\" version=\"1.1\" viewBox=\"0 0 405.190625 358.279063\" width=\"405.190625pt\" xmlns=\"http://www.w3.org/2000/svg\" xmlns:xlink=\"http://www.w3.org/1999/xlink\">\n <defs>\n  <style type=\"text/css\">\n*{stroke-linecap:butt;stroke-linejoin:round;}\n  </style>\n </defs>\n <g id=\"figure_1\">\n  <g id=\"patch_1\">\n   <path d=\"M 0 358.279063 \nL 405.190625 358.279063 \nL 405.190625 0 \nL 0 0 \nz\n\" style=\"fill:none;\"/>\n  </g>\n  <g id=\"axes_1\">\n   <g id=\"patch_2\">\n    <path d=\"M 59.690625 228.14 \nL 394.490625 228.14 \nL 394.490625 10.7 \nL 59.690625 10.7 \nz\n\" style=\"fill:#ffffff;\"/>\n   </g>\n   <g id=\"patch_3\">\n    <path clip-path=\"url(#p626df00d2b)\" d=\"M 87.590625 228.14 \nL 143.390625 228.14 \nL 143.390625 21.054286 \nL 87.590625 21.054286 \nz\n\" style=\"fill:#1f77b4;\"/>\n   </g>\n   <g id=\"patch_4\">\n    <path clip-path=\"url(#p626df00d2b)\" d=\"M 199.190625 228.14 \nL 254.990625 228.14 \nL 254.990625 81.621994 \nL 199.190625 81.621994 \nz\n\" style=\"fill:#1f77b4;\"/>\n   </g>\n   <g id=\"patch_5\">\n    <path clip-path=\"url(#p626df00d2b)\" d=\"M 310.790625 228.14 \nL 366.590625 228.14 \nL 366.590625 200.427144 \nL 310.790625 200.427144 \nz\n\" style=\"fill:#1f77b4;\"/>\n   </g>\n   <g id=\"matplotlib.axis_1\">\n    <g id=\"xtick_1\">\n     <g id=\"line2d_1\">\n      <defs>\n       <path d=\"M 0 0 \nL 0 3.5 \n\" id=\"m78a116f8b8\" style=\"stroke:#000000;stroke-width:0.8;\"/>\n      </defs>\n      <g>\n       <use style=\"stroke:#000000;stroke-width:0.8;\" x=\"115.490625\" xlink:href=\"#m78a116f8b8\" y=\"228.14\"/>\n      </g>\n     </g>\n     <g id=\"text_1\">\n      <!-- functional -->\n      <defs>\n       <path d=\"M 37.109375 75.984375 \nL 37.109375 68.5 \nL 28.515625 68.5 \nQ 23.6875 68.5 21.796875 66.546875 \nQ 19.921875 64.59375 19.921875 59.515625 \nL 19.921875 54.6875 \nL 34.71875 54.6875 \nL 34.71875 47.703125 \nL 19.921875 47.703125 \nL 19.921875 0 \nL 10.890625 0 \nL 10.890625 47.703125 \nL 2.296875 47.703125 \nL 2.296875 54.6875 \nL 10.890625 54.6875 \nL 10.890625 58.5 \nQ 10.890625 67.625 15.140625 71.796875 \nQ 19.390625 75.984375 28.609375 75.984375 \nz\n\" id=\"DejaVuSans-66\"/>\n       <path d=\"M 8.5 21.578125 \nL 8.5 54.6875 \nL 17.484375 54.6875 \nL 17.484375 21.921875 \nQ 17.484375 14.15625 20.5 10.265625 \nQ 23.53125 6.390625 29.59375 6.390625 \nQ 36.859375 6.390625 41.078125 11.03125 \nQ 45.3125 15.671875 45.3125 23.6875 \nL 45.3125 54.6875 \nL 54.296875 54.6875 \nL 54.296875 0 \nL 45.3125 0 \nL 45.3125 8.40625 \nQ 42.046875 3.421875 37.71875 1 \nQ 33.40625 -1.421875 27.6875 -1.421875 \nQ 18.265625 -1.421875 13.375 4.4375 \nQ 8.5 10.296875 8.5 21.578125 \nz\nM 31.109375 56 \nz\n\" id=\"DejaVuSans-75\"/>\n       <path d=\"M 54.890625 33.015625 \nL 54.890625 0 \nL 45.90625 0 \nL 45.90625 32.71875 \nQ 45.90625 40.484375 42.875 44.328125 \nQ 39.84375 48.1875 33.796875 48.1875 \nQ 26.515625 48.1875 22.3125 43.546875 \nQ 18.109375 38.921875 18.109375 30.90625 \nL 18.109375 0 \nL 9.078125 0 \nL 9.078125 54.6875 \nL 18.109375 54.6875 \nL 18.109375 46.1875 \nQ 21.34375 51.125 25.703125 53.5625 \nQ 30.078125 56 35.796875 56 \nQ 45.21875 56 50.046875 50.171875 \nQ 54.890625 44.34375 54.890625 33.015625 \nz\n\" id=\"DejaVuSans-6e\"/>\n       <path d=\"M 48.78125 52.59375 \nL 48.78125 44.1875 \nQ 44.96875 46.296875 41.140625 47.34375 \nQ 37.3125 48.390625 33.40625 48.390625 \nQ 24.65625 48.390625 19.8125 42.84375 \nQ 14.984375 37.3125 14.984375 27.296875 \nQ 14.984375 17.28125 19.8125 11.734375 \nQ 24.65625 6.203125 33.40625 6.203125 \nQ 37.3125 6.203125 41.140625 7.25 \nQ 44.96875 8.296875 48.78125 10.40625 \nL 48.78125 2.09375 \nQ 45.015625 0.34375 40.984375 -0.53125 \nQ 36.96875 -1.421875 32.421875 -1.421875 \nQ 20.0625 -1.421875 12.78125 6.34375 \nQ 5.515625 14.109375 5.515625 27.296875 \nQ 5.515625 40.671875 12.859375 48.328125 \nQ 20.21875 56 33.015625 56 \nQ 37.15625 56 41.109375 55.140625 \nQ 45.0625 54.296875 48.78125 52.59375 \nz\n\" id=\"DejaVuSans-63\"/>\n       <path d=\"M 18.3125 70.21875 \nL 18.3125 54.6875 \nL 36.8125 54.6875 \nL 36.8125 47.703125 \nL 18.3125 47.703125 \nL 18.3125 18.015625 \nQ 18.3125 11.328125 20.140625 9.421875 \nQ 21.96875 7.515625 27.59375 7.515625 \nL 36.8125 7.515625 \nL 36.8125 0 \nL 27.59375 0 \nQ 17.1875 0 13.234375 3.875 \nQ 9.28125 7.765625 9.28125 18.015625 \nL 9.28125 47.703125 \nL 2.6875 47.703125 \nL 2.6875 54.6875 \nL 9.28125 54.6875 \nL 9.28125 70.21875 \nz\n\" id=\"DejaVuSans-74\"/>\n       <path d=\"M 9.421875 54.6875 \nL 18.40625 54.6875 \nL 18.40625 0 \nL 9.421875 0 \nz\nM 9.421875 75.984375 \nL 18.40625 75.984375 \nL 18.40625 64.59375 \nL 9.421875 64.59375 \nz\n\" id=\"DejaVuSans-69\"/>\n       <path d=\"M 30.609375 48.390625 \nQ 23.390625 48.390625 19.1875 42.75 \nQ 14.984375 37.109375 14.984375 27.296875 \nQ 14.984375 17.484375 19.15625 11.84375 \nQ 23.34375 6.203125 30.609375 6.203125 \nQ 37.796875 6.203125 41.984375 11.859375 \nQ 46.1875 17.53125 46.1875 27.296875 \nQ 46.1875 37.015625 41.984375 42.703125 \nQ 37.796875 48.390625 30.609375 48.390625 \nz\nM 30.609375 56 \nQ 42.328125 56 49.015625 48.375 \nQ 55.71875 40.765625 55.71875 27.296875 \nQ 55.71875 13.875 49.015625 6.21875 \nQ 42.328125 -1.421875 30.609375 -1.421875 \nQ 18.84375 -1.421875 12.171875 6.21875 \nQ 5.515625 13.875 5.515625 27.296875 \nQ 5.515625 40.765625 12.171875 48.375 \nQ 18.84375 56 30.609375 56 \nz\n\" id=\"DejaVuSans-6f\"/>\n       <path d=\"M 34.28125 27.484375 \nQ 23.390625 27.484375 19.1875 25 \nQ 14.984375 22.515625 14.984375 16.5 \nQ 14.984375 11.71875 18.140625 8.90625 \nQ 21.296875 6.109375 26.703125 6.109375 \nQ 34.1875 6.109375 38.703125 11.40625 \nQ 43.21875 16.703125 43.21875 25.484375 \nL 43.21875 27.484375 \nz\nM 52.203125 31.203125 \nL 52.203125 0 \nL 43.21875 0 \nL 43.21875 8.296875 \nQ 40.140625 3.328125 35.546875 0.953125 \nQ 30.953125 -1.421875 24.3125 -1.421875 \nQ 15.921875 -1.421875 10.953125 3.296875 \nQ 6 8.015625 6 15.921875 \nQ 6 25.140625 12.171875 29.828125 \nQ 18.359375 34.515625 30.609375 34.515625 \nL 43.21875 34.515625 \nL 43.21875 35.40625 \nQ 43.21875 41.609375 39.140625 45 \nQ 35.0625 48.390625 27.6875 48.390625 \nQ 23 48.390625 18.546875 47.265625 \nQ 14.109375 46.140625 10.015625 43.890625 \nL 10.015625 52.203125 \nQ 14.9375 54.109375 19.578125 55.046875 \nQ 24.21875 56 28.609375 56 \nQ 40.484375 56 46.34375 49.84375 \nQ 52.203125 43.703125 52.203125 31.203125 \nz\n\" id=\"DejaVuSans-61\"/>\n       <path d=\"M 9.421875 75.984375 \nL 18.40625 75.984375 \nL 18.40625 0 \nL 9.421875 0 \nz\n\" id=\"DejaVuSans-6c\"/>\n      </defs>\n      <g transform=\"translate(118.25 284.894687)rotate(-90)scale(0.1 -0.1)\">\n       <use xlink:href=\"#DejaVuSans-66\"/>\n       <use x=\"35.205078\" xlink:href=\"#DejaVuSans-75\"/>\n       <use x=\"98.583984\" xlink:href=\"#DejaVuSans-6e\"/>\n       <use x=\"161.962891\" xlink:href=\"#DejaVuSans-63\"/>\n       <use x=\"216.943359\" xlink:href=\"#DejaVuSans-74\"/>\n       <use x=\"256.152344\" xlink:href=\"#DejaVuSans-69\"/>\n       <use x=\"283.935547\" xlink:href=\"#DejaVuSans-6f\"/>\n       <use x=\"345.117188\" xlink:href=\"#DejaVuSans-6e\"/>\n       <use x=\"408.496094\" xlink:href=\"#DejaVuSans-61\"/>\n       <use x=\"469.775391\" xlink:href=\"#DejaVuSans-6c\"/>\n      </g>\n     </g>\n    </g>\n    <g id=\"xtick_2\">\n     <g id=\"line2d_2\">\n      <g>\n       <use style=\"stroke:#000000;stroke-width:0.8;\" x=\"227.090625\" xlink:href=\"#m78a116f8b8\" y=\"228.14\"/>\n      </g>\n     </g>\n     <g id=\"text_2\">\n      <!-- non functional -->\n      <defs>\n       <path id=\"DejaVuSans-20\"/>\n      </defs>\n      <g transform=\"translate(229.85 306.866562)rotate(-90)scale(0.1 -0.1)\">\n       <use xlink:href=\"#DejaVuSans-6e\"/>\n       <use x=\"63.378906\" xlink:href=\"#DejaVuSans-6f\"/>\n       <use x=\"124.560547\" xlink:href=\"#DejaVuSans-6e\"/>\n       <use x=\"187.939453\" xlink:href=\"#DejaVuSans-20\"/>\n       <use x=\"219.726562\" xlink:href=\"#DejaVuSans-66\"/>\n       <use x=\"254.931641\" xlink:href=\"#DejaVuSans-75\"/>\n       <use x=\"318.310547\" xlink:href=\"#DejaVuSans-6e\"/>\n       <use x=\"381.689453\" xlink:href=\"#DejaVuSans-63\"/>\n       <use x=\"436.669922\" xlink:href=\"#DejaVuSans-74\"/>\n       <use x=\"475.878906\" xlink:href=\"#DejaVuSans-69\"/>\n       <use x=\"503.662109\" xlink:href=\"#DejaVuSans-6f\"/>\n       <use x=\"564.84375\" xlink:href=\"#DejaVuSans-6e\"/>\n       <use x=\"628.222656\" xlink:href=\"#DejaVuSans-61\"/>\n       <use x=\"689.501953\" xlink:href=\"#DejaVuSans-6c\"/>\n      </g>\n     </g>\n    </g>\n    <g id=\"xtick_3\">\n     <g id=\"line2d_3\">\n      <g>\n       <use style=\"stroke:#000000;stroke-width:0.8;\" x=\"338.690625\" xlink:href=\"#m78a116f8b8\" y=\"228.14\"/>\n      </g>\n     </g>\n     <g id=\"text_3\">\n      <!-- functional needs repair -->\n      <defs>\n       <path d=\"M 56.203125 29.59375 \nL 56.203125 25.203125 \nL 14.890625 25.203125 \nQ 15.484375 15.921875 20.484375 11.0625 \nQ 25.484375 6.203125 34.421875 6.203125 \nQ 39.59375 6.203125 44.453125 7.46875 \nQ 49.3125 8.734375 54.109375 11.28125 \nL 54.109375 2.78125 \nQ 49.265625 0.734375 44.1875 -0.34375 \nQ 39.109375 -1.421875 33.890625 -1.421875 \nQ 20.796875 -1.421875 13.15625 6.1875 \nQ 5.515625 13.8125 5.515625 26.8125 \nQ 5.515625 40.234375 12.765625 48.109375 \nQ 20.015625 56 32.328125 56 \nQ 43.359375 56 49.78125 48.890625 \nQ 56.203125 41.796875 56.203125 29.59375 \nz\nM 47.21875 32.234375 \nQ 47.125 39.59375 43.09375 43.984375 \nQ 39.0625 48.390625 32.421875 48.390625 \nQ 24.90625 48.390625 20.390625 44.140625 \nQ 15.875 39.890625 15.1875 32.171875 \nz\n\" id=\"DejaVuSans-65\"/>\n       <path d=\"M 45.40625 46.390625 \nL 45.40625 75.984375 \nL 54.390625 75.984375 \nL 54.390625 0 \nL 45.40625 0 \nL 45.40625 8.203125 \nQ 42.578125 3.328125 38.25 0.953125 \nQ 33.9375 -1.421875 27.875 -1.421875 \nQ 17.96875 -1.421875 11.734375 6.484375 \nQ 5.515625 14.40625 5.515625 27.296875 \nQ 5.515625 40.1875 11.734375 48.09375 \nQ 17.96875 56 27.875 56 \nQ 33.9375 56 38.25 53.625 \nQ 42.578125 51.265625 45.40625 46.390625 \nz\nM 14.796875 27.296875 \nQ 14.796875 17.390625 18.875 11.75 \nQ 22.953125 6.109375 30.078125 6.109375 \nQ 37.203125 6.109375 41.296875 11.75 \nQ 45.40625 17.390625 45.40625 27.296875 \nQ 45.40625 37.203125 41.296875 42.84375 \nQ 37.203125 48.484375 30.078125 48.484375 \nQ 22.953125 48.484375 18.875 42.84375 \nQ 14.796875 37.203125 14.796875 27.296875 \nz\n\" id=\"DejaVuSans-64\"/>\n       <path d=\"M 44.28125 53.078125 \nL 44.28125 44.578125 \nQ 40.484375 46.53125 36.375 47.5 \nQ 32.28125 48.484375 27.875 48.484375 \nQ 21.1875 48.484375 17.84375 46.4375 \nQ 14.5 44.390625 14.5 40.28125 \nQ 14.5 37.15625 16.890625 35.375 \nQ 19.28125 33.59375 26.515625 31.984375 \nL 29.59375 31.296875 \nQ 39.15625 29.25 43.1875 25.515625 \nQ 47.21875 21.78125 47.21875 15.09375 \nQ 47.21875 7.46875 41.1875 3.015625 \nQ 35.15625 -1.421875 24.609375 -1.421875 \nQ 20.21875 -1.421875 15.453125 -0.5625 \nQ 10.6875 0.296875 5.421875 2 \nL 5.421875 11.28125 \nQ 10.40625 8.6875 15.234375 7.390625 \nQ 20.0625 6.109375 24.8125 6.109375 \nQ 31.15625 6.109375 34.5625 8.28125 \nQ 37.984375 10.453125 37.984375 14.40625 \nQ 37.984375 18.0625 35.515625 20.015625 \nQ 33.0625 21.96875 24.703125 23.78125 \nL 21.578125 24.515625 \nQ 13.234375 26.265625 9.515625 29.90625 \nQ 5.8125 33.546875 5.8125 39.890625 \nQ 5.8125 47.609375 11.28125 51.796875 \nQ 16.75 56 26.8125 56 \nQ 31.78125 56 36.171875 55.265625 \nQ 40.578125 54.546875 44.28125 53.078125 \nz\n\" id=\"DejaVuSans-73\"/>\n       <path d=\"M 41.109375 46.296875 \nQ 39.59375 47.171875 37.8125 47.578125 \nQ 36.03125 48 33.890625 48 \nQ 26.265625 48 22.1875 43.046875 \nQ 18.109375 38.09375 18.109375 28.8125 \nL 18.109375 0 \nL 9.078125 0 \nL 9.078125 54.6875 \nL 18.109375 54.6875 \nL 18.109375 46.1875 \nQ 20.953125 51.171875 25.484375 53.578125 \nQ 30.03125 56 36.53125 56 \nQ 37.453125 56 38.578125 55.875 \nQ 39.703125 55.765625 41.0625 55.515625 \nz\n\" id=\"DejaVuSans-72\"/>\n       <path d=\"M 18.109375 8.203125 \nL 18.109375 -20.796875 \nL 9.078125 -20.796875 \nL 9.078125 54.6875 \nL 18.109375 54.6875 \nL 18.109375 46.390625 \nQ 20.953125 51.265625 25.265625 53.625 \nQ 29.59375 56 35.59375 56 \nQ 45.5625 56 51.78125 48.09375 \nQ 58.015625 40.1875 58.015625 27.296875 \nQ 58.015625 14.40625 51.78125 6.484375 \nQ 45.5625 -1.421875 35.59375 -1.421875 \nQ 29.59375 -1.421875 25.265625 0.953125 \nQ 20.953125 3.328125 18.109375 8.203125 \nz\nM 48.6875 27.296875 \nQ 48.6875 37.203125 44.609375 42.84375 \nQ 40.53125 48.484375 33.40625 48.484375 \nQ 26.265625 48.484375 22.1875 42.84375 \nQ 18.109375 37.203125 18.109375 27.296875 \nQ 18.109375 17.390625 22.1875 11.75 \nQ 26.265625 6.109375 33.40625 6.109375 \nQ 40.53125 6.109375 44.609375 11.75 \nQ 48.6875 17.390625 48.6875 27.296875 \nz\n\" id=\"DejaVuSans-70\"/>\n      </defs>\n      <g transform=\"translate(341.45 351.079062)rotate(-90)scale(0.1 -0.1)\">\n       <use xlink:href=\"#DejaVuSans-66\"/>\n       <use x=\"35.205078\" xlink:href=\"#DejaVuSans-75\"/>\n       <use x=\"98.583984\" xlink:href=\"#DejaVuSans-6e\"/>\n       <use x=\"161.962891\" xlink:href=\"#DejaVuSans-63\"/>\n       <use x=\"216.943359\" xlink:href=\"#DejaVuSans-74\"/>\n       <use x=\"256.152344\" xlink:href=\"#DejaVuSans-69\"/>\n       <use x=\"283.935547\" xlink:href=\"#DejaVuSans-6f\"/>\n       <use x=\"345.117188\" xlink:href=\"#DejaVuSans-6e\"/>\n       <use x=\"408.496094\" xlink:href=\"#DejaVuSans-61\"/>\n       <use x=\"469.775391\" xlink:href=\"#DejaVuSans-6c\"/>\n       <use x=\"497.558594\" xlink:href=\"#DejaVuSans-20\"/>\n       <use x=\"529.345703\" xlink:href=\"#DejaVuSans-6e\"/>\n       <use x=\"592.724609\" xlink:href=\"#DejaVuSans-65\"/>\n       <use x=\"654.248047\" xlink:href=\"#DejaVuSans-65\"/>\n       <use x=\"715.771484\" xlink:href=\"#DejaVuSans-64\"/>\n       <use x=\"779.248047\" xlink:href=\"#DejaVuSans-73\"/>\n       <use x=\"831.347656\" xlink:href=\"#DejaVuSans-20\"/>\n       <use x=\"863.134766\" xlink:href=\"#DejaVuSans-72\"/>\n       <use x=\"904.216797\" xlink:href=\"#DejaVuSans-65\"/>\n       <use x=\"965.740234\" xlink:href=\"#DejaVuSans-70\"/>\n       <use x=\"1029.216797\" xlink:href=\"#DejaVuSans-61\"/>\n       <use x=\"1090.496094\" xlink:href=\"#DejaVuSans-69\"/>\n       <use x=\"1118.279297\" xlink:href=\"#DejaVuSans-72\"/>\n      </g>\n     </g>\n    </g>\n   </g>\n   <g id=\"matplotlib.axis_2\">\n    <g id=\"ytick_1\">\n     <g id=\"line2d_4\">\n      <defs>\n       <path d=\"M 0 0 \nL -3.5 0 \n\" id=\"md5e179efd4\" style=\"stroke:#000000;stroke-width:0.8;\"/>\n      </defs>\n      <g>\n       <use style=\"stroke:#000000;stroke-width:0.8;\" x=\"59.690625\" xlink:href=\"#md5e179efd4\" y=\"228.14\"/>\n      </g>\n     </g>\n     <g id=\"text_4\">\n      <!-- 0 -->\n      <defs>\n       <path d=\"M 31.78125 66.40625 \nQ 24.171875 66.40625 20.328125 58.90625 \nQ 16.5 51.421875 16.5 36.375 \nQ 16.5 21.390625 20.328125 13.890625 \nQ 24.171875 6.390625 31.78125 6.390625 \nQ 39.453125 6.390625 43.28125 13.890625 \nQ 47.125 21.390625 47.125 36.375 \nQ 47.125 51.421875 43.28125 58.90625 \nQ 39.453125 66.40625 31.78125 66.40625 \nz\nM 31.78125 74.21875 \nQ 44.046875 74.21875 50.515625 64.515625 \nQ 56.984375 54.828125 56.984375 36.375 \nQ 56.984375 17.96875 50.515625 8.265625 \nQ 44.046875 -1.421875 31.78125 -1.421875 \nQ 19.53125 -1.421875 13.0625 8.265625 \nQ 6.59375 17.96875 6.59375 36.375 \nQ 6.59375 54.828125 13.0625 64.515625 \nQ 19.53125 74.21875 31.78125 74.21875 \nz\n\" id=\"DejaVuSans-30\"/>\n      </defs>\n      <g transform=\"translate(46.328125 231.939219)scale(0.1 -0.1)\">\n       <use xlink:href=\"#DejaVuSans-30\"/>\n      </g>\n     </g>\n    </g>\n    <g id=\"ytick_2\">\n     <g id=\"line2d_5\">\n      <g>\n       <use style=\"stroke:#000000;stroke-width:0.8;\" x=\"59.690625\" xlink:href=\"#md5e179efd4\" y=\"196.042645\"/>\n      </g>\n     </g>\n     <g id=\"text_5\">\n      <!-- 5000 -->\n      <defs>\n       <path d=\"M 10.796875 72.90625 \nL 49.515625 72.90625 \nL 49.515625 64.59375 \nL 19.828125 64.59375 \nL 19.828125 46.734375 \nQ 21.96875 47.46875 24.109375 47.828125 \nQ 26.265625 48.1875 28.421875 48.1875 \nQ 40.625 48.1875 47.75 41.5 \nQ 54.890625 34.8125 54.890625 23.390625 \nQ 54.890625 11.625 47.5625 5.09375 \nQ 40.234375 -1.421875 26.90625 -1.421875 \nQ 22.3125 -1.421875 17.546875 -0.640625 \nQ 12.796875 0.140625 7.71875 1.703125 \nL 7.71875 11.625 \nQ 12.109375 9.234375 16.796875 8.0625 \nQ 21.484375 6.890625 26.703125 6.890625 \nQ 35.15625 6.890625 40.078125 11.328125 \nQ 45.015625 15.765625 45.015625 23.390625 \nQ 45.015625 31 40.078125 35.4375 \nQ 35.15625 39.890625 26.703125 39.890625 \nQ 22.75 39.890625 18.8125 39.015625 \nQ 14.890625 38.140625 10.796875 36.28125 \nz\n\" id=\"DejaVuSans-35\"/>\n      </defs>\n      <g transform=\"translate(27.240625 199.841864)scale(0.1 -0.1)\">\n       <use xlink:href=\"#DejaVuSans-35\"/>\n       <use x=\"63.623047\" xlink:href=\"#DejaVuSans-30\"/>\n       <use x=\"127.246094\" xlink:href=\"#DejaVuSans-30\"/>\n       <use x=\"190.869141\" xlink:href=\"#DejaVuSans-30\"/>\n      </g>\n     </g>\n    </g>\n    <g id=\"ytick_3\">\n     <g id=\"line2d_6\">\n      <g>\n       <use style=\"stroke:#000000;stroke-width:0.8;\" x=\"59.690625\" xlink:href=\"#md5e179efd4\" y=\"163.94529\"/>\n      </g>\n     </g>\n     <g id=\"text_6\">\n      <!-- 10000 -->\n      <defs>\n       <path d=\"M 12.40625 8.296875 \nL 28.515625 8.296875 \nL 28.515625 63.921875 \nL 10.984375 60.40625 \nL 10.984375 69.390625 \nL 28.421875 72.90625 \nL 38.28125 72.90625 \nL 38.28125 8.296875 \nL 54.390625 8.296875 \nL 54.390625 0 \nL 12.40625 0 \nz\n\" id=\"DejaVuSans-31\"/>\n      </defs>\n      <g transform=\"translate(20.878125 167.744509)scale(0.1 -0.1)\">\n       <use xlink:href=\"#DejaVuSans-31\"/>\n       <use x=\"63.623047\" xlink:href=\"#DejaVuSans-30\"/>\n       <use x=\"127.246094\" xlink:href=\"#DejaVuSans-30\"/>\n       <use x=\"190.869141\" xlink:href=\"#DejaVuSans-30\"/>\n       <use x=\"254.492188\" xlink:href=\"#DejaVuSans-30\"/>\n      </g>\n     </g>\n    </g>\n    <g id=\"ytick_4\">\n     <g id=\"line2d_7\">\n      <g>\n       <use style=\"stroke:#000000;stroke-width:0.8;\" x=\"59.690625\" xlink:href=\"#md5e179efd4\" y=\"131.847935\"/>\n      </g>\n     </g>\n     <g id=\"text_7\">\n      <!-- 15000 -->\n      <g transform=\"translate(20.878125 135.647154)scale(0.1 -0.1)\">\n       <use xlink:href=\"#DejaVuSans-31\"/>\n       <use x=\"63.623047\" xlink:href=\"#DejaVuSans-35\"/>\n       <use x=\"127.246094\" xlink:href=\"#DejaVuSans-30\"/>\n       <use x=\"190.869141\" xlink:href=\"#DejaVuSans-30\"/>\n       <use x=\"254.492188\" xlink:href=\"#DejaVuSans-30\"/>\n      </g>\n     </g>\n    </g>\n    <g id=\"ytick_5\">\n     <g id=\"line2d_8\">\n      <g>\n       <use style=\"stroke:#000000;stroke-width:0.8;\" x=\"59.690625\" xlink:href=\"#md5e179efd4\" y=\"99.75058\"/>\n      </g>\n     </g>\n     <g id=\"text_8\">\n      <!-- 20000 -->\n      <defs>\n       <path d=\"M 19.1875 8.296875 \nL 53.609375 8.296875 \nL 53.609375 0 \nL 7.328125 0 \nL 7.328125 8.296875 \nQ 12.9375 14.109375 22.625 23.890625 \nQ 32.328125 33.6875 34.8125 36.53125 \nQ 39.546875 41.84375 41.421875 45.53125 \nQ 43.3125 49.21875 43.3125 52.78125 \nQ 43.3125 58.59375 39.234375 62.25 \nQ 35.15625 65.921875 28.609375 65.921875 \nQ 23.96875 65.921875 18.8125 64.3125 \nQ 13.671875 62.703125 7.8125 59.421875 \nL 7.8125 69.390625 \nQ 13.765625 71.78125 18.9375 73 \nQ 24.125 74.21875 28.421875 74.21875 \nQ 39.75 74.21875 46.484375 68.546875 \nQ 53.21875 62.890625 53.21875 53.421875 \nQ 53.21875 48.921875 51.53125 44.890625 \nQ 49.859375 40.875 45.40625 35.40625 \nQ 44.1875 33.984375 37.640625 27.21875 \nQ 31.109375 20.453125 19.1875 8.296875 \nz\n\" id=\"DejaVuSans-32\"/>\n      </defs>\n      <g transform=\"translate(20.878125 103.549799)scale(0.1 -0.1)\">\n       <use xlink:href=\"#DejaVuSans-32\"/>\n       <use x=\"63.623047\" xlink:href=\"#DejaVuSans-30\"/>\n       <use x=\"127.246094\" xlink:href=\"#DejaVuSans-30\"/>\n       <use x=\"190.869141\" xlink:href=\"#DejaVuSans-30\"/>\n       <use x=\"254.492188\" xlink:href=\"#DejaVuSans-30\"/>\n      </g>\n     </g>\n    </g>\n    <g id=\"ytick_6\">\n     <g id=\"line2d_9\">\n      <g>\n       <use style=\"stroke:#000000;stroke-width:0.8;\" x=\"59.690625\" xlink:href=\"#md5e179efd4\" y=\"67.653226\"/>\n      </g>\n     </g>\n     <g id=\"text_9\">\n      <!-- 25000 -->\n      <g transform=\"translate(20.878125 71.452444)scale(0.1 -0.1)\">\n       <use xlink:href=\"#DejaVuSans-32\"/>\n       <use x=\"63.623047\" xlink:href=\"#DejaVuSans-35\"/>\n       <use x=\"127.246094\" xlink:href=\"#DejaVuSans-30\"/>\n       <use x=\"190.869141\" xlink:href=\"#DejaVuSans-30\"/>\n       <use x=\"254.492188\" xlink:href=\"#DejaVuSans-30\"/>\n      </g>\n     </g>\n    </g>\n    <g id=\"ytick_7\">\n     <g id=\"line2d_10\">\n      <g>\n       <use style=\"stroke:#000000;stroke-width:0.8;\" x=\"59.690625\" xlink:href=\"#md5e179efd4\" y=\"35.555871\"/>\n      </g>\n     </g>\n     <g id=\"text_10\">\n      <!-- 30000 -->\n      <defs>\n       <path d=\"M 40.578125 39.3125 \nQ 47.65625 37.796875 51.625 33 \nQ 55.609375 28.21875 55.609375 21.1875 \nQ 55.609375 10.40625 48.1875 4.484375 \nQ 40.765625 -1.421875 27.09375 -1.421875 \nQ 22.515625 -1.421875 17.65625 -0.515625 \nQ 12.796875 0.390625 7.625 2.203125 \nL 7.625 11.71875 \nQ 11.71875 9.328125 16.59375 8.109375 \nQ 21.484375 6.890625 26.8125 6.890625 \nQ 36.078125 6.890625 40.9375 10.546875 \nQ 45.796875 14.203125 45.796875 21.1875 \nQ 45.796875 27.640625 41.28125 31.265625 \nQ 36.765625 34.90625 28.71875 34.90625 \nL 20.21875 34.90625 \nL 20.21875 43.015625 \nL 29.109375 43.015625 \nQ 36.375 43.015625 40.234375 45.921875 \nQ 44.09375 48.828125 44.09375 54.296875 \nQ 44.09375 59.90625 40.109375 62.90625 \nQ 36.140625 65.921875 28.71875 65.921875 \nQ 24.65625 65.921875 20.015625 65.03125 \nQ 15.375 64.15625 9.8125 62.3125 \nL 9.8125 71.09375 \nQ 15.4375 72.65625 20.34375 73.4375 \nQ 25.25 74.21875 29.59375 74.21875 \nQ 40.828125 74.21875 47.359375 69.109375 \nQ 53.90625 64.015625 53.90625 55.328125 \nQ 53.90625 49.265625 50.4375 45.09375 \nQ 46.96875 40.921875 40.578125 39.3125 \nz\n\" id=\"DejaVuSans-33\"/>\n      </defs>\n      <g transform=\"translate(20.878125 39.355089)scale(0.1 -0.1)\">\n       <use xlink:href=\"#DejaVuSans-33\"/>\n       <use x=\"63.623047\" xlink:href=\"#DejaVuSans-30\"/>\n       <use x=\"127.246094\" xlink:href=\"#DejaVuSans-30\"/>\n       <use x=\"190.869141\" xlink:href=\"#DejaVuSans-30\"/>\n       <use x=\"254.492188\" xlink:href=\"#DejaVuSans-30\"/>\n      </g>\n     </g>\n    </g>\n    <g id=\"text_11\">\n     <!-- Count -->\n     <defs>\n      <path d=\"M 64.40625 67.28125 \nL 64.40625 56.890625 \nQ 59.421875 61.53125 53.78125 63.8125 \nQ 48.140625 66.109375 41.796875 66.109375 \nQ 29.296875 66.109375 22.65625 58.46875 \nQ 16.015625 50.828125 16.015625 36.375 \nQ 16.015625 21.96875 22.65625 14.328125 \nQ 29.296875 6.6875 41.796875 6.6875 \nQ 48.140625 6.6875 53.78125 8.984375 \nQ 59.421875 11.28125 64.40625 15.921875 \nL 64.40625 5.609375 \nQ 59.234375 2.09375 53.4375 0.328125 \nQ 47.65625 -1.421875 41.21875 -1.421875 \nQ 24.65625 -1.421875 15.125 8.703125 \nQ 5.609375 18.84375 5.609375 36.375 \nQ 5.609375 53.953125 15.125 64.078125 \nQ 24.65625 74.21875 41.21875 74.21875 \nQ 47.75 74.21875 53.53125 72.484375 \nQ 59.328125 70.75 64.40625 67.28125 \nz\n\" id=\"DejaVuSans-43\"/>\n     </defs>\n     <g transform=\"translate(14.798438 134.268437)rotate(-90)scale(0.1 -0.1)\">\n      <use xlink:href=\"#DejaVuSans-43\"/>\n      <use x=\"69.824219\" xlink:href=\"#DejaVuSans-6f\"/>\n      <use x=\"131.005859\" xlink:href=\"#DejaVuSans-75\"/>\n      <use x=\"194.384766\" xlink:href=\"#DejaVuSans-6e\"/>\n      <use x=\"257.763672\" xlink:href=\"#DejaVuSans-74\"/>\n     </g>\n    </g>\n   </g>\n   <g id=\"patch_6\">\n    <path d=\"M 59.690625 228.14 \nL 59.690625 10.7 \n\" style=\"fill:none;stroke:#000000;stroke-linecap:square;stroke-linejoin:miter;stroke-width:0.8;\"/>\n   </g>\n   <g id=\"patch_7\">\n    <path d=\"M 394.490625 228.14 \nL 394.490625 10.7 \n\" style=\"fill:none;stroke:#000000;stroke-linecap:square;stroke-linejoin:miter;stroke-width:0.8;\"/>\n   </g>\n   <g id=\"patch_8\">\n    <path d=\"M 59.690625 228.14 \nL 394.490625 228.14 \n\" style=\"fill:none;stroke:#000000;stroke-linecap:square;stroke-linejoin:miter;stroke-width:0.8;\"/>\n   </g>\n   <g id=\"patch_9\">\n    <path d=\"M 59.690625 10.7 \nL 394.490625 10.7 \n\" style=\"fill:none;stroke:#000000;stroke-linecap:square;stroke-linejoin:miter;stroke-width:0.8;\"/>\n   </g>\n  </g>\n </g>\n <defs>\n  <clipPath id=\"p626df00d2b\">\n   <rect height=\"217.44\" width=\"334.8\" x=\"59.690625\" y=\"10.7\"/>\n  </clipPath>\n </defs>\n</svg>\n",
      "image/png": "[encoded data removed]"
     },
     "metadata": {
      "needs_background": "light"
     }
    }
   ],
   "source": [
    "# Bar plot of target Y\n",
    "train['status_group'].value_counts().plot(kind = 'bar')\n",
    "plt.ylabel('Count')\n",
    "plt.show()"
   ]
  },
  {
   "cell_type": "markdown",
   "metadata": {},
   "source": [
    "### Feature Engineering\n",
    "\n",
    "Selecting and renaming variables.\n",
    "This is to reduce the number of independent variables in the statistical model."
   ]
  },
  {
   "cell_type": "code",
   "execution_count": 37,
   "metadata": {},
   "outputs": [
    {
     "output_type": "execute_result",
     "data": {
      "text/plain": [
       "['amount_tsh',\n",
       " 'gps_height',\n",
       " 'num_private',\n",
       " 'basin',\n",
       " 'region',\n",
       " 'region_code',\n",
       " 'district_code',\n",
       " 'population',\n",
       " 'public_meeting',\n",
       " 'recorded_by',\n",
       " 'scheme_management',\n",
       " 'permit',\n",
       " 'construction_year',\n",
       " 'extraction_type',\n",
       " 'extraction_type_group',\n",
       " 'extraction_type_class',\n",
       " 'management',\n",
       " 'management_group',\n",
       " 'payment',\n",
       " 'water_quality',\n",
       " 'quality_group',\n",
       " 'source',\n",
       " 'source_type',\n",
       " 'waterpoint_type',\n",
       " 'waterpoint_type_group',\n",
       " 'status_group',\n",
       " 'payment_type',\n",
       " 'quantity',\n",
       " 'quantity_group',\n",
       " 'source_class']"
      ]
     },
     "metadata": {},
     "execution_count": 37
    }
   ],
   "source": [
    "# List of column names\n",
    "train_columns = columns[:]\n",
    "train_columns"
   ]
  },
  {
   "cell_type": "code",
   "execution_count": 38,
   "metadata": {},
   "outputs": [
    {
     "output_type": "stream",
     "name": "stdout",
     "text": [
      "amount_tsh  :  98  Unique values\n",
      "gps_height  :  2428  Unique values\n",
      "num_private  :  65  Unique values\n",
      "basin  :  9  Volume count\n",
      "basin  :  ['Lake Nyasa' 'Lake Victoria' 'Pangani' 'Ruvuma / Southern Coast'\n",
      " 'Internal' 'Lake Tanganyika' 'Wami / Ruvu' 'Rufiji' 'Lake Rukwa']  Unique values\n",
      "region  :  21  Unique values\n",
      "region_code  :  27  Unique values\n",
      "district_code  :  20  Unique values\n",
      "population  :  1049  Unique values\n",
      "public_meeting  :  2  Volume count\n",
      "public_meeting  :  [ True False]  Unique values\n",
      "recorded_by  :  1  Volume count\n",
      "recorded_by  :  ['GeoData Consultants Ltd']  Unique values\n",
      "scheme_management  :  12  Volume count\n",
      "scheme_management  :  ['VWC' 'Other' nan 'Private operator' 'WUG' 'Water Board' 'WUA'\n",
      " 'Water authority' 'Company' 'Parastatal' 'Trust' 'SWC' 'None']  Unique values\n",
      "permit  :  2  Volume count\n",
      "permit  :  [False  True]  Unique values\n",
      "construction_year  :  54  Unique values\n",
      "extraction_type  :  18  Volume count\n",
      "extraction_type  :  ['gravity' 'submersible' 'swn 80' 'nira/tanira' 'india mark ii' 'other'\n",
      " 'ksb' 'mono' 'windmill' 'afridev' 'other - rope pump' 'india mark iii'\n",
      " 'other - swn 81' 'other - play pump' 'cemo' 'climax' 'walimi'\n",
      " 'other - mkulima/shinyanga']  Unique values\n",
      "extraction_type_group  :  13  Volume count\n",
      "extraction_type_group  :  ['gravity' 'submersible' 'swn 80' 'nira/tanira' 'india mark ii' 'other'\n",
      " 'mono' 'wind-powered' 'afridev' 'rope pump' 'india mark iii'\n",
      " 'other handpump' 'other motorpump']  Unique values\n",
      "extraction_type_class  :  7  Volume count\n",
      "extraction_type_class  :  ['gravity' 'submersible' 'handpump' 'other' 'motorpump' 'wind-powered'\n",
      " 'rope pump']  Unique values\n",
      "management  :  12  Volume count\n",
      "management  :  ['vwc' 'wug' 'other' 'private operator' 'water board' 'wua' 'company'\n",
      " 'water authority' 'parastatal' 'unknown' 'other - school' 'trust']  Unique values\n",
      "management_group  :  5  Volume count\n",
      "management_group  :  ['user-group' 'other' 'commercial' 'parastatal' 'unknown']  Unique values\n",
      "payment  :  7  Volume count\n",
      "payment  :  ['pay annually' 'never pay' 'pay per bucket' 'unknown'\n",
      " 'pay when scheme fails' 'other' 'pay monthly']  Unique values\n",
      "water_quality  :  8  Volume count\n",
      "water_quality  :  ['soft' 'salty' 'milky' 'unknown' 'fluoride' 'coloured' 'salty abandoned'\n",
      " 'fluoride abandoned']  Unique values\n",
      "quality_group  :  6  Volume count\n",
      "quality_group  :  ['good' 'salty' 'milky' 'unknown' 'fluoride' 'colored']  Unique values\n",
      "source  :  10  Volume count\n",
      "source  :  ['spring' 'rainwater harvesting' 'dam' 'machine dbh' 'other'\n",
      " 'shallow well' 'river' 'hand dtw' 'lake' 'unknown']  Unique values\n",
      "source_type  :  7  Volume count\n",
      "source_type  :  ['spring' 'rainwater harvesting' 'dam' 'borehole' 'other' 'shallow well'\n",
      " 'river/lake']  Unique values\n",
      "waterpoint_type  :  7  Volume count\n",
      "waterpoint_type  :  ['communal standpipe' 'communal standpipe multiple' 'hand pump' 'other'\n",
      " 'improved spring' 'cattle trough' 'dam']  Unique values\n",
      "waterpoint_type_group  :  6  Volume count\n",
      "waterpoint_type_group  :  ['communal standpipe' 'hand pump' 'other' 'improved spring'\n",
      " 'cattle trough' 'dam']  Unique values\n",
      "status_group  :  3  Volume count\n",
      "status_group  :  ['functional' 'non functional' 'functional needs repair']  Unique values\n",
      "payment_type  :  7  Volume count\n",
      "payment_type  :  ['annually' 'never pay' 'per bucket' 'unknown' 'on failure' 'other'\n",
      " 'monthly']  Unique values\n",
      "quantity  :  5  Volume count\n",
      "quantity  :  ['enough' 'insufficient' 'dry' 'seasonal' 'unknown']  Unique values\n",
      "quantity_group  :  5  Volume count\n",
      "quantity_group  :  ['enough' 'insufficient' 'dry' 'seasonal' 'unknown']  Unique values\n",
      "source_class  :  3  Volume count\n",
      "source_class  :  ['groundwater' 'surface' 'unknown']  Unique values\n"
     ]
    }
   ],
   "source": [
    "# No. of Unique values in features\n",
    "for i in train_columns:\n",
    "  n = train[i].unique()\n",
    "  if len(n) < 20:\n",
    "    print(i, \" : \", train[i].nunique(), \" Volume count\")\n",
    "    print(i, \" : \", n, \" Unique values\")\n",
    "  else:\n",
    "    print(i, \" : \", str(len(n)), \" Unique values\")"
   ]
  },
  {
   "cell_type": "code",
   "execution_count": 39,
   "metadata": {},
   "outputs": [],
   "source": [
    "#Added 03/05. We can use this on both the training set and test set.\n",
    "\n",
    "\n",
    "def recode(df):\n",
    "    # Regrouping specific independent variables\n",
    "    df['district_code_recoded'] = np.where(df['district_code'] <= 4, 'District Codes 1-4', 'Other Districts')\n",
    "\n",
    "    df['scheme_management_recoded'] = np.where(df['scheme_management'] == 'VWC', 'VWC', 'Other')\n",
    "\n",
    "    df['extraction_type_recoded'] = np.where(df['extraction_type'] == 'gravity', 'gravity', 'other')\n",
    "    \n",
    "    df['management_recoded'] = np.where(df['management'] == 'vwc', 'vwc', 'other')\n",
    "    df['management_group_recoded'] = np.where(df['management_group'] == 'user-group', 'user-group', 'other')\n",
    "\n",
    "    df['payment_recoded'] = np.where(df['payment'] == 'never pay', 'never pay', 'other') #repetition ??\n",
    "    df['payment_type_recoded'] = np.where(df['payment_type'] == 'never pay', 'never pay', 'other') #repetition ??\n",
    "\n",
    "    df['water_quality_recoded'] = np.where(df['water_quality'] == 'soft', 'soft', 'other') #repetition ??\n",
    "    df['quality_group_recoded'] = np.where(df['quality_group'] == 'good', 'good', 'other') #repetition ??\n",
    "\n",
    "    df['source_recoded'] = np.where(~df['source'].isin(['shallow well','spring']), 'other', df['source']) #repetition ??\n",
    "    df['source_type_recoded'] = np.where(~df['source_type'].isin(['shallow well','spring','borehole','river/lake']), 'other', df['source_type']) #repetition ??\n",
    "    df['source_class_recoded'] = np.where(~df['source_class'].isin(['groundwater','surface']), 'other', df['source_class'])\n",
    "\n",
    "    df['waterpoint_type_recoded'] = np.where(~df['waterpoint_type'].isin(['communal standpipe','hand pump']), 'other', df['waterpoint_type']) #repetition ??\n",
    "    df['waterpoint_type_group_recoded'] = np.where(~df['waterpoint_type_group'].isin(['communal standpipe','hand pump']), 'other', df['waterpoint_type_group']) #repetition ??\n",
    "\n",
    "    df['quantity_recoded'] = np.where(~df['quantity'].isin(['enough','insufficient']), 'other', df['quantity']) #repetition ??\n",
    "    df['quantity_group_recoded'] = np.where(~df['quantity_group'].isin(['enough','insufficient']), 'other', df['quantity_group']) #repetition ??\n",
    "\n",
    "    return df"
   ]
  },
  {
   "cell_type": "code",
   "execution_count": 40,
   "metadata": {},
   "outputs": [],
   "source": [
    "# Run the function above\n",
    "train=recode(train)"
   ]
  },
  {
   "cell_type": "code",
   "execution_count": 41,
   "metadata": {},
   "outputs": [
    {
     "output_type": "execute_result",
     "data": {
      "text/plain": [
       "(59400, 57)"
      ]
     },
     "metadata": {},
     "execution_count": 41
    }
   ],
   "source": [
    "train.shape"
   ]
  },
  {
   "cell_type": "code",
   "execution_count": 42,
   "metadata": {},
   "outputs": [],
   "source": [
    "# Recoded and clean Dataset\n",
    "\n",
    "columns = ['amount_tsh','gps_height','num_private','basin','region','region_code',\n",
    "           'district_code','district_code_recoded','population','public_meeting','recorded_by',\n",
    "           'scheme_management','scheme_management_recoded','permit','construction_year',\n",
    "           'extraction_type','extraction_type_recoded','extraction_type_group','extraction_type_class',\n",
    "           'management','management_recoded','management_group','management_group_recoded',\n",
    "           'payment','payment_recoded','payment_type','payment_type_recoded',\n",
    "           'water_quality','water_quality_recoded','quality_group','quality_group_recoded',\n",
    "           'source','source_recoded','source_type','source_type_recoded','source_class','source_class_recoded',\n",
    "           'waterpoint_type','waterpoint_type_recoded','waterpoint_type_group','waterpoint_type_group_recoded',\n",
    "           'quantity','quantity_recoded','quantity_group','quantity_group_recoded',\n",
    "           'status_group']\n",
    "\n",
    "categorical = ['basin','region','region_code','district_code','district_code_recoded','public_meeting',\n",
    "               'recorded_by','scheme_management','scheme_management_recoded','permit',\n",
    "               'extraction_type','extraction_type_recoded','extraction_type_group','extraction_type_class',\n",
    "               'management','management_recoded','management_group','management_group_recoded',\n",
    "               'payment','payment_recoded','payment_type','payment_type_recoded',\n",
    "               'water_quality','water_quality_recoded','quality_group','quality_group_recoded','quantity','quantity_recoded',\n",
    "               'quantity_group','quantity_group_recoded','source','source_recoded','source_type','source_type_recoded',\n",
    "               'source_class','source_class_recoded','waterpoint_type_group','waterpoint_type_group_recoded',\n",
    "               'waterpoint_type', 'waterpoint_type_recoded','status_group']"
   ]
  },
  {
   "cell_type": "code",
   "execution_count": 43,
   "metadata": {},
   "outputs": [
    {
     "output_type": "execute_result",
     "data": {
      "text/plain": [
       "      id  amount_tsh date_recorded        funder  gps_height     installer  \\\n",
       "0  69572      6000.0    2011-03-14         Roman        1390         Roman   \n",
       "1   8776         0.0    2013-03-06       Grumeti        1399       GRUMETI   \n",
       "2  34310        25.0    2013-02-25  Lottery Club         686  World vision   \n",
       "3  67743         0.0    2013-01-28        Unicef         263        UNICEF   \n",
       "4  19728         0.0    2011-07-13   Action In A           0       Artisan   \n",
       "\n",
       "   longitude   latitude              wpt_name  num_private  ...  \\\n",
       "0  34.938093  -9.856322                  none            0  ...   \n",
       "1  34.698766  -2.147466              Zahanati            0  ...   \n",
       "2  37.460664  -3.821329           Kwa Mahundi            0  ...   \n",
       "3  38.486161 -11.155298  Zahanati Ya Nanyumbu            0  ...   \n",
       "4  31.130847  -1.825359               Shuleni            0  ...   \n",
       "\n",
       "  payment_type_recoded water_quality_recoded quality_group_recoded  \\\n",
       "0                other                  soft                  good   \n",
       "1            never pay                  soft                  good   \n",
       "2                other                  soft                  good   \n",
       "3            never pay                  soft                  good   \n",
       "4            never pay                  soft                  good   \n",
       "\n",
       "   source_recoded  source_type_recoded source_class_recoded  \\\n",
       "0          spring               spring          groundwater   \n",
       "1           other                other              surface   \n",
       "2           other                other              surface   \n",
       "3           other             borehole          groundwater   \n",
       "4           other                other              surface   \n",
       "\n",
       "  waterpoint_type_recoded  waterpoint_type_group_recoded  quantity_recoded  \\\n",
       "0      communal standpipe             communal standpipe            enough   \n",
       "1      communal standpipe             communal standpipe      insufficient   \n",
       "2                   other             communal standpipe            enough   \n",
       "3                   other             communal standpipe             other   \n",
       "4      communal standpipe             communal standpipe             other   \n",
       "\n",
       "  quantity_group_recoded  \n",
       "0                 enough  \n",
       "1           insufficient  \n",
       "2                 enough  \n",
       "3                  other  \n",
       "4                  other  \n",
       "\n",
       "[5 rows x 57 columns]"
      ],
      "text/html": "<div>\n<style scoped>\n    .dataframe tbody tr th:only-of-type {\n        vertical-align: middle;\n    }\n\n    .dataframe tbody tr th {\n        vertical-align: top;\n    }\n\n    .dataframe thead th {\n        text-align: right;\n    }\n</style>\n<table border=\"1\" class=\"dataframe\">\n  <thead>\n    <tr style=\"text-align: right;\">\n      <th></th>\n      <th>id</th>\n      <th>amount_tsh</th>\n      <th>date_recorded</th>\n      <th>funder</th>\n      <th>gps_height</th>\n      <th>installer</th>\n      <th>longitude</th>\n      <th>latitude</th>\n      <th>wpt_name</th>\n      <th>num_private</th>\n      <th>...</th>\n      <th>payment_type_recoded</th>\n      <th>water_quality_recoded</th>\n      <th>quality_group_recoded</th>\n      <th>source_recoded</th>\n      <th>source_type_recoded</th>\n      <th>source_class_recoded</th>\n      <th>waterpoint_type_recoded</th>\n      <th>waterpoint_type_group_recoded</th>\n      <th>quantity_recoded</th>\n      <th>quantity_group_recoded</th>\n    </tr>\n  </thead>\n  <tbody>\n    <tr>\n      <th>0</th>\n      <td>69572</td>\n      <td>6000.0</td>\n      <td>2011-03-14</td>\n      <td>Roman</td>\n      <td>1390</td>\n      <td>Roman</td>\n      <td>34.938093</td>\n      <td>-9.856322</td>\n      <td>none</td>\n      <td>0</td>\n      <td>...</td>\n      <td>other</td>\n      <td>soft</td>\n      <td>good</td>\n      <td>spring</td>\n      <td>spring</td>\n      <td>groundwater</td>\n      <td>communal standpipe</td>\n      <td>communal standpipe</td>\n      <td>enough</td>\n      <td>enough</td>\n    </tr>\n    <tr>\n      <th>1</th>\n      <td>8776</td>\n      <td>0.0</td>\n      <td>2013-03-06</td>\n      <td>Grumeti</td>\n      <td>1399</td>\n      <td>GRUMETI</td>\n      <td>34.698766</td>\n      <td>-2.147466</td>\n      <td>Zahanati</td>\n      <td>0</td>\n      <td>...</td>\n      <td>never pay</td>\n      <td>soft</td>\n      <td>good</td>\n      <td>other</td>\n      <td>other</td>\n      <td>surface</td>\n      <td>communal standpipe</td>\n      <td>communal standpipe</td>\n      <td>insufficient</td>\n      <td>insufficient</td>\n    </tr>\n    <tr>\n      <th>2</th>\n      <td>34310</td>\n      <td>25.0</td>\n      <td>2013-02-25</td>\n      <td>Lottery Club</td>\n      <td>686</td>\n      <td>World vision</td>\n      <td>37.460664</td>\n      <td>-3.821329</td>\n      <td>Kwa Mahundi</td>\n      <td>0</td>\n      <td>...</td>\n      <td>other</td>\n      <td>soft</td>\n      <td>good</td>\n      <td>other</td>\n      <td>other</td>\n      <td>surface</td>\n      <td>other</td>\n      <td>communal standpipe</td>\n      <td>enough</td>\n      <td>enough</td>\n    </tr>\n    <tr>\n      <th>3</th>\n      <td>67743</td>\n      <td>0.0</td>\n      <td>2013-01-28</td>\n      <td>Unicef</td>\n      <td>263</td>\n      <td>UNICEF</td>\n      <td>38.486161</td>\n      <td>-11.155298</td>\n      <td>Zahanati Ya Nanyumbu</td>\n      <td>0</td>\n      <td>...</td>\n      <td>never pay</td>\n      <td>soft</td>\n      <td>good</td>\n      <td>other</td>\n      <td>borehole</td>\n      <td>groundwater</td>\n      <td>other</td>\n      <td>communal standpipe</td>\n      <td>other</td>\n      <td>other</td>\n    </tr>\n    <tr>\n      <th>4</th>\n      <td>19728</td>\n      <td>0.0</td>\n      <td>2011-07-13</td>\n      <td>Action In A</td>\n      <td>0</td>\n      <td>Artisan</td>\n      <td>31.130847</td>\n      <td>-1.825359</td>\n      <td>Shuleni</td>\n      <td>0</td>\n      <td>...</td>\n      <td>never pay</td>\n      <td>soft</td>\n      <td>good</td>\n      <td>other</td>\n      <td>other</td>\n      <td>surface</td>\n      <td>communal standpipe</td>\n      <td>communal standpipe</td>\n      <td>other</td>\n      <td>other</td>\n    </tr>\n  </tbody>\n</table>\n<p>5 rows × 57 columns</p>\n</div>"
     },
     "metadata": {},
     "execution_count": 43
    }
   ],
   "source": [
    "train.head()"
   ]
  },
  {
   "cell_type": "code",
   "execution_count": 44,
   "metadata": {
    "tags": [
     "outputPrepend"
    ]
   },
   "outputs": [
    {
     "output_type": "stream",
     "name": "stdout",
     "text": [
      " (22.4)           │ 7266 (22.5)            │ 1571 (36.4)               │ 4491 (19.7)            │           │\n├──────────────────────────────────────────────────────────────────────────┼─────────────────────────────┼───────────┼────────────────────────┼────────────────────────┼───────────────────────────┼────────────────────────┼───────────┤\n│                                                                          │ unknown                     │           │ 278 (0.5)              │ 158 (0.5)              │ 5 (0.1)                   │ 115 (0.5)              │           │\n├──────────────────────────────────────────────────────────────────────────┼─────────────────────────────┼───────────┼────────────────────────┼────────────────────────┼───────────────────────────┼────────────────────────┼───────────┤\n│ source_class_recoded, n (%)                                              │ groundwater                 │ 0         │ 45794 (77.1)           │ 24835 (77.0)           │ 2741 (63.5)               │ 18218 (79.8)           │ <0.001    │\n├──────────────────────────────────────────────────────────────────────────┼─────────────────────────────┼───────────┼────────────────────────┼────────────────────────┼───────────────────────────┼────────────────────────┼───────────┤\n│                                                                          │ other                       │           │ 278 (0.5)              │ 158 (0.5)              │ 5 (0.1)                   │ 115 (0.5)              │           │\n├──────────────────────────────────────────────────────────────────────────┼─────────────────────────────┼───────────┼────────────────────────┼────────────────────────┼───────────────────────────┼────────────────────────┼───────────┤\n│                                                                          │ surface                     │           │ 13328 (22.4)           │ 7266 (22.5)            │ 1571 (36.4)               │ 4491 (19.7)            │           │\n├──────────────────────────────────────────────────────────────────────────┼─────────────────────────────┼───────────┼────────────────────────┼────────────────────────┼───────────────────────────┼────────────────────────┼───────────┤\n│ The kind of waterpoint, n (%)                                            │ cattle trough               │ 0         │ 116 (0.2)              │ 84 (0.3)               │ 2 (0.0)                   │ 30 (0.1)               │ <0.001    │\n├──────────────────────────────────────────────────────────────────────────┼─────────────────────────────┼───────────┼────────────────────────┼────────────────────────┼───────────────────────────┼────────────────────────┼───────────┤\n│                                                                          │ communal standpipe          │           │ 28522 (48.0)           │ 17726 (54.9)           │ 2260 (52.4)               │ 8536 (37.4)            │           │\n├──────────────────────────────────────────────────────────────────────────┼─────────────────────────────┼───────────┼────────────────────────┼────────────────────────┼───────────────────────────┼────────────────────────┼───────────┤\n│                                                                          │ communal standpipe multiple │           │ 6103 (10.3)            │ 2235 (6.9)             │ 648 (15.0)                │ 3220 (14.1)            │           │\n├──────────────────────────────────────────────────────────────────────────┼─────────────────────────────┼───────────┼────────────────────────┼────────────────────────┼───────────────────────────┼────────────────────────┼───────────┤\n│                                                                          │ dam                         │           │ 7 (0.0)                │ 6 (0.0)                │                           │ 1 (0.0)                │           │\n├──────────────────────────────────────────────────────────────────────────┼─────────────────────────────┼───────────┼────────────────────────┼────────────────────────┼───────────────────────────┼────────────────────────┼───────────┤\n│                                                                          │ hand pump                   │           │ 17488 (29.4)           │ 10805 (33.5)           │ 1029 (23.8)               │ 5654 (24.8)            │           │\n├──────────────────────────────────────────────────────────────────────────┼─────────────────────────────┼───────────┼────────────────────────┼────────────────────────┼───────────────────────────┼────────────────────────┼───────────┤\n│                                                                          │ improved spring             │           │ 784 (1.3)              │ 563 (1.7)              │ 85 (2.0)                  │ 136 (0.6)              │           │\n├──────────────────────────────────────────────────────────────────────────┼─────────────────────────────┼───────────┼────────────────────────┼────────────────────────┼───────────────────────────┼────────────────────────┼───────────┤\n│                                                                          │ other                       │           │ 6380 (10.7)            │ 840 (2.6)              │ 293 (6.8)                 │ 5247 (23.0)            │           │\n├──────────────────────────────────────────────────────────────────────────┼─────────────────────────────┼───────────┼────────────────────────┼────────────────────────┼───────────────────────────┼────────────────────────┼───────────┤\n│ waterpoint_type_recoded, n (%)                                           │ communal standpipe          │ 0         │ 28522 (48.0)           │ 17726 (54.9)           │ 2260 (52.4)               │ 8536 (37.4)            │ <0.001    │\n├──────────────────────────────────────────────────────────────────────────┼─────────────────────────────┼───────────┼────────────────────────┼────────────────────────┼───────────────────────────┼────────────────────────┼───────────┤\n│                                                                          │ hand pump                   │           │ 17488 (29.4)           │ 10805 (33.5)           │ 1029 (23.8)               │ 5654 (24.8)            │           │\n├──────────────────────────────────────────────────────────────────────────┼─────────────────────────────┼───────────┼────────────────────────┼────────────────────────┼───────────────────────────┼────────────────────────┼───────────┤\n│                                                                          │ other                       │           │ 13390 (22.5)           │ 3728 (11.6)            │ 1028 (23.8)               │ 8634 (37.8)            │           │\n├──────────────────────────────────────────────────────────────────────────┼─────────────────────────────┼───────────┼────────────────────────┼────────────────────────┼───────────────────────────┼────────────────────────┼───────────┤\n│ The kind of waterpoint - group, n (%)                                    │ cattle trough               │ 0         │ 116 (0.2)              │ 84 (0.3)               │ 2 (0.0)                   │ 30 (0.1)               │ <0.001    │\n├──────────────────────────────────────────────────────────────────────────┼─────────────────────────────┼───────────┼────────────────────────┼────────────────────────┼───────────────────────────┼────────────────────────┼───────────┤\n│                                                                          │ communal standpipe          │           │ 34625 (58.3)           │ 19961 (61.9)           │ 2908 (67.4)               │ 11756 (51.5)           │           │\n├──────────────────────────────────────────────────────────────────────────┼─────────────────────────────┼───────────┼────────────────────────┼────────────────────────┼───────────────────────────┼────────────────────────┼───────────┤\n│                                                                          │ dam                         │           │ 7 (0.0)                │ 6 (0.0)                │                           │ 1 (0.0)                │           │\n├──────────────────────────────────────────────────────────────────────────┼─────────────────────────────┼───────────┼────────────────────────┼────────────────────────┼───────────────────────────┼────────────────────────┼───────────┤\n│                                                                          │ hand pump                   │           │ 17488 (29.4)           │ 10805 (33.5)           │ 1029 (23.8)               │ 5654 (24.8)            │           │\n├──────────────────────────────────────────────────────────────────────────┼─────────────────────────────┼───────────┼────────────────────────┼────────────────────────┼───────────────────────────┼────────────────────────┼───────────┤\n│                                                                          │ improved spring             │           │ 784 (1.3)              │ 563 (1.7)              │ 85 (2.0)                  │ 136 (0.6)              │           │\n├──────────────────────────────────────────────────────────────────────────┼─────────────────────────────┼───────────┼────────────────────────┼────────────────────────┼───────────────────────────┼────────────────────────┼───────────┤\n│                                                                          │ other                       │           │ 6380 (10.7)            │ 840 (2.6)              │ 293 (6.8)                 │ 5247 (23.0)            │           │\n├──────────────────────────────────────────────────────────────────────────┼─────────────────────────────┼───────────┼────────────────────────┼────────────────────────┼───────────────────────────┼────────────────────────┼───────────┤\n│ waterpoint_type_group_recoded, n (%)                                     │ communal standpipe          │ 0         │ 34625 (58.3)           │ 19961 (61.9)           │ 2908 (67.4)               │ 11756 (51.5)           │ <0.001    │\n├──────────────────────────────────────────────────────────────────────────┼─────────────────────────────┼───────────┼────────────────────────┼────────────────────────┼───────────────────────────┼────────────────────────┼───────────┤\n│                                                                          │ hand pump                   │           │ 17488 (29.4)           │ 10805 (33.5)           │ 1029 (23.8)               │ 5654 (24.8)            │           │\n├──────────────────────────────────────────────────────────────────────────┼─────────────────────────────┼───────────┼────────────────────────┼────────────────────────┼───────────────────────────┼────────────────────────┼───────────┤\n│                                                                          │ other                       │           │ 7287 (12.3)            │ 1493 (4.6)             │ 380 (8.8)                 │ 5414 (23.7)            │           │\n├──────────────────────────────────────────────────────────────────────────┼─────────────────────────────┼───────────┼────────────────────────┼────────────────────────┼───────────────────────────┼────────────────────────┼───────────┤\n│ The quantity of water, n (%)                                             │ dry                         │ 0         │ 6246 (10.5)            │ 157 (0.5)              │ 37 (0.9)                  │ 6052 (26.5)            │ <0.001    │\n├──────────────────────────────────────────────────────────────────────────┼─────────────────────────────┼───────────┼────────────────────────┼────────────────────────┼───────────────────────────┼────────────────────────┼───────────┤\n│                                                                          │ enough                      │           │ 33186 (55.9)           │ 21648 (67.1)           │ 2400 (55.6)               │ 9138 (40.0)            │           │\n├──────────────────────────────────────────────────────────────────────────┼─────────────────────────────┼───────────┼────────────────────────┼────────────────────────┼───────────────────────────┼────────────────────────┼───────────┤\n│                                                                          │ insufficient                │           │ 15129 (25.5)           │ 7916 (24.5)            │ 1450 (33.6)               │ 5763 (25.2)            │           │\n├──────────────────────────────────────────────────────────────────────────┼─────────────────────────────┼───────────┼────────────────────────┼────────────────────────┼───────────────────────────┼────────────────────────┼───────────┤\n│                                                                          │ seasonal                    │           │ 4050 (6.8)             │ 2325 (7.2)             │ 416 (9.6)                 │ 1309 (5.7)             │           │\n├──────────────────────────────────────────────────────────────────────────┼─────────────────────────────┼───────────┼────────────────────────┼────────────────────────┼───────────────────────────┼────────────────────────┼───────────┤\n│                                                                          │ unknown                     │           │ 789 (1.3)              │ 213 (0.7)              │ 14 (0.3)                  │ 562 (2.5)              │           │\n├──────────────────────────────────────────────────────────────────────────┼─────────────────────────────┼───────────┼────────────────────────┼────────────────────────┼───────────────────────────┼────────────────────────┼───────────┤\n│ quantity_recoded, n (%)                                                  │ enough                      │ 0         │ 33186 (55.9)           │ 21648 (67.1)           │ 2400 (55.6)               │ 9138 (40.0)            │ <0.001    │\n├──────────────────────────────────────────────────────────────────────────┼─────────────────────────────┼───────────┼────────────────────────┼────────────────────────┼───────────────────────────┼────────────────────────┼───────────┤\n│                                                                          │ insufficient                │           │ 15129 (25.5)           │ 7916 (24.5)            │ 1450 (33.6)               │ 5763 (25.2)            │           │\n├──────────────────────────────────────────────────────────────────────────┼─────────────────────────────┼───────────┼────────────────────────┼────────────────────────┼───────────────────────────┼────────────────────────┼───────────┤\n│                                                                          │ other                       │           │ 11085 (18.7)           │ 2695 (8.4)             │ 467 (10.8)                │ 7923 (34.7)            │           │\n├──────────────────────────────────────────────────────────────────────────┼─────────────────────────────┼───────────┼────────────────────────┼────────────────────────┼───────────────────────────┼────────────────────────┼───────────┤\n│ The quantity of water - group, n (%)                                     │ dry                         │ 0         │ 6246 (10.5)            │ 157 (0.5)              │ 37 (0.9)                  │ 6052 (26.5)            │ <0.001    │\n├──────────────────────────────────────────────────────────────────────────┼─────────────────────────────┼───────────┼────────────────────────┼────────────────────────┼───────────────────────────┼────────────────────────┼───────────┤\n│                                                                          │ enough                      │           │ 33186 (55.9)           │ 21648 (67.1)           │ 2400 (55.6)               │ 9138 (40.0)            │           │\n├──────────────────────────────────────────────────────────────────────────┼─────────────────────────────┼───────────┼────────────────────────┼────────────────────────┼───────────────────────────┼────────────────────────┼───────────┤\n│                                                                          │ insufficient                │           │ 15129 (25.5)           │ 7916 (24.5)            │ 1450 (33.6)               │ 5763 (25.2)            │           │\n├──────────────────────────────────────────────────────────────────────────┼─────────────────────────────┼───────────┼────────────────────────┼────────────────────────┼───────────────────────────┼────────────────────────┼───────────┤\n│                                                                          │ seasonal                    │           │ 4050 (6.8)             │ 2325 (7.2)             │ 416 (9.6)                 │ 1309 (5.7)             │           │\n├──────────────────────────────────────────────────────────────────────────┼─────────────────────────────┼───────────┼────────────────────────┼────────────────────────┼───────────────────────────┼────────────────────────┼───────────┤\n│                                                                          │ unknown                     │           │ 789 (1.3)              │ 213 (0.7)              │ 14 (0.3)                  │ 562 (2.5)              │           │\n├──────────────────────────────────────────────────────────────────────────┼─────────────────────────────┼───────────┼────────────────────────┼────────────────────────┼───────────────────────────┼────────────────────────┼───────────┤\n│ quantity_group_recoded, n (%)                                            │ enough                      │ 0         │ 33186 (55.9)           │ 21648 (67.1)           │ 2400 (55.6)               │ 9138 (40.0)            │ <0.001    │\n├──────────────────────────────────────────────────────────────────────────┼─────────────────────────────┼───────────┼────────────────────────┼────────────────────────┼───────────────────────────┼────────────────────────┼───────────┤\n│                                                                          │ insufficient                │           │ 15129 (25.5)           │ 7916 (24.5)            │ 1450 (33.6)               │ 5763 (25.2)            │           │\n├──────────────────────────────────────────────────────────────────────────┼─────────────────────────────┼───────────┼────────────────────────┼────────────────────────┼───────────────────────────┼────────────────────────┼───────────┤\n│                                                                          │ other                       │           │ 11085 (18.7)           │ 2695 (8.4)             │ 467 (10.8)                │ 7923 (34.7)            │           │\n├──────────────────────────────────────────────────────────────────────────┼─────────────────────────────┼───────────┼────────────────────────┼────────────────────────┼───────────────────────────┼────────────────────────┼───────────┤\n│ status_group, n (%)                                                      │ functional                  │ 0         │ 32259 (54.3)           │ 32259 (100.0)          │                           │                        │ <0.001    │\n├──────────────────────────────────────────────────────────────────────────┼─────────────────────────────┼───────────┼────────────────────────┼────────────────────────┼───────────────────────────┼────────────────────────┼───────────┤\n│                                                                          │ functional needs repair     │           │ 4317 (7.3)             │                        │ 4317 (100.0)              │                        │           │\n├──────────────────────────────────────────────────────────────────────────┼─────────────────────────────┼───────────┼────────────────────────┼────────────────────────┼───────────────────────────┼────────────────────────┼───────────┤\n│                                                                          │ non functional              │           │ 22824 (38.4)           │                        │                           │ 22824 (100.0)          │           │\n╘══════════════════════════════════════════════════════════════════════════╧═════════════════════════════╧═══════════╧════════════════════════╧════════════════════════╧═══════════════════════════╧════════════════════════╧═══════════╛\n"
     ]
    }
   ],
   "source": [
    "table = TableOne(train, \n",
    "                 columns = columns, \n",
    "                 categorical = categorical,\n",
    "                #  groupby = groupby, \n",
    "                 nonnormal = nonnormal,\n",
    "                 labels = labels,\n",
    "                 groupby=['status_group'],\n",
    "                 pval=True)\n",
    "print(table.tabulate(tablefmt = \"fancy_grid\"))\n",
    "#status_group = f(everything else)"
   ]
  },
  {
   "cell_type": "code",
   "execution_count": 45,
   "metadata": {},
   "outputs": [],
   "source": [
    "# Save Descriptive Statistics in Excel\n",
    "table.to_excel('PumpItUp - Descriptive Statistics table - after recoding.xlsx')"
   ]
  },
  {
   "cell_type": "markdown",
   "metadata": {},
   "source": [
    "Crosstabs to check if the independent variables have a similar distribution and/or related to one another? Or if it is all random."
   ]
  },
  {
   "cell_type": "code",
   "execution_count": 46,
   "metadata": {},
   "outputs": [
    {
     "output_type": "execute_result",
     "data": {
      "text/plain": [
       "region_code       1     2     3     4     5     6    7    8    9    10  ...  \\\n",
       "region                                                                  ...   \n",
       "Arusha            0  3024     0     0     0     0    0    0    0     0  ...   \n",
       "Dar es Salaam     0     0     0     0     0     0  805    0    0     0  ...   \n",
       "Dodoma         2201     0     0     0     0     0    0    0    0     0  ...   \n",
       "Iringa            0     0     0     0     0     0    0    0    0     0  ...   \n",
       "Kagera            0     0     0     0     0     0    0    0    0     0  ...   \n",
       "Kigoma            0     0     0     0     0     0    0    0    0     0  ...   \n",
       "Kilimanjaro       0     0  4379     0     0     0    0    0    0     0  ...   \n",
       "Lindi             0     0     0     0     0     0    0  300    0     0  ...   \n",
       "Manyara           0     0     0     0     0     0    0    0    0     0  ...   \n",
       "Mara              0     0     0     0     0     0    0    0    0     0  ...   \n",
       "Mbeya             0     0     0     0     0     0    0    0    0     0  ...   \n",
       "Morogoro          0     0     0     0  4006     0    0    0    0     0  ...   \n",
       "Mtwara            0     0     0     0     0     0    0    0  390     0  ...   \n",
       "Mwanza            0     0     0     0     0     0    0    0    0     0  ...   \n",
       "Pwani             0     0     0     0     0  1609    0    0    0     0  ...   \n",
       "Rukwa             0     0     0     0     0     0    0    0    0     0  ...   \n",
       "Ruvuma            0     0     0     0     0     0    0    0    0  2640  ...   \n",
       "Shinyanga         0     0     0     0     0     0    0    0    0     0  ...   \n",
       "Singida           0     0     0     0     0     0    0    0    0     0  ...   \n",
       "Tabora            0     0     0     0     0     0    0    0    0     0  ...   \n",
       "Tanga             0     0     0  2513    34     0    0    0    0     0  ...   \n",
       "All            2201  3024  4379  2513  4040  1609  805  300  390  2640  ...   \n",
       "\n",
       "region_code      19    20    21   24  40    60    80   90   99    All  \n",
       "region                                                                 \n",
       "Arusha            0     0     0  326   0     0     0    0    0   3350  \n",
       "Dar es Salaam     0     0     0    0   0     0     0    0    0    805  \n",
       "Dodoma            0     0     0    0   0     0     0    0    0   2201  \n",
       "Iringa            0     0     0    0   0     0     0    0    0   5294  \n",
       "Kagera            0     0     0    0   0     0     0    0    0   3316  \n",
       "Kigoma            0     0     0    0   0     0     0    0    0   2816  \n",
       "Kilimanjaro       0     0     0    0   0     0     0    0    0   4379  \n",
       "Lindi             0     0     0    0   0     0  1238    0    0   1546  \n",
       "Manyara           0     0  1583    0   0     0     0    0    0   1583  \n",
       "Mara              0  1969     0    0   0     0     0    0    0   1969  \n",
       "Mbeya             0     0     0    0   0     0     0    0    0   4639  \n",
       "Morogoro          0     0     0    0   0     0     0    0    0   4006  \n",
       "Mtwara            0     0     0    0   0     0     0  917  423   1730  \n",
       "Mwanza         3047     0     0    0   0     0     0    0    0   3102  \n",
       "Pwani             0     0     0    0   1  1025     0    0    0   2635  \n",
       "Rukwa             0     0     0    0   0     0     0    0    0   1808  \n",
       "Ruvuma            0     0     0    0   0     0     0    0    0   2640  \n",
       "Shinyanga         0     0     0    0   0     0     0    0    0   4982  \n",
       "Singida           0     0     0    0   0     0     0    0    0   2093  \n",
       "Tabora            0     0     0    0   0     0     0    0    0   1959  \n",
       "Tanga             0     0     0    0   0     0     0    0    0   2547  \n",
       "All            3047  1969  1583  326   1  1025  1238  917  423  59400  \n",
       "\n",
       "[22 rows x 28 columns]"
      ],
      "text/html": "<div>\n<style scoped>\n    .dataframe tbody tr th:only-of-type {\n        vertical-align: middle;\n    }\n\n    .dataframe tbody tr th {\n        vertical-align: top;\n    }\n\n    .dataframe thead th {\n        text-align: right;\n    }\n</style>\n<table border=\"1\" class=\"dataframe\">\n  <thead>\n    <tr style=\"text-align: right;\">\n      <th>region_code</th>\n      <th>1</th>\n      <th>2</th>\n      <th>3</th>\n      <th>4</th>\n      <th>5</th>\n      <th>6</th>\n      <th>7</th>\n      <th>8</th>\n      <th>9</th>\n      <th>10</th>\n      <th>...</th>\n      <th>19</th>\n      <th>20</th>\n      <th>21</th>\n      <th>24</th>\n      <th>40</th>\n      <th>60</th>\n      <th>80</th>\n      <th>90</th>\n      <th>99</th>\n      <th>All</th>\n    </tr>\n    <tr>\n      <th>region</th>\n      <th></th>\n      <th></th>\n      <th></th>\n      <th></th>\n      <th></th>\n      <th></th>\n      <th></th>\n      <th></th>\n      <th></th>\n      <th></th>\n      <th></th>\n      <th></th>\n      <th></th>\n      <th></th>\n      <th></th>\n      <th></th>\n      <th></th>\n      <th></th>\n      <th></th>\n      <th></th>\n      <th></th>\n    </tr>\n  </thead>\n  <tbody>\n    <tr>\n      <th>Arusha</th>\n      <td>0</td>\n      <td>3024</td>\n      <td>0</td>\n      <td>0</td>\n      <td>0</td>\n      <td>0</td>\n      <td>0</td>\n      <td>0</td>\n      <td>0</td>\n      <td>0</td>\n      <td>...</td>\n      <td>0</td>\n      <td>0</td>\n      <td>0</td>\n      <td>326</td>\n      <td>0</td>\n      <td>0</td>\n      <td>0</td>\n      <td>0</td>\n      <td>0</td>\n      <td>3350</td>\n    </tr>\n    <tr>\n      <th>Dar es Salaam</th>\n      <td>0</td>\n      <td>0</td>\n      <td>0</td>\n      <td>0</td>\n      <td>0</td>\n      <td>0</td>\n      <td>805</td>\n      <td>0</td>\n      <td>0</td>\n      <td>0</td>\n      <td>...</td>\n      <td>0</td>\n      <td>0</td>\n      <td>0</td>\n      <td>0</td>\n      <td>0</td>\n      <td>0</td>\n      <td>0</td>\n      <td>0</td>\n      <td>0</td>\n      <td>805</td>\n    </tr>\n    <tr>\n      <th>Dodoma</th>\n      <td>2201</td>\n      <td>0</td>\n      <td>0</td>\n      <td>0</td>\n      <td>0</td>\n      <td>0</td>\n      <td>0</td>\n      <td>0</td>\n      <td>0</td>\n      <td>0</td>\n      <td>...</td>\n      <td>0</td>\n      <td>0</td>\n      <td>0</td>\n      <td>0</td>\n      <td>0</td>\n      <td>0</td>\n      <td>0</td>\n      <td>0</td>\n      <td>0</td>\n      <td>2201</td>\n    </tr>\n    <tr>\n      <th>Iringa</th>\n      <td>0</td>\n      <td>0</td>\n      <td>0</td>\n      <td>0</td>\n      <td>0</td>\n      <td>0</td>\n      <td>0</td>\n      <td>0</td>\n      <td>0</td>\n      <td>0</td>\n      <td>...</td>\n      <td>0</td>\n      <td>0</td>\n      <td>0</td>\n      <td>0</td>\n      <td>0</td>\n      <td>0</td>\n      <td>0</td>\n      <td>0</td>\n      <td>0</td>\n      <td>5294</td>\n    </tr>\n    <tr>\n      <th>Kagera</th>\n      <td>0</td>\n      <td>0</td>\n      <td>0</td>\n      <td>0</td>\n      <td>0</td>\n      <td>0</td>\n      <td>0</td>\n      <td>0</td>\n      <td>0</td>\n      <td>0</td>\n      <td>...</td>\n      <td>0</td>\n      <td>0</td>\n      <td>0</td>\n      <td>0</td>\n      <td>0</td>\n      <td>0</td>\n      <td>0</td>\n      <td>0</td>\n      <td>0</td>\n      <td>3316</td>\n    </tr>\n    <tr>\n      <th>Kigoma</th>\n      <td>0</td>\n      <td>0</td>\n      <td>0</td>\n      <td>0</td>\n      <td>0</td>\n      <td>0</td>\n      <td>0</td>\n      <td>0</td>\n      <td>0</td>\n      <td>0</td>\n      <td>...</td>\n      <td>0</td>\n      <td>0</td>\n      <td>0</td>\n      <td>0</td>\n      <td>0</td>\n      <td>0</td>\n      <td>0</td>\n      <td>0</td>\n      <td>0</td>\n      <td>2816</td>\n    </tr>\n    <tr>\n      <th>Kilimanjaro</th>\n      <td>0</td>\n      <td>0</td>\n      <td>4379</td>\n      <td>0</td>\n      <td>0</td>\n      <td>0</td>\n      <td>0</td>\n      <td>0</td>\n      <td>0</td>\n      <td>0</td>\n      <td>...</td>\n      <td>0</td>\n      <td>0</td>\n      <td>0</td>\n      <td>0</td>\n      <td>0</td>\n      <td>0</td>\n      <td>0</td>\n      <td>0</td>\n      <td>0</td>\n      <td>4379</td>\n    </tr>\n    <tr>\n      <th>Lindi</th>\n      <td>0</td>\n      <td>0</td>\n      <td>0</td>\n      <td>0</td>\n      <td>0</td>\n      <td>0</td>\n      <td>0</td>\n      <td>300</td>\n      <td>0</td>\n      <td>0</td>\n      <td>...</td>\n      <td>0</td>\n      <td>0</td>\n      <td>0</td>\n      <td>0</td>\n      <td>0</td>\n      <td>0</td>\n      <td>1238</td>\n      <td>0</td>\n      <td>0</td>\n      <td>1546</td>\n    </tr>\n    <tr>\n      <th>Manyara</th>\n      <td>0</td>\n      <td>0</td>\n      <td>0</td>\n      <td>0</td>\n      <td>0</td>\n      <td>0</td>\n      <td>0</td>\n      <td>0</td>\n      <td>0</td>\n      <td>0</td>\n      <td>...</td>\n      <td>0</td>\n      <td>0</td>\n      <td>1583</td>\n      <td>0</td>\n      <td>0</td>\n      <td>0</td>\n      <td>0</td>\n      <td>0</td>\n      <td>0</td>\n      <td>1583</td>\n    </tr>\n    <tr>\n      <th>Mara</th>\n      <td>0</td>\n      <td>0</td>\n      <td>0</td>\n      <td>0</td>\n      <td>0</td>\n      <td>0</td>\n      <td>0</td>\n      <td>0</td>\n      <td>0</td>\n      <td>0</td>\n      <td>...</td>\n      <td>0</td>\n      <td>1969</td>\n      <td>0</td>\n      <td>0</td>\n      <td>0</td>\n      <td>0</td>\n      <td>0</td>\n      <td>0</td>\n      <td>0</td>\n      <td>1969</td>\n    </tr>\n    <tr>\n      <th>Mbeya</th>\n      <td>0</td>\n      <td>0</td>\n      <td>0</td>\n      <td>0</td>\n      <td>0</td>\n      <td>0</td>\n      <td>0</td>\n      <td>0</td>\n      <td>0</td>\n      <td>0</td>\n      <td>...</td>\n      <td>0</td>\n      <td>0</td>\n      <td>0</td>\n      <td>0</td>\n      <td>0</td>\n      <td>0</td>\n      <td>0</td>\n      <td>0</td>\n      <td>0</td>\n      <td>4639</td>\n    </tr>\n    <tr>\n      <th>Morogoro</th>\n      <td>0</td>\n      <td>0</td>\n      <td>0</td>\n      <td>0</td>\n      <td>4006</td>\n      <td>0</td>\n      <td>0</td>\n      <td>0</td>\n      <td>0</td>\n      <td>0</td>\n      <td>...</td>\n      <td>0</td>\n      <td>0</td>\n      <td>0</td>\n      <td>0</td>\n      <td>0</td>\n      <td>0</td>\n      <td>0</td>\n      <td>0</td>\n      <td>0</td>\n      <td>4006</td>\n    </tr>\n    <tr>\n      <th>Mtwara</th>\n      <td>0</td>\n      <td>0</td>\n      <td>0</td>\n      <td>0</td>\n      <td>0</td>\n      <td>0</td>\n      <td>0</td>\n      <td>0</td>\n      <td>390</td>\n      <td>0</td>\n      <td>...</td>\n      <td>0</td>\n      <td>0</td>\n      <td>0</td>\n      <td>0</td>\n      <td>0</td>\n      <td>0</td>\n      <td>0</td>\n      <td>917</td>\n      <td>423</td>\n      <td>1730</td>\n    </tr>\n    <tr>\n      <th>Mwanza</th>\n      <td>0</td>\n      <td>0</td>\n      <td>0</td>\n      <td>0</td>\n      <td>0</td>\n      <td>0</td>\n      <td>0</td>\n      <td>0</td>\n      <td>0</td>\n      <td>0</td>\n      <td>...</td>\n      <td>3047</td>\n      <td>0</td>\n      <td>0</td>\n      <td>0</td>\n      <td>0</td>\n      <td>0</td>\n      <td>0</td>\n      <td>0</td>\n      <td>0</td>\n      <td>3102</td>\n    </tr>\n    <tr>\n      <th>Pwani</th>\n      <td>0</td>\n      <td>0</td>\n      <td>0</td>\n      <td>0</td>\n      <td>0</td>\n      <td>1609</td>\n      <td>0</td>\n      <td>0</td>\n      <td>0</td>\n      <td>0</td>\n      <td>...</td>\n      <td>0</td>\n      <td>0</td>\n      <td>0</td>\n      <td>0</td>\n      <td>1</td>\n      <td>1025</td>\n      <td>0</td>\n      <td>0</td>\n      <td>0</td>\n      <td>2635</td>\n    </tr>\n    <tr>\n      <th>Rukwa</th>\n      <td>0</td>\n      <td>0</td>\n      <td>0</td>\n      <td>0</td>\n      <td>0</td>\n      <td>0</td>\n      <td>0</td>\n      <td>0</td>\n      <td>0</td>\n      <td>0</td>\n      <td>...</td>\n      <td>0</td>\n      <td>0</td>\n      <td>0</td>\n      <td>0</td>\n      <td>0</td>\n      <td>0</td>\n      <td>0</td>\n      <td>0</td>\n      <td>0</td>\n      <td>1808</td>\n    </tr>\n    <tr>\n      <th>Ruvuma</th>\n      <td>0</td>\n      <td>0</td>\n      <td>0</td>\n      <td>0</td>\n      <td>0</td>\n      <td>0</td>\n      <td>0</td>\n      <td>0</td>\n      <td>0</td>\n      <td>2640</td>\n      <td>...</td>\n      <td>0</td>\n      <td>0</td>\n      <td>0</td>\n      <td>0</td>\n      <td>0</td>\n      <td>0</td>\n      <td>0</td>\n      <td>0</td>\n      <td>0</td>\n      <td>2640</td>\n    </tr>\n    <tr>\n      <th>Shinyanga</th>\n      <td>0</td>\n      <td>0</td>\n      <td>0</td>\n      <td>0</td>\n      <td>0</td>\n      <td>0</td>\n      <td>0</td>\n      <td>0</td>\n      <td>0</td>\n      <td>0</td>\n      <td>...</td>\n      <td>0</td>\n      <td>0</td>\n      <td>0</td>\n      <td>0</td>\n      <td>0</td>\n      <td>0</td>\n      <td>0</td>\n      <td>0</td>\n      <td>0</td>\n      <td>4982</td>\n    </tr>\n    <tr>\n      <th>Singida</th>\n      <td>0</td>\n      <td>0</td>\n      <td>0</td>\n      <td>0</td>\n      <td>0</td>\n      <td>0</td>\n      <td>0</td>\n      <td>0</td>\n      <td>0</td>\n      <td>0</td>\n      <td>...</td>\n      <td>0</td>\n      <td>0</td>\n      <td>0</td>\n      <td>0</td>\n      <td>0</td>\n      <td>0</td>\n      <td>0</td>\n      <td>0</td>\n      <td>0</td>\n      <td>2093</td>\n    </tr>\n    <tr>\n      <th>Tabora</th>\n      <td>0</td>\n      <td>0</td>\n      <td>0</td>\n      <td>0</td>\n      <td>0</td>\n      <td>0</td>\n      <td>0</td>\n      <td>0</td>\n      <td>0</td>\n      <td>0</td>\n      <td>...</td>\n      <td>0</td>\n      <td>0</td>\n      <td>0</td>\n      <td>0</td>\n      <td>0</td>\n      <td>0</td>\n      <td>0</td>\n      <td>0</td>\n      <td>0</td>\n      <td>1959</td>\n    </tr>\n    <tr>\n      <th>Tanga</th>\n      <td>0</td>\n      <td>0</td>\n      <td>0</td>\n      <td>2513</td>\n      <td>34</td>\n      <td>0</td>\n      <td>0</td>\n      <td>0</td>\n      <td>0</td>\n      <td>0</td>\n      <td>...</td>\n      <td>0</td>\n      <td>0</td>\n      <td>0</td>\n      <td>0</td>\n      <td>0</td>\n      <td>0</td>\n      <td>0</td>\n      <td>0</td>\n      <td>0</td>\n      <td>2547</td>\n    </tr>\n    <tr>\n      <th>All</th>\n      <td>2201</td>\n      <td>3024</td>\n      <td>4379</td>\n      <td>2513</td>\n      <td>4040</td>\n      <td>1609</td>\n      <td>805</td>\n      <td>300</td>\n      <td>390</td>\n      <td>2640</td>\n      <td>...</td>\n      <td>3047</td>\n      <td>1969</td>\n      <td>1583</td>\n      <td>326</td>\n      <td>1</td>\n      <td>1025</td>\n      <td>1238</td>\n      <td>917</td>\n      <td>423</td>\n      <td>59400</td>\n    </tr>\n  </tbody>\n</table>\n<p>22 rows × 28 columns</p>\n</div>"
     },
     "metadata": {},
     "execution_count": 46
    }
   ],
   "source": [
    "# Checking for homoscedasticity - correlation within indepedendent variables that already exists!\n",
    "\n",
    "pd.crosstab(train['region'],train['region_code'],margins=True)"
   ]
  },
  {
   "cell_type": "markdown",
   "metadata": {},
   "source": [
    "For above crosstab of `region` and `region_code`, there are 21 regions but 27 region codes! Since there is an overlap of region codes, we will exclude `region_code`. Also this reduces multi-collinearity in the dataset.\n",
    "\n",
    "**Note:** *Multicollinearity refers to a situation in which more than two explanatory variables in a multiple regression model are highly linearly related.*"
   ]
  },
  {
   "cell_type": "code",
   "execution_count": 47,
   "metadata": {},
   "outputs": [
    {
     "output_type": "execute_result",
     "data": {
      "text/plain": [
       "district_code_recoded  District Codes 1-4  Other Districts       All\n",
       "district_code                                                       \n",
       "0                                0.000387         0.000000  0.000387\n",
       "1                                0.205438         0.000000  0.205438\n",
       "2                                0.188098         0.000000  0.188098\n",
       "3                                0.168316         0.000000  0.168316\n",
       "4                                0.151498         0.000000  0.151498\n",
       "5                                0.000000         0.073333  0.073333\n",
       "6                                0.000000         0.068586  0.068586\n",
       "7                                0.000000         0.056279  0.056279\n",
       "8                                0.000000         0.017559  0.017559\n",
       "13                               0.000000         0.006582  0.006582\n",
       "23                               0.000000         0.004933  0.004933\n",
       "30                               0.000000         0.016751  0.016751\n",
       "33                               0.000000         0.014714  0.014714\n",
       "43                               0.000000         0.008502  0.008502\n",
       "53                               0.000000         0.012542  0.012542\n",
       "60                               0.000000         0.001061  0.001061\n",
       "62                               0.000000         0.001835  0.001835\n",
       "63                               0.000000         0.003283  0.003283\n",
       "67                               0.000000         0.000101  0.000101\n",
       "80                               0.000000         0.000202  0.000202\n",
       "All                              0.713737         0.286263  1.000000"
      ],
      "text/html": "<div>\n<style scoped>\n    .dataframe tbody tr th:only-of-type {\n        vertical-align: middle;\n    }\n\n    .dataframe tbody tr th {\n        vertical-align: top;\n    }\n\n    .dataframe thead th {\n        text-align: right;\n    }\n</style>\n<table border=\"1\" class=\"dataframe\">\n  <thead>\n    <tr style=\"text-align: right;\">\n      <th>district_code_recoded</th>\n      <th>District Codes 1-4</th>\n      <th>Other Districts</th>\n      <th>All</th>\n    </tr>\n    <tr>\n      <th>district_code</th>\n      <th></th>\n      <th></th>\n      <th></th>\n    </tr>\n  </thead>\n  <tbody>\n    <tr>\n      <th>0</th>\n      <td>0.000387</td>\n      <td>0.000000</td>\n      <td>0.000387</td>\n    </tr>\n    <tr>\n      <th>1</th>\n      <td>0.205438</td>\n      <td>0.000000</td>\n      <td>0.205438</td>\n    </tr>\n    <tr>\n      <th>2</th>\n      <td>0.188098</td>\n      <td>0.000000</td>\n      <td>0.188098</td>\n    </tr>\n    <tr>\n      <th>3</th>\n      <td>0.168316</td>\n      <td>0.000000</td>\n      <td>0.168316</td>\n    </tr>\n    <tr>\n      <th>4</th>\n      <td>0.151498</td>\n      <td>0.000000</td>\n      <td>0.151498</td>\n    </tr>\n    <tr>\n      <th>5</th>\n      <td>0.000000</td>\n      <td>0.073333</td>\n      <td>0.073333</td>\n    </tr>\n    <tr>\n      <th>6</th>\n      <td>0.000000</td>\n      <td>0.068586</td>\n      <td>0.068586</td>\n    </tr>\n    <tr>\n      <th>7</th>\n      <td>0.000000</td>\n      <td>0.056279</td>\n      <td>0.056279</td>\n    </tr>\n    <tr>\n      <th>8</th>\n      <td>0.000000</td>\n      <td>0.017559</td>\n      <td>0.017559</td>\n    </tr>\n    <tr>\n      <th>13</th>\n      <td>0.000000</td>\n      <td>0.006582</td>\n      <td>0.006582</td>\n    </tr>\n    <tr>\n      <th>23</th>\n      <td>0.000000</td>\n      <td>0.004933</td>\n      <td>0.004933</td>\n    </tr>\n    <tr>\n      <th>30</th>\n      <td>0.000000</td>\n      <td>0.016751</td>\n      <td>0.016751</td>\n    </tr>\n    <tr>\n      <th>33</th>\n      <td>0.000000</td>\n      <td>0.014714</td>\n      <td>0.014714</td>\n    </tr>\n    <tr>\n      <th>43</th>\n      <td>0.000000</td>\n      <td>0.008502</td>\n      <td>0.008502</td>\n    </tr>\n    <tr>\n      <th>53</th>\n      <td>0.000000</td>\n      <td>0.012542</td>\n      <td>0.012542</td>\n    </tr>\n    <tr>\n      <th>60</th>\n      <td>0.000000</td>\n      <td>0.001061</td>\n      <td>0.001061</td>\n    </tr>\n    <tr>\n      <th>62</th>\n      <td>0.000000</td>\n      <td>0.001835</td>\n      <td>0.001835</td>\n    </tr>\n    <tr>\n      <th>63</th>\n      <td>0.000000</td>\n      <td>0.003283</td>\n      <td>0.003283</td>\n    </tr>\n    <tr>\n      <th>67</th>\n      <td>0.000000</td>\n      <td>0.000101</td>\n      <td>0.000101</td>\n    </tr>\n    <tr>\n      <th>80</th>\n      <td>0.000000</td>\n      <td>0.000202</td>\n      <td>0.000202</td>\n    </tr>\n    <tr>\n      <th>All</th>\n      <td>0.713737</td>\n      <td>0.286263</td>\n      <td>1.000000</td>\n    </tr>\n  </tbody>\n</table>\n</div>"
     },
     "metadata": {},
     "execution_count": 47
    }
   ],
   "source": [
    "# Checking for homoscedasticity - correlation within indepedendent variables that already exists!\n",
    "\n",
    "pd.crosstab(train['district_code'],train['district_code_recoded'],margins=True, normalize=True)"
   ]
  },
  {
   "cell_type": "code",
   "execution_count": 48,
   "metadata": {},
   "outputs": [
    {
     "output_type": "execute_result",
     "data": {
      "text/plain": [
       "scheme_management_recoded     Other       VWC       All\n",
       "scheme_management                                      \n",
       "Company                    0.019109  0.000000  0.019109\n",
       "None                       0.000018  0.000000  0.000018\n",
       "Other                      0.013796  0.000000  0.013796\n",
       "Parastatal                 0.030258  0.000000  0.030258\n",
       "Private operator           0.019145  0.000000  0.019145\n",
       "SWC                        0.001747  0.000000  0.001747\n",
       "Trust                      0.001297  0.000000  0.001297\n",
       "VWC                        0.000000  0.662662  0.662662\n",
       "WUA                        0.051924  0.000000  0.051924\n",
       "WUG                        0.093763  0.000000  0.093763\n",
       "Water Board                0.049493  0.000000  0.049493\n",
       "Water authority            0.056787  0.000000  0.056787\n",
       "All                        0.337338  0.662662  1.000000"
      ],
      "text/html": "<div>\n<style scoped>\n    .dataframe tbody tr th:only-of-type {\n        vertical-align: middle;\n    }\n\n    .dataframe tbody tr th {\n        vertical-align: top;\n    }\n\n    .dataframe thead th {\n        text-align: right;\n    }\n</style>\n<table border=\"1\" class=\"dataframe\">\n  <thead>\n    <tr style=\"text-align: right;\">\n      <th>scheme_management_recoded</th>\n      <th>Other</th>\n      <th>VWC</th>\n      <th>All</th>\n    </tr>\n    <tr>\n      <th>scheme_management</th>\n      <th></th>\n      <th></th>\n      <th></th>\n    </tr>\n  </thead>\n  <tbody>\n    <tr>\n      <th>Company</th>\n      <td>0.019109</td>\n      <td>0.000000</td>\n      <td>0.019109</td>\n    </tr>\n    <tr>\n      <th>None</th>\n      <td>0.000018</td>\n      <td>0.000000</td>\n      <td>0.000018</td>\n    </tr>\n    <tr>\n      <th>Other</th>\n      <td>0.013796</td>\n      <td>0.000000</td>\n      <td>0.013796</td>\n    </tr>\n    <tr>\n      <th>Parastatal</th>\n      <td>0.030258</td>\n      <td>0.000000</td>\n      <td>0.030258</td>\n    </tr>\n    <tr>\n      <th>Private operator</th>\n      <td>0.019145</td>\n      <td>0.000000</td>\n      <td>0.019145</td>\n    </tr>\n    <tr>\n      <th>SWC</th>\n      <td>0.001747</td>\n      <td>0.000000</td>\n      <td>0.001747</td>\n    </tr>\n    <tr>\n      <th>Trust</th>\n      <td>0.001297</td>\n      <td>0.000000</td>\n      <td>0.001297</td>\n    </tr>\n    <tr>\n      <th>VWC</th>\n      <td>0.000000</td>\n      <td>0.662662</td>\n      <td>0.662662</td>\n    </tr>\n    <tr>\n      <th>WUA</th>\n      <td>0.051924</td>\n      <td>0.000000</td>\n      <td>0.051924</td>\n    </tr>\n    <tr>\n      <th>WUG</th>\n      <td>0.093763</td>\n      <td>0.000000</td>\n      <td>0.093763</td>\n    </tr>\n    <tr>\n      <th>Water Board</th>\n      <td>0.049493</td>\n      <td>0.000000</td>\n      <td>0.049493</td>\n    </tr>\n    <tr>\n      <th>Water authority</th>\n      <td>0.056787</td>\n      <td>0.000000</td>\n      <td>0.056787</td>\n    </tr>\n    <tr>\n      <th>All</th>\n      <td>0.337338</td>\n      <td>0.662662</td>\n      <td>1.000000</td>\n    </tr>\n  </tbody>\n</table>\n</div>"
     },
     "metadata": {},
     "execution_count": 48
    }
   ],
   "source": [
    "# Checking for homoscedasticity - correlation within indepedendent variables that already exists!\n",
    "\n",
    "pd.crosstab(train['scheme_management'],train['scheme_management_recoded'],margins=True, normalize=True)"
   ]
  },
  {
   "cell_type": "code",
   "execution_count": 49,
   "metadata": {},
   "outputs": [
    {
     "output_type": "execute_result",
     "data": {
      "text/plain": [
       "extraction_type_recoded     gravity     other       All\n",
       "extraction_type                                        \n",
       "afridev                    0.000000  0.029798  0.029798\n",
       "cemo                       0.000000  0.001515  0.001515\n",
       "climax                     0.000000  0.000539  0.000539\n",
       "gravity                    0.450842  0.000000  0.450842\n",
       "india mark ii              0.000000  0.040404  0.040404\n",
       "india mark iii             0.000000  0.001650  0.001650\n",
       "ksb                        0.000000  0.023822  0.023822\n",
       "mono                       0.000000  0.048232  0.048232\n",
       "nira/tanira                0.000000  0.137273  0.137273\n",
       "other                      0.000000  0.108249  0.108249\n",
       "other - mkulima/shinyanga  0.000000  0.000034  0.000034\n",
       "other - play pump          0.000000  0.001431  0.001431\n",
       "other - rope pump          0.000000  0.007593  0.007593\n",
       "other - swn 81             0.000000  0.003855  0.003855\n",
       "submersible                0.000000  0.080202  0.080202\n",
       "swn 80                     0.000000  0.061785  0.061785\n",
       "walimi                     0.000000  0.000808  0.000808\n",
       "windmill                   0.000000  0.001970  0.001970\n",
       "All                        0.450842  0.549158  1.000000"
      ],
      "text/html": "<div>\n<style scoped>\n    .dataframe tbody tr th:only-of-type {\n        vertical-align: middle;\n    }\n\n    .dataframe tbody tr th {\n        vertical-align: top;\n    }\n\n    .dataframe thead th {\n        text-align: right;\n    }\n</style>\n<table border=\"1\" class=\"dataframe\">\n  <thead>\n    <tr style=\"text-align: right;\">\n      <th>extraction_type_recoded</th>\n      <th>gravity</th>\n      <th>other</th>\n      <th>All</th>\n    </tr>\n    <tr>\n      <th>extraction_type</th>\n      <th></th>\n      <th></th>\n      <th></th>\n    </tr>\n  </thead>\n  <tbody>\n    <tr>\n      <th>afridev</th>\n      <td>0.000000</td>\n      <td>0.029798</td>\n      <td>0.029798</td>\n    </tr>\n    <tr>\n      <th>cemo</th>\n      <td>0.000000</td>\n      <td>0.001515</td>\n      <td>0.001515</td>\n    </tr>\n    <tr>\n      <th>climax</th>\n      <td>0.000000</td>\n      <td>0.000539</td>\n      <td>0.000539</td>\n    </tr>\n    <tr>\n      <th>gravity</th>\n      <td>0.450842</td>\n      <td>0.000000</td>\n      <td>0.450842</td>\n    </tr>\n    <tr>\n      <th>india mark ii</th>\n      <td>0.000000</td>\n      <td>0.040404</td>\n      <td>0.040404</td>\n    </tr>\n    <tr>\n      <th>india mark iii</th>\n      <td>0.000000</td>\n      <td>0.001650</td>\n      <td>0.001650</td>\n    </tr>\n    <tr>\n      <th>ksb</th>\n      <td>0.000000</td>\n      <td>0.023822</td>\n      <td>0.023822</td>\n    </tr>\n    <tr>\n      <th>mono</th>\n      <td>0.000000</td>\n      <td>0.048232</td>\n      <td>0.048232</td>\n    </tr>\n    <tr>\n      <th>nira/tanira</th>\n      <td>0.000000</td>\n      <td>0.137273</td>\n      <td>0.137273</td>\n    </tr>\n    <tr>\n      <th>other</th>\n      <td>0.000000</td>\n      <td>0.108249</td>\n      <td>0.108249</td>\n    </tr>\n    <tr>\n      <th>other - mkulima/shinyanga</th>\n      <td>0.000000</td>\n      <td>0.000034</td>\n      <td>0.000034</td>\n    </tr>\n    <tr>\n      <th>other - play pump</th>\n      <td>0.000000</td>\n      <td>0.001431</td>\n      <td>0.001431</td>\n    </tr>\n    <tr>\n      <th>other - rope pump</th>\n      <td>0.000000</td>\n      <td>0.007593</td>\n      <td>0.007593</td>\n    </tr>\n    <tr>\n      <th>other - swn 81</th>\n      <td>0.000000</td>\n      <td>0.003855</td>\n      <td>0.003855</td>\n    </tr>\n    <tr>\n      <th>submersible</th>\n      <td>0.000000</td>\n      <td>0.080202</td>\n      <td>0.080202</td>\n    </tr>\n    <tr>\n      <th>swn 80</th>\n      <td>0.000000</td>\n      <td>0.061785</td>\n      <td>0.061785</td>\n    </tr>\n    <tr>\n      <th>walimi</th>\n      <td>0.000000</td>\n      <td>0.000808</td>\n      <td>0.000808</td>\n    </tr>\n    <tr>\n      <th>windmill</th>\n      <td>0.000000</td>\n      <td>0.001970</td>\n      <td>0.001970</td>\n    </tr>\n    <tr>\n      <th>All</th>\n      <td>0.450842</td>\n      <td>0.549158</td>\n      <td>1.000000</td>\n    </tr>\n  </tbody>\n</table>\n</div>"
     },
     "metadata": {},
     "execution_count": 49
    }
   ],
   "source": [
    "# Checking for homoscedasticity - correlation within indepedendent variables that already exists!\n",
    "\n",
    "pd.crosstab(train['extraction_type'],train['extraction_type_recoded'],margins=True, normalize=True)"
   ]
  },
  {
   "cell_type": "code",
   "execution_count": 50,
   "metadata": {},
   "outputs": [
    {
     "output_type": "execute_result",
     "data": {
      "text/plain": [
       "management_recoded     other       vwc       All\n",
       "management                                      \n",
       "company             0.011532  0.000000  0.011532\n",
       "other               0.014209  0.000000  0.014209\n",
       "other - school      0.001667  0.000000  0.001667\n",
       "parastatal          0.029764  0.000000  0.029764\n",
       "private operator    0.033182  0.000000  0.033182\n",
       "trust               0.001313  0.000000  0.001313\n",
       "unknown             0.009444  0.000000  0.009444\n",
       "vwc                 0.000000  0.681936  0.681936\n",
       "water authority     0.015219  0.000000  0.015219\n",
       "water board         0.049377  0.000000  0.049377\n",
       "wua                 0.042677  0.000000  0.042677\n",
       "wug                 0.109680  0.000000  0.109680\n",
       "All                 0.318064  0.681936  1.000000"
      ],
      "text/html": "<div>\n<style scoped>\n    .dataframe tbody tr th:only-of-type {\n        vertical-align: middle;\n    }\n\n    .dataframe tbody tr th {\n        vertical-align: top;\n    }\n\n    .dataframe thead th {\n        text-align: right;\n    }\n</style>\n<table border=\"1\" class=\"dataframe\">\n  <thead>\n    <tr style=\"text-align: right;\">\n      <th>management_recoded</th>\n      <th>other</th>\n      <th>vwc</th>\n      <th>All</th>\n    </tr>\n    <tr>\n      <th>management</th>\n      <th></th>\n      <th></th>\n      <th></th>\n    </tr>\n  </thead>\n  <tbody>\n    <tr>\n      <th>company</th>\n      <td>0.011532</td>\n      <td>0.000000</td>\n      <td>0.011532</td>\n    </tr>\n    <tr>\n      <th>other</th>\n      <td>0.014209</td>\n      <td>0.000000</td>\n      <td>0.014209</td>\n    </tr>\n    <tr>\n      <th>other - school</th>\n      <td>0.001667</td>\n      <td>0.000000</td>\n      <td>0.001667</td>\n    </tr>\n    <tr>\n      <th>parastatal</th>\n      <td>0.029764</td>\n      <td>0.000000</td>\n      <td>0.029764</td>\n    </tr>\n    <tr>\n      <th>private operator</th>\n      <td>0.033182</td>\n      <td>0.000000</td>\n      <td>0.033182</td>\n    </tr>\n    <tr>\n      <th>trust</th>\n      <td>0.001313</td>\n      <td>0.000000</td>\n      <td>0.001313</td>\n    </tr>\n    <tr>\n      <th>unknown</th>\n      <td>0.009444</td>\n      <td>0.000000</td>\n      <td>0.009444</td>\n    </tr>\n    <tr>\n      <th>vwc</th>\n      <td>0.000000</td>\n      <td>0.681936</td>\n      <td>0.681936</td>\n    </tr>\n    <tr>\n      <th>water authority</th>\n      <td>0.015219</td>\n      <td>0.000000</td>\n      <td>0.015219</td>\n    </tr>\n    <tr>\n      <th>water board</th>\n      <td>0.049377</td>\n      <td>0.000000</td>\n      <td>0.049377</td>\n    </tr>\n    <tr>\n      <th>wua</th>\n      <td>0.042677</td>\n      <td>0.000000</td>\n      <td>0.042677</td>\n    </tr>\n    <tr>\n      <th>wug</th>\n      <td>0.109680</td>\n      <td>0.000000</td>\n      <td>0.109680</td>\n    </tr>\n    <tr>\n      <th>All</th>\n      <td>0.318064</td>\n      <td>0.681936</td>\n      <td>1.000000</td>\n    </tr>\n  </tbody>\n</table>\n</div>"
     },
     "metadata": {},
     "execution_count": 50
    }
   ],
   "source": [
    "# Checking for homoscedasticity - correlation within indepedendent variables that already exists!\n",
    "\n",
    "pd.crosstab(train['management'],train['management_recoded'],margins=True, normalize=True)"
   ]
  },
  {
   "cell_type": "code",
   "execution_count": 51,
   "metadata": {},
   "outputs": [
    {
     "output_type": "execute_result",
     "data": {
      "text/plain": [
       "management_group_recoded     other  user-group       All\n",
       "management_group                                        \n",
       "commercial                0.061246     0.00000  0.061246\n",
       "other                     0.015875     0.00000  0.015875\n",
       "parastatal                0.029764     0.00000  0.029764\n",
       "unknown                   0.009444     0.00000  0.009444\n",
       "user-group                0.000000     0.88367  0.883670\n",
       "All                       0.116330     0.88367  1.000000"
      ],
      "text/html": "<div>\n<style scoped>\n    .dataframe tbody tr th:only-of-type {\n        vertical-align: middle;\n    }\n\n    .dataframe tbody tr th {\n        vertical-align: top;\n    }\n\n    .dataframe thead th {\n        text-align: right;\n    }\n</style>\n<table border=\"1\" class=\"dataframe\">\n  <thead>\n    <tr style=\"text-align: right;\">\n      <th>management_group_recoded</th>\n      <th>other</th>\n      <th>user-group</th>\n      <th>All</th>\n    </tr>\n    <tr>\n      <th>management_group</th>\n      <th></th>\n      <th></th>\n      <th></th>\n    </tr>\n  </thead>\n  <tbody>\n    <tr>\n      <th>commercial</th>\n      <td>0.061246</td>\n      <td>0.00000</td>\n      <td>0.061246</td>\n    </tr>\n    <tr>\n      <th>other</th>\n      <td>0.015875</td>\n      <td>0.00000</td>\n      <td>0.015875</td>\n    </tr>\n    <tr>\n      <th>parastatal</th>\n      <td>0.029764</td>\n      <td>0.00000</td>\n      <td>0.029764</td>\n    </tr>\n    <tr>\n      <th>unknown</th>\n      <td>0.009444</td>\n      <td>0.00000</td>\n      <td>0.009444</td>\n    </tr>\n    <tr>\n      <th>user-group</th>\n      <td>0.000000</td>\n      <td>0.88367</td>\n      <td>0.883670</td>\n    </tr>\n    <tr>\n      <th>All</th>\n      <td>0.116330</td>\n      <td>0.88367</td>\n      <td>1.000000</td>\n    </tr>\n  </tbody>\n</table>\n</div>"
     },
     "metadata": {},
     "execution_count": 51
    }
   ],
   "source": [
    "# Checking for homoscedasticity - correlation within indepedendent variables that already exists!\n",
    "\n",
    "pd.crosstab(train['management_group'],train['management_group_recoded'],margins=True, normalize=True)"
   ]
  },
  {
   "cell_type": "code",
   "execution_count": 52,
   "metadata": {},
   "outputs": [
    {
     "output_type": "execute_result",
     "data": {
      "text/plain": [
       "payment_recoded        never pay     other       All\n",
       "payment                                             \n",
       "never pay               0.426734  0.000000  0.426734\n",
       "other                   0.000000  0.017744  0.017744\n",
       "pay annually            0.000000  0.061313  0.061313\n",
       "pay monthly             0.000000  0.139731  0.139731\n",
       "pay per bucket          0.000000  0.151263  0.151263\n",
       "pay when scheme fails   0.000000  0.065892  0.065892\n",
       "unknown                 0.000000  0.137323  0.137323\n",
       "All                     0.426734  0.573266  1.000000"
      ],
      "text/html": "<div>\n<style scoped>\n    .dataframe tbody tr th:only-of-type {\n        vertical-align: middle;\n    }\n\n    .dataframe tbody tr th {\n        vertical-align: top;\n    }\n\n    .dataframe thead th {\n        text-align: right;\n    }\n</style>\n<table border=\"1\" class=\"dataframe\">\n  <thead>\n    <tr style=\"text-align: right;\">\n      <th>payment_recoded</th>\n      <th>never pay</th>\n      <th>other</th>\n      <th>All</th>\n    </tr>\n    <tr>\n      <th>payment</th>\n      <th></th>\n      <th></th>\n      <th></th>\n    </tr>\n  </thead>\n  <tbody>\n    <tr>\n      <th>never pay</th>\n      <td>0.426734</td>\n      <td>0.000000</td>\n      <td>0.426734</td>\n    </tr>\n    <tr>\n      <th>other</th>\n      <td>0.000000</td>\n      <td>0.017744</td>\n      <td>0.017744</td>\n    </tr>\n    <tr>\n      <th>pay annually</th>\n      <td>0.000000</td>\n      <td>0.061313</td>\n      <td>0.061313</td>\n    </tr>\n    <tr>\n      <th>pay monthly</th>\n      <td>0.000000</td>\n      <td>0.139731</td>\n      <td>0.139731</td>\n    </tr>\n    <tr>\n      <th>pay per bucket</th>\n      <td>0.000000</td>\n      <td>0.151263</td>\n      <td>0.151263</td>\n    </tr>\n    <tr>\n      <th>pay when scheme fails</th>\n      <td>0.000000</td>\n      <td>0.065892</td>\n      <td>0.065892</td>\n    </tr>\n    <tr>\n      <th>unknown</th>\n      <td>0.000000</td>\n      <td>0.137323</td>\n      <td>0.137323</td>\n    </tr>\n    <tr>\n      <th>All</th>\n      <td>0.426734</td>\n      <td>0.573266</td>\n      <td>1.000000</td>\n    </tr>\n  </tbody>\n</table>\n</div>"
     },
     "metadata": {},
     "execution_count": 52
    }
   ],
   "source": [
    "# Checking for homoscedasticity - correlation within indepedendent variables that already exists!\n",
    "\n",
    "pd.crosstab(train['payment'],train['payment_recoded'],margins=True, normalize=True)"
   ]
  },
  {
   "cell_type": "code",
   "execution_count": 53,
   "metadata": {},
   "outputs": [
    {
     "output_type": "execute_result",
     "data": {
      "text/plain": [
       "payment_type_recoded  never pay     other       All\n",
       "payment_type                                       \n",
       "annually               0.000000  0.061313  0.061313\n",
       "monthly                0.000000  0.139731  0.139731\n",
       "never pay              0.426734  0.000000  0.426734\n",
       "on failure             0.000000  0.065892  0.065892\n",
       "other                  0.000000  0.017744  0.017744\n",
       "per bucket             0.000000  0.151263  0.151263\n",
       "unknown                0.000000  0.137323  0.137323\n",
       "All                    0.426734  0.573266  1.000000"
      ],
      "text/html": "<div>\n<style scoped>\n    .dataframe tbody tr th:only-of-type {\n        vertical-align: middle;\n    }\n\n    .dataframe tbody tr th {\n        vertical-align: top;\n    }\n\n    .dataframe thead th {\n        text-align: right;\n    }\n</style>\n<table border=\"1\" class=\"dataframe\">\n  <thead>\n    <tr style=\"text-align: right;\">\n      <th>payment_type_recoded</th>\n      <th>never pay</th>\n      <th>other</th>\n      <th>All</th>\n    </tr>\n    <tr>\n      <th>payment_type</th>\n      <th></th>\n      <th></th>\n      <th></th>\n    </tr>\n  </thead>\n  <tbody>\n    <tr>\n      <th>annually</th>\n      <td>0.000000</td>\n      <td>0.061313</td>\n      <td>0.061313</td>\n    </tr>\n    <tr>\n      <th>monthly</th>\n      <td>0.000000</td>\n      <td>0.139731</td>\n      <td>0.139731</td>\n    </tr>\n    <tr>\n      <th>never pay</th>\n      <td>0.426734</td>\n      <td>0.000000</td>\n      <td>0.426734</td>\n    </tr>\n    <tr>\n      <th>on failure</th>\n      <td>0.000000</td>\n      <td>0.065892</td>\n      <td>0.065892</td>\n    </tr>\n    <tr>\n      <th>other</th>\n      <td>0.000000</td>\n      <td>0.017744</td>\n      <td>0.017744</td>\n    </tr>\n    <tr>\n      <th>per bucket</th>\n      <td>0.000000</td>\n      <td>0.151263</td>\n      <td>0.151263</td>\n    </tr>\n    <tr>\n      <th>unknown</th>\n      <td>0.000000</td>\n      <td>0.137323</td>\n      <td>0.137323</td>\n    </tr>\n    <tr>\n      <th>All</th>\n      <td>0.426734</td>\n      <td>0.573266</td>\n      <td>1.000000</td>\n    </tr>\n  </tbody>\n</table>\n</div>"
     },
     "metadata": {},
     "execution_count": 53
    }
   ],
   "source": [
    "# Checking for homoscedasticity - correlation within indepedendent variables that already exists!\n",
    "\n",
    "pd.crosstab(train['payment_type'],train['payment_type_recoded'],margins=True, normalize=True)"
   ]
  },
  {
   "cell_type": "code",
   "execution_count": 54,
   "metadata": {},
   "outputs": [
    {
     "output_type": "execute_result",
     "data": {
      "text/plain": [
       "water_quality_recoded     other      soft       All\n",
       "water_quality                                      \n",
       "coloured               0.008249  0.000000  0.008249\n",
       "fluoride               0.003367  0.000000  0.003367\n",
       "fluoride abandoned     0.000286  0.000000  0.000286\n",
       "milky                  0.013535  0.000000  0.013535\n",
       "salty                  0.081751  0.000000  0.081751\n",
       "salty abandoned        0.005707  0.000000  0.005707\n",
       "soft                   0.000000  0.855522  0.855522\n",
       "unknown                0.031582  0.000000  0.031582\n",
       "All                    0.144478  0.855522  1.000000"
      ],
      "text/html": "<div>\n<style scoped>\n    .dataframe tbody tr th:only-of-type {\n        vertical-align: middle;\n    }\n\n    .dataframe tbody tr th {\n        vertical-align: top;\n    }\n\n    .dataframe thead th {\n        text-align: right;\n    }\n</style>\n<table border=\"1\" class=\"dataframe\">\n  <thead>\n    <tr style=\"text-align: right;\">\n      <th>water_quality_recoded</th>\n      <th>other</th>\n      <th>soft</th>\n      <th>All</th>\n    </tr>\n    <tr>\n      <th>water_quality</th>\n      <th></th>\n      <th></th>\n      <th></th>\n    </tr>\n  </thead>\n  <tbody>\n    <tr>\n      <th>coloured</th>\n      <td>0.008249</td>\n      <td>0.000000</td>\n      <td>0.008249</td>\n    </tr>\n    <tr>\n      <th>fluoride</th>\n      <td>0.003367</td>\n      <td>0.000000</td>\n      <td>0.003367</td>\n    </tr>\n    <tr>\n      <th>fluoride abandoned</th>\n      <td>0.000286</td>\n      <td>0.000000</td>\n      <td>0.000286</td>\n    </tr>\n    <tr>\n      <th>milky</th>\n      <td>0.013535</td>\n      <td>0.000000</td>\n      <td>0.013535</td>\n    </tr>\n    <tr>\n      <th>salty</th>\n      <td>0.081751</td>\n      <td>0.000000</td>\n      <td>0.081751</td>\n    </tr>\n    <tr>\n      <th>salty abandoned</th>\n      <td>0.005707</td>\n      <td>0.000000</td>\n      <td>0.005707</td>\n    </tr>\n    <tr>\n      <th>soft</th>\n      <td>0.000000</td>\n      <td>0.855522</td>\n      <td>0.855522</td>\n    </tr>\n    <tr>\n      <th>unknown</th>\n      <td>0.031582</td>\n      <td>0.000000</td>\n      <td>0.031582</td>\n    </tr>\n    <tr>\n      <th>All</th>\n      <td>0.144478</td>\n      <td>0.855522</td>\n      <td>1.000000</td>\n    </tr>\n  </tbody>\n</table>\n</div>"
     },
     "metadata": {},
     "execution_count": 54
    }
   ],
   "source": [
    "# Checking for homoscedasticity - correlation within indepedendent variables that already exists!\n",
    "# Before recoding\n",
    "pd.crosstab(train['water_quality'],train['water_quality_recoded'],margins=True, normalize=True)"
   ]
  },
  {
   "cell_type": "code",
   "execution_count": 55,
   "metadata": {},
   "outputs": [
    {
     "output_type": "execute_result",
     "data": {
      "text/plain": [
       "quality_group_recoded      good     other       All\n",
       "quality_group                                      \n",
       "colored                0.000000  0.008249  0.008249\n",
       "fluoride               0.000000  0.003653  0.003653\n",
       "good                   0.855522  0.000000  0.855522\n",
       "milky                  0.000000  0.013535  0.013535\n",
       "salty                  0.000000  0.087458  0.087458\n",
       "unknown                0.000000  0.031582  0.031582\n",
       "All                    0.855522  0.144478  1.000000"
      ],
      "text/html": "<div>\n<style scoped>\n    .dataframe tbody tr th:only-of-type {\n        vertical-align: middle;\n    }\n\n    .dataframe tbody tr th {\n        vertical-align: top;\n    }\n\n    .dataframe thead th {\n        text-align: right;\n    }\n</style>\n<table border=\"1\" class=\"dataframe\">\n  <thead>\n    <tr style=\"text-align: right;\">\n      <th>quality_group_recoded</th>\n      <th>good</th>\n      <th>other</th>\n      <th>All</th>\n    </tr>\n    <tr>\n      <th>quality_group</th>\n      <th></th>\n      <th></th>\n      <th></th>\n    </tr>\n  </thead>\n  <tbody>\n    <tr>\n      <th>colored</th>\n      <td>0.000000</td>\n      <td>0.008249</td>\n      <td>0.008249</td>\n    </tr>\n    <tr>\n      <th>fluoride</th>\n      <td>0.000000</td>\n      <td>0.003653</td>\n      <td>0.003653</td>\n    </tr>\n    <tr>\n      <th>good</th>\n      <td>0.855522</td>\n      <td>0.000000</td>\n      <td>0.855522</td>\n    </tr>\n    <tr>\n      <th>milky</th>\n      <td>0.000000</td>\n      <td>0.013535</td>\n      <td>0.013535</td>\n    </tr>\n    <tr>\n      <th>salty</th>\n      <td>0.000000</td>\n      <td>0.087458</td>\n      <td>0.087458</td>\n    </tr>\n    <tr>\n      <th>unknown</th>\n      <td>0.000000</td>\n      <td>0.031582</td>\n      <td>0.031582</td>\n    </tr>\n    <tr>\n      <th>All</th>\n      <td>0.855522</td>\n      <td>0.144478</td>\n      <td>1.000000</td>\n    </tr>\n  </tbody>\n</table>\n</div>"
     },
     "metadata": {},
     "execution_count": 55
    }
   ],
   "source": [
    "# Checking for homoscedasticity - correlation within indepedendent variables that already exists!\n",
    "# Before recoding\n",
    "pd.crosstab(train['quality_group'],train['quality_group_recoded'],margins=True, normalize=True)"
   ]
  },
  {
   "cell_type": "code",
   "execution_count": 56,
   "metadata": {},
   "outputs": [
    {
     "output_type": "execute_result",
     "data": {
      "text/plain": [
       "source_recoded           other  shallow well    spring       All\n",
       "source                                                          \n",
       "dam                   0.011044      0.000000  0.000000  0.011044\n",
       "hand dtw              0.014714      0.000000  0.000000  0.014714\n",
       "lake                  0.012879      0.000000  0.000000  0.012879\n",
       "machine dbh           0.186448      0.000000  0.000000  0.186448\n",
       "other                 0.003569      0.000000  0.000000  0.003569\n",
       "rainwater harvesting  0.038636      0.000000  0.000000  0.038636\n",
       "river                 0.161818      0.000000  0.000000  0.161818\n",
       "shallow well          0.000000      0.283232  0.000000  0.283232\n",
       "spring                0.000000      0.000000  0.286549  0.286549\n",
       "unknown               0.001111      0.000000  0.000000  0.001111\n",
       "All                   0.430219      0.283232  0.286549  1.000000"
      ],
      "text/html": "<div>\n<style scoped>\n    .dataframe tbody tr th:only-of-type {\n        vertical-align: middle;\n    }\n\n    .dataframe tbody tr th {\n        vertical-align: top;\n    }\n\n    .dataframe thead th {\n        text-align: right;\n    }\n</style>\n<table border=\"1\" class=\"dataframe\">\n  <thead>\n    <tr style=\"text-align: right;\">\n      <th>source_recoded</th>\n      <th>other</th>\n      <th>shallow well</th>\n      <th>spring</th>\n      <th>All</th>\n    </tr>\n    <tr>\n      <th>source</th>\n      <th></th>\n      <th></th>\n      <th></th>\n      <th></th>\n    </tr>\n  </thead>\n  <tbody>\n    <tr>\n      <th>dam</th>\n      <td>0.011044</td>\n      <td>0.000000</td>\n      <td>0.000000</td>\n      <td>0.011044</td>\n    </tr>\n    <tr>\n      <th>hand dtw</th>\n      <td>0.014714</td>\n      <td>0.000000</td>\n      <td>0.000000</td>\n      <td>0.014714</td>\n    </tr>\n    <tr>\n      <th>lake</th>\n      <td>0.012879</td>\n      <td>0.000000</td>\n      <td>0.000000</td>\n      <td>0.012879</td>\n    </tr>\n    <tr>\n      <th>machine dbh</th>\n      <td>0.186448</td>\n      <td>0.000000</td>\n      <td>0.000000</td>\n      <td>0.186448</td>\n    </tr>\n    <tr>\n      <th>other</th>\n      <td>0.003569</td>\n      <td>0.000000</td>\n      <td>0.000000</td>\n      <td>0.003569</td>\n    </tr>\n    <tr>\n      <th>rainwater harvesting</th>\n      <td>0.038636</td>\n      <td>0.000000</td>\n      <td>0.000000</td>\n      <td>0.038636</td>\n    </tr>\n    <tr>\n      <th>river</th>\n      <td>0.161818</td>\n      <td>0.000000</td>\n      <td>0.000000</td>\n      <td>0.161818</td>\n    </tr>\n    <tr>\n      <th>shallow well</th>\n      <td>0.000000</td>\n      <td>0.283232</td>\n      <td>0.000000</td>\n      <td>0.283232</td>\n    </tr>\n    <tr>\n      <th>spring</th>\n      <td>0.000000</td>\n      <td>0.000000</td>\n      <td>0.286549</td>\n      <td>0.286549</td>\n    </tr>\n    <tr>\n      <th>unknown</th>\n      <td>0.001111</td>\n      <td>0.000000</td>\n      <td>0.000000</td>\n      <td>0.001111</td>\n    </tr>\n    <tr>\n      <th>All</th>\n      <td>0.430219</td>\n      <td>0.283232</td>\n      <td>0.286549</td>\n      <td>1.000000</td>\n    </tr>\n  </tbody>\n</table>\n</div>"
     },
     "metadata": {},
     "execution_count": 56
    }
   ],
   "source": [
    "# Checking for homoscedasticity - correlation within indepedendent variables that already exists!\n",
    "\n",
    "pd.crosstab(train['source'],train['source_recoded'],margins=True, normalize=True)"
   ]
  },
  {
   "cell_type": "code",
   "execution_count": 57,
   "metadata": {},
   "outputs": [
    {
     "output_type": "execute_result",
     "data": {
      "text/plain": [
       "source_class_recoded  groundwater    other   surface       All\n",
       "source_class                                                  \n",
       "groundwater              0.770943  0.00000  0.000000  0.770943\n",
       "surface                  0.000000  0.00000  0.224377  0.224377\n",
       "unknown                  0.000000  0.00468  0.000000  0.004680\n",
       "All                      0.770943  0.00468  0.224377  1.000000"
      ],
      "text/html": "<div>\n<style scoped>\n    .dataframe tbody tr th:only-of-type {\n        vertical-align: middle;\n    }\n\n    .dataframe tbody tr th {\n        vertical-align: top;\n    }\n\n    .dataframe thead th {\n        text-align: right;\n    }\n</style>\n<table border=\"1\" class=\"dataframe\">\n  <thead>\n    <tr style=\"text-align: right;\">\n      <th>source_class_recoded</th>\n      <th>groundwater</th>\n      <th>other</th>\n      <th>surface</th>\n      <th>All</th>\n    </tr>\n    <tr>\n      <th>source_class</th>\n      <th></th>\n      <th></th>\n      <th></th>\n      <th></th>\n    </tr>\n  </thead>\n  <tbody>\n    <tr>\n      <th>groundwater</th>\n      <td>0.770943</td>\n      <td>0.00000</td>\n      <td>0.000000</td>\n      <td>0.770943</td>\n    </tr>\n    <tr>\n      <th>surface</th>\n      <td>0.000000</td>\n      <td>0.00000</td>\n      <td>0.224377</td>\n      <td>0.224377</td>\n    </tr>\n    <tr>\n      <th>unknown</th>\n      <td>0.000000</td>\n      <td>0.00468</td>\n      <td>0.000000</td>\n      <td>0.004680</td>\n    </tr>\n    <tr>\n      <th>All</th>\n      <td>0.770943</td>\n      <td>0.00468</td>\n      <td>0.224377</td>\n      <td>1.000000</td>\n    </tr>\n  </tbody>\n</table>\n</div>"
     },
     "metadata": {},
     "execution_count": 57
    }
   ],
   "source": [
    "# Checking for homoscedasticity - correlation within indepedendent variables that already exists!\n",
    "\n",
    "pd.crosstab(train['source_class'],train['source_class_recoded'],margins=True, normalize=True)"
   ]
  },
  {
   "cell_type": "code",
   "execution_count": 58,
   "metadata": {},
   "outputs": [
    {
     "output_type": "execute_result",
     "data": {
      "text/plain": [
       "source_type_recoded   borehole     other  river/lake  shallow well    spring  \\\n",
       "source_type                                                                    \n",
       "borehole              0.201162  0.000000    0.000000      0.000000  0.000000   \n",
       "dam                   0.000000  0.011044    0.000000      0.000000  0.000000   \n",
       "other                 0.000000  0.004680    0.000000      0.000000  0.000000   \n",
       "rainwater harvesting  0.000000  0.038636    0.000000      0.000000  0.000000   \n",
       "river/lake            0.000000  0.000000    0.174697      0.000000  0.000000   \n",
       "shallow well          0.000000  0.000000    0.000000      0.283232  0.000000   \n",
       "spring                0.000000  0.000000    0.000000      0.000000  0.286549   \n",
       "All                   0.201162  0.054360    0.174697      0.283232  0.286549   \n",
       "\n",
       "source_type_recoded        All  \n",
       "source_type                     \n",
       "borehole              0.201162  \n",
       "dam                   0.011044  \n",
       "other                 0.004680  \n",
       "rainwater harvesting  0.038636  \n",
       "river/lake            0.174697  \n",
       "shallow well          0.283232  \n",
       "spring                0.286549  \n",
       "All                   1.000000  "
      ],
      "text/html": "<div>\n<style scoped>\n    .dataframe tbody tr th:only-of-type {\n        vertical-align: middle;\n    }\n\n    .dataframe tbody tr th {\n        vertical-align: top;\n    }\n\n    .dataframe thead th {\n        text-align: right;\n    }\n</style>\n<table border=\"1\" class=\"dataframe\">\n  <thead>\n    <tr style=\"text-align: right;\">\n      <th>source_type_recoded</th>\n      <th>borehole</th>\n      <th>other</th>\n      <th>river/lake</th>\n      <th>shallow well</th>\n      <th>spring</th>\n      <th>All</th>\n    </tr>\n    <tr>\n      <th>source_type</th>\n      <th></th>\n      <th></th>\n      <th></th>\n      <th></th>\n      <th></th>\n      <th></th>\n    </tr>\n  </thead>\n  <tbody>\n    <tr>\n      <th>borehole</th>\n      <td>0.201162</td>\n      <td>0.000000</td>\n      <td>0.000000</td>\n      <td>0.000000</td>\n      <td>0.000000</td>\n      <td>0.201162</td>\n    </tr>\n    <tr>\n      <th>dam</th>\n      <td>0.000000</td>\n      <td>0.011044</td>\n      <td>0.000000</td>\n      <td>0.000000</td>\n      <td>0.000000</td>\n      <td>0.011044</td>\n    </tr>\n    <tr>\n      <th>other</th>\n      <td>0.000000</td>\n      <td>0.004680</td>\n      <td>0.000000</td>\n      <td>0.000000</td>\n      <td>0.000000</td>\n      <td>0.004680</td>\n    </tr>\n    <tr>\n      <th>rainwater harvesting</th>\n      <td>0.000000</td>\n      <td>0.038636</td>\n      <td>0.000000</td>\n      <td>0.000000</td>\n      <td>0.000000</td>\n      <td>0.038636</td>\n    </tr>\n    <tr>\n      <th>river/lake</th>\n      <td>0.000000</td>\n      <td>0.000000</td>\n      <td>0.174697</td>\n      <td>0.000000</td>\n      <td>0.000000</td>\n      <td>0.174697</td>\n    </tr>\n    <tr>\n      <th>shallow well</th>\n      <td>0.000000</td>\n      <td>0.000000</td>\n      <td>0.000000</td>\n      <td>0.283232</td>\n      <td>0.000000</td>\n      <td>0.283232</td>\n    </tr>\n    <tr>\n      <th>spring</th>\n      <td>0.000000</td>\n      <td>0.000000</td>\n      <td>0.000000</td>\n      <td>0.000000</td>\n      <td>0.286549</td>\n      <td>0.286549</td>\n    </tr>\n    <tr>\n      <th>All</th>\n      <td>0.201162</td>\n      <td>0.054360</td>\n      <td>0.174697</td>\n      <td>0.283232</td>\n      <td>0.286549</td>\n      <td>1.000000</td>\n    </tr>\n  </tbody>\n</table>\n</div>"
     },
     "metadata": {},
     "execution_count": 58
    }
   ],
   "source": [
    "# Checking for homoscedasticity - correlation within indepedendent variables that already exists!\n",
    "\n",
    "pd.crosstab(train['source_type'],train['source_type_recoded'],margins=True, normalize=True)"
   ]
  },
  {
   "cell_type": "code",
   "execution_count": 59,
   "metadata": {},
   "outputs": [
    {
     "output_type": "execute_result",
     "data": {
      "text/plain": [
       "waterpoint_type_recoded      communal standpipe  hand pump     other       All\n",
       "waterpoint_type                                                               \n",
       "cattle trough                          0.000000   0.000000  0.001953  0.001953\n",
       "communal standpipe                     0.480168   0.000000  0.000000  0.480168\n",
       "communal standpipe multiple            0.000000   0.000000  0.102744  0.102744\n",
       "dam                                    0.000000   0.000000  0.000118  0.000118\n",
       "hand pump                              0.000000   0.294411  0.000000  0.294411\n",
       "improved spring                        0.000000   0.000000  0.013199  0.013199\n",
       "other                                  0.000000   0.000000  0.107407  0.107407\n",
       "All                                    0.480168   0.294411  0.225421  1.000000"
      ],
      "text/html": "<div>\n<style scoped>\n    .dataframe tbody tr th:only-of-type {\n        vertical-align: middle;\n    }\n\n    .dataframe tbody tr th {\n        vertical-align: top;\n    }\n\n    .dataframe thead th {\n        text-align: right;\n    }\n</style>\n<table border=\"1\" class=\"dataframe\">\n  <thead>\n    <tr style=\"text-align: right;\">\n      <th>waterpoint_type_recoded</th>\n      <th>communal standpipe</th>\n      <th>hand pump</th>\n      <th>other</th>\n      <th>All</th>\n    </tr>\n    <tr>\n      <th>waterpoint_type</th>\n      <th></th>\n      <th></th>\n      <th></th>\n      <th></th>\n    </tr>\n  </thead>\n  <tbody>\n    <tr>\n      <th>cattle trough</th>\n      <td>0.000000</td>\n      <td>0.000000</td>\n      <td>0.001953</td>\n      <td>0.001953</td>\n    </tr>\n    <tr>\n      <th>communal standpipe</th>\n      <td>0.480168</td>\n      <td>0.000000</td>\n      <td>0.000000</td>\n      <td>0.480168</td>\n    </tr>\n    <tr>\n      <th>communal standpipe multiple</th>\n      <td>0.000000</td>\n      <td>0.000000</td>\n      <td>0.102744</td>\n      <td>0.102744</td>\n    </tr>\n    <tr>\n      <th>dam</th>\n      <td>0.000000</td>\n      <td>0.000000</td>\n      <td>0.000118</td>\n      <td>0.000118</td>\n    </tr>\n    <tr>\n      <th>hand pump</th>\n      <td>0.000000</td>\n      <td>0.294411</td>\n      <td>0.000000</td>\n      <td>0.294411</td>\n    </tr>\n    <tr>\n      <th>improved spring</th>\n      <td>0.000000</td>\n      <td>0.000000</td>\n      <td>0.013199</td>\n      <td>0.013199</td>\n    </tr>\n    <tr>\n      <th>other</th>\n      <td>0.000000</td>\n      <td>0.000000</td>\n      <td>0.107407</td>\n      <td>0.107407</td>\n    </tr>\n    <tr>\n      <th>All</th>\n      <td>0.480168</td>\n      <td>0.294411</td>\n      <td>0.225421</td>\n      <td>1.000000</td>\n    </tr>\n  </tbody>\n</table>\n</div>"
     },
     "metadata": {},
     "execution_count": 59
    }
   ],
   "source": [
    "# Checking for homoscedasticity - correlation within indepedendent variables that already exists!\n",
    "\n",
    "pd.crosstab(train['waterpoint_type'],train['waterpoint_type_recoded'],margins=True, normalize=True)"
   ]
  },
  {
   "cell_type": "code",
   "execution_count": 60,
   "metadata": {},
   "outputs": [
    {
     "output_type": "execute_result",
     "data": {
      "text/plain": [
       "waterpoint_type_group_recoded  communal standpipe  hand pump     other  \\\n",
       "waterpoint_type_group                                                    \n",
       "cattle trough                            0.000000   0.000000  0.001953   \n",
       "communal standpipe                       0.582912   0.000000  0.000000   \n",
       "dam                                      0.000000   0.000000  0.000118   \n",
       "hand pump                                0.000000   0.294411  0.000000   \n",
       "improved spring                          0.000000   0.000000  0.013199   \n",
       "other                                    0.000000   0.000000  0.107407   \n",
       "All                                      0.582912   0.294411  0.122677   \n",
       "\n",
       "waterpoint_type_group_recoded       All  \n",
       "waterpoint_type_group                    \n",
       "cattle trough                  0.001953  \n",
       "communal standpipe             0.582912  \n",
       "dam                            0.000118  \n",
       "hand pump                      0.294411  \n",
       "improved spring                0.013199  \n",
       "other                          0.107407  \n",
       "All                            1.000000  "
      ],
      "text/html": "<div>\n<style scoped>\n    .dataframe tbody tr th:only-of-type {\n        vertical-align: middle;\n    }\n\n    .dataframe tbody tr th {\n        vertical-align: top;\n    }\n\n    .dataframe thead th {\n        text-align: right;\n    }\n</style>\n<table border=\"1\" class=\"dataframe\">\n  <thead>\n    <tr style=\"text-align: right;\">\n      <th>waterpoint_type_group_recoded</th>\n      <th>communal standpipe</th>\n      <th>hand pump</th>\n      <th>other</th>\n      <th>All</th>\n    </tr>\n    <tr>\n      <th>waterpoint_type_group</th>\n      <th></th>\n      <th></th>\n      <th></th>\n      <th></th>\n    </tr>\n  </thead>\n  <tbody>\n    <tr>\n      <th>cattle trough</th>\n      <td>0.000000</td>\n      <td>0.000000</td>\n      <td>0.001953</td>\n      <td>0.001953</td>\n    </tr>\n    <tr>\n      <th>communal standpipe</th>\n      <td>0.582912</td>\n      <td>0.000000</td>\n      <td>0.000000</td>\n      <td>0.582912</td>\n    </tr>\n    <tr>\n      <th>dam</th>\n      <td>0.000000</td>\n      <td>0.000000</td>\n      <td>0.000118</td>\n      <td>0.000118</td>\n    </tr>\n    <tr>\n      <th>hand pump</th>\n      <td>0.000000</td>\n      <td>0.294411</td>\n      <td>0.000000</td>\n      <td>0.294411</td>\n    </tr>\n    <tr>\n      <th>improved spring</th>\n      <td>0.000000</td>\n      <td>0.000000</td>\n      <td>0.013199</td>\n      <td>0.013199</td>\n    </tr>\n    <tr>\n      <th>other</th>\n      <td>0.000000</td>\n      <td>0.000000</td>\n      <td>0.107407</td>\n      <td>0.107407</td>\n    </tr>\n    <tr>\n      <th>All</th>\n      <td>0.582912</td>\n      <td>0.294411</td>\n      <td>0.122677</td>\n      <td>1.000000</td>\n    </tr>\n  </tbody>\n</table>\n</div>"
     },
     "metadata": {},
     "execution_count": 60
    }
   ],
   "source": [
    "# Checking for homoscedasticity - correlation within indepedendent variables that already exists!\n",
    "\n",
    "pd.crosstab(train['waterpoint_type_group'],train['waterpoint_type_group_recoded'],margins=True, normalize=True)"
   ]
  },
  {
   "cell_type": "code",
   "execution_count": 61,
   "metadata": {},
   "outputs": [
    {
     "output_type": "execute_result",
     "data": {
      "text/plain": [
       "quantity_recoded    enough  insufficient     other       All\n",
       "quantity                                                    \n",
       "dry               0.000000      0.000000  0.105152  0.105152\n",
       "enough            0.558687      0.000000  0.000000  0.558687\n",
       "insufficient      0.000000      0.254697  0.000000  0.254697\n",
       "seasonal          0.000000      0.000000  0.068182  0.068182\n",
       "unknown           0.000000      0.000000  0.013283  0.013283\n",
       "All               0.558687      0.254697  0.186616  1.000000"
      ],
      "text/html": "<div>\n<style scoped>\n    .dataframe tbody tr th:only-of-type {\n        vertical-align: middle;\n    }\n\n    .dataframe tbody tr th {\n        vertical-align: top;\n    }\n\n    .dataframe thead th {\n        text-align: right;\n    }\n</style>\n<table border=\"1\" class=\"dataframe\">\n  <thead>\n    <tr style=\"text-align: right;\">\n      <th>quantity_recoded</th>\n      <th>enough</th>\n      <th>insufficient</th>\n      <th>other</th>\n      <th>All</th>\n    </tr>\n    <tr>\n      <th>quantity</th>\n      <th></th>\n      <th></th>\n      <th></th>\n      <th></th>\n    </tr>\n  </thead>\n  <tbody>\n    <tr>\n      <th>dry</th>\n      <td>0.000000</td>\n      <td>0.000000</td>\n      <td>0.105152</td>\n      <td>0.105152</td>\n    </tr>\n    <tr>\n      <th>enough</th>\n      <td>0.558687</td>\n      <td>0.000000</td>\n      <td>0.000000</td>\n      <td>0.558687</td>\n    </tr>\n    <tr>\n      <th>insufficient</th>\n      <td>0.000000</td>\n      <td>0.254697</td>\n      <td>0.000000</td>\n      <td>0.254697</td>\n    </tr>\n    <tr>\n      <th>seasonal</th>\n      <td>0.000000</td>\n      <td>0.000000</td>\n      <td>0.068182</td>\n      <td>0.068182</td>\n    </tr>\n    <tr>\n      <th>unknown</th>\n      <td>0.000000</td>\n      <td>0.000000</td>\n      <td>0.013283</td>\n      <td>0.013283</td>\n    </tr>\n    <tr>\n      <th>All</th>\n      <td>0.558687</td>\n      <td>0.254697</td>\n      <td>0.186616</td>\n      <td>1.000000</td>\n    </tr>\n  </tbody>\n</table>\n</div>"
     },
     "metadata": {},
     "execution_count": 61
    }
   ],
   "source": [
    "# Checking for homoscedasticity - correlation within indepedendent variables that already exists!\n",
    "\n",
    "pd.crosstab(train['quantity'],train['quantity_recoded'],margins=True, normalize=True)"
   ]
  },
  {
   "cell_type": "code",
   "execution_count": 62,
   "metadata": {},
   "outputs": [
    {
     "output_type": "execute_result",
     "data": {
      "text/plain": [
       "quantity_group_recoded    enough  insufficient     other       All\n",
       "quantity_group                                                    \n",
       "dry                     0.000000      0.000000  0.105152  0.105152\n",
       "enough                  0.558687      0.000000  0.000000  0.558687\n",
       "insufficient            0.000000      0.254697  0.000000  0.254697\n",
       "seasonal                0.000000      0.000000  0.068182  0.068182\n",
       "unknown                 0.000000      0.000000  0.013283  0.013283\n",
       "All                     0.558687      0.254697  0.186616  1.000000"
      ],
      "text/html": "<div>\n<style scoped>\n    .dataframe tbody tr th:only-of-type {\n        vertical-align: middle;\n    }\n\n    .dataframe tbody tr th {\n        vertical-align: top;\n    }\n\n    .dataframe thead th {\n        text-align: right;\n    }\n</style>\n<table border=\"1\" class=\"dataframe\">\n  <thead>\n    <tr style=\"text-align: right;\">\n      <th>quantity_group_recoded</th>\n      <th>enough</th>\n      <th>insufficient</th>\n      <th>other</th>\n      <th>All</th>\n    </tr>\n    <tr>\n      <th>quantity_group</th>\n      <th></th>\n      <th></th>\n      <th></th>\n      <th></th>\n    </tr>\n  </thead>\n  <tbody>\n    <tr>\n      <th>dry</th>\n      <td>0.000000</td>\n      <td>0.000000</td>\n      <td>0.105152</td>\n      <td>0.105152</td>\n    </tr>\n    <tr>\n      <th>enough</th>\n      <td>0.558687</td>\n      <td>0.000000</td>\n      <td>0.000000</td>\n      <td>0.558687</td>\n    </tr>\n    <tr>\n      <th>insufficient</th>\n      <td>0.000000</td>\n      <td>0.254697</td>\n      <td>0.000000</td>\n      <td>0.254697</td>\n    </tr>\n    <tr>\n      <th>seasonal</th>\n      <td>0.000000</td>\n      <td>0.000000</td>\n      <td>0.068182</td>\n      <td>0.068182</td>\n    </tr>\n    <tr>\n      <th>unknown</th>\n      <td>0.000000</td>\n      <td>0.000000</td>\n      <td>0.013283</td>\n      <td>0.013283</td>\n    </tr>\n    <tr>\n      <th>All</th>\n      <td>0.558687</td>\n      <td>0.254697</td>\n      <td>0.186616</td>\n      <td>1.000000</td>\n    </tr>\n  </tbody>\n</table>\n</div>"
     },
     "metadata": {},
     "execution_count": 62
    }
   ],
   "source": [
    "# Checking for homoscedasticity - correlation within indepedendent variables that already exists!\n",
    "\n",
    "pd.crosstab(train['quantity_group'],train['quantity_group_recoded'],margins=True, normalize=True)"
   ]
  },
  {
   "cell_type": "markdown",
   "metadata": {},
   "source": [
    "The following independent variables seem repeated.\n",
    "\n",
    "- `payment_recoded` and `payment_type_recoded`\n",
    "- `quality_recoded` and `quality_group_recoded`\n",
    "- `quantity_recoded` and `quantity_group_recoded`\n",
    "\n",
    "We can exclude 1 recoded variable to avoid duplication. Excluded variables are as follows:\n",
    "- `payment_type_recoded`\n",
    "- `quality_group_recoded`\n",
    "- `quantity_group_recoded`\n",
    "\n",
    "The variables `waterpoint_type_recoded` and `waterpoint_type_group_recoded` are similar but the break-down is different and since the crosstabs above did not give a similar normalized values, we can leave these in the train model.\n",
    "\n",
    "Similarly, for variables `source`, `source_type` and `source_class`, they have different categories so we will treat them as different variables in the train model.\n"
   ]
  },
  {
   "cell_type": "code",
   "execution_count": 63,
   "metadata": {},
   "outputs": [
    {
     "output_type": "execute_result",
     "data": {
      "text/plain": [
       "      id  amount_tsh date_recorded   funder  gps_height installer  longitude  \\\n",
       "0  69572      6000.0    2011-03-14    Roman        1390     Roman  34.938093   \n",
       "1   8776         0.0    2013-03-06  Grumeti        1399   GRUMETI  34.698766   \n",
       "\n",
       "   latitude  wpt_name  num_private  ... payment_type_recoded  \\\n",
       "0 -9.856322      none            0  ...                other   \n",
       "1 -2.147466  Zahanati            0  ...            never pay   \n",
       "\n",
       "  water_quality_recoded quality_group_recoded  source_recoded  \\\n",
       "0                  soft                  good          spring   \n",
       "1                  soft                  good           other   \n",
       "\n",
       "   source_type_recoded source_class_recoded waterpoint_type_recoded  \\\n",
       "0               spring          groundwater      communal standpipe   \n",
       "1                other              surface      communal standpipe   \n",
       "\n",
       "   waterpoint_type_group_recoded  quantity_recoded quantity_group_recoded  \n",
       "0             communal standpipe            enough                 enough  \n",
       "1             communal standpipe      insufficient           insufficient  \n",
       "\n",
       "[2 rows x 57 columns]"
      ],
      "text/html": "<div>\n<style scoped>\n    .dataframe tbody tr th:only-of-type {\n        vertical-align: middle;\n    }\n\n    .dataframe tbody tr th {\n        vertical-align: top;\n    }\n\n    .dataframe thead th {\n        text-align: right;\n    }\n</style>\n<table border=\"1\" class=\"dataframe\">\n  <thead>\n    <tr style=\"text-align: right;\">\n      <th></th>\n      <th>id</th>\n      <th>amount_tsh</th>\n      <th>date_recorded</th>\n      <th>funder</th>\n      <th>gps_height</th>\n      <th>installer</th>\n      <th>longitude</th>\n      <th>latitude</th>\n      <th>wpt_name</th>\n      <th>num_private</th>\n      <th>...</th>\n      <th>payment_type_recoded</th>\n      <th>water_quality_recoded</th>\n      <th>quality_group_recoded</th>\n      <th>source_recoded</th>\n      <th>source_type_recoded</th>\n      <th>source_class_recoded</th>\n      <th>waterpoint_type_recoded</th>\n      <th>waterpoint_type_group_recoded</th>\n      <th>quantity_recoded</th>\n      <th>quantity_group_recoded</th>\n    </tr>\n  </thead>\n  <tbody>\n    <tr>\n      <th>0</th>\n      <td>69572</td>\n      <td>6000.0</td>\n      <td>2011-03-14</td>\n      <td>Roman</td>\n      <td>1390</td>\n      <td>Roman</td>\n      <td>34.938093</td>\n      <td>-9.856322</td>\n      <td>none</td>\n      <td>0</td>\n      <td>...</td>\n      <td>other</td>\n      <td>soft</td>\n      <td>good</td>\n      <td>spring</td>\n      <td>spring</td>\n      <td>groundwater</td>\n      <td>communal standpipe</td>\n      <td>communal standpipe</td>\n      <td>enough</td>\n      <td>enough</td>\n    </tr>\n    <tr>\n      <th>1</th>\n      <td>8776</td>\n      <td>0.0</td>\n      <td>2013-03-06</td>\n      <td>Grumeti</td>\n      <td>1399</td>\n      <td>GRUMETI</td>\n      <td>34.698766</td>\n      <td>-2.147466</td>\n      <td>Zahanati</td>\n      <td>0</td>\n      <td>...</td>\n      <td>never pay</td>\n      <td>soft</td>\n      <td>good</td>\n      <td>other</td>\n      <td>other</td>\n      <td>surface</td>\n      <td>communal standpipe</td>\n      <td>communal standpipe</td>\n      <td>insufficient</td>\n      <td>insufficient</td>\n    </tr>\n  </tbody>\n</table>\n<p>2 rows × 57 columns</p>\n</div>"
     },
     "metadata": {},
     "execution_count": 63
    }
   ],
   "source": [
    "train.head(2)"
   ]
  },
  {
   "cell_type": "code",
   "execution_count": 64,
   "metadata": {},
   "outputs": [],
   "source": [
    "# Clean dataset\n",
    "delete_columns = ['id', 'payment', 'payment_type', 'payment_type_recoded',\n",
    "                   'water_quality', 'quality_group','quality_group_recoded',\n",
    "                   'quantity', 'quantity_group', 'quantity_group_recoded',\n",
    "                  'district_code', 'region_code', 'scheme_management','extraction_type',\n",
    "                  'management', 'management_group',\n",
    "                   'source', 'source_type', 'source_class',\n",
    "                   'waterpoint_type', 'waterpoint_type_group',\n",
    "                 'lga', 'ward', 'installer', 'funder', 'scheme_name', 'subvillage', 'wpt_name']\n",
    "\n",
    "# Clean dataset\n",
    "train_clean = train.drop(delete_columns, axis=1)"
   ]
  },
  {
   "cell_type": "code",
   "execution_count": 65,
   "metadata": {},
   "outputs": [
    {
     "output_type": "execute_result",
     "data": {
      "text/plain": [
       "(59400, 29)"
      ]
     },
     "metadata": {},
     "execution_count": 65
    }
   ],
   "source": [
    "train_clean.shape"
   ]
  },
  {
   "cell_type": "code",
   "execution_count": 66,
   "metadata": {},
   "outputs": [
    {
     "output_type": "execute_result",
     "data": {
      "text/plain": [
       "amount_tsh                       0\n",
       "date_recorded                    0\n",
       "gps_height                       0\n",
       "longitude                        0\n",
       "latitude                         0\n",
       "num_private                      0\n",
       "basin                            0\n",
       "region                           0\n",
       "population                       0\n",
       "public_meeting                   0\n",
       "recorded_by                      0\n",
       "permit                           0\n",
       "construction_year                0\n",
       "extraction_type_group            0\n",
       "extraction_type_class            0\n",
       "status_group                     0\n",
       "district_code_recoded            0\n",
       "scheme_management_recoded        0\n",
       "extraction_type_recoded          0\n",
       "management_recoded               0\n",
       "management_group_recoded         0\n",
       "payment_recoded                  0\n",
       "water_quality_recoded            0\n",
       "source_recoded                   0\n",
       "source_type_recoded              0\n",
       "source_class_recoded             0\n",
       "waterpoint_type_recoded          0\n",
       "waterpoint_type_group_recoded    0\n",
       "quantity_recoded                 0\n",
       "dtype: int64"
      ]
     },
     "metadata": {},
     "execution_count": 66
    }
   ],
   "source": [
    "# Last check for missing values...\n",
    "train_clean.isna().sum()"
   ]
  },
  {
   "cell_type": "code",
   "execution_count": 67,
   "metadata": {},
   "outputs": [],
   "source": [
    "# Rearrange the columns prior to saving it\n",
    "columnsTitles = ['amount_tsh','gps_height','num_private','basin','region',\n",
    "           'district_code_recoded','population','public_meeting','recorded_by',\n",
    "           'scheme_management_recoded','permit','construction_year',\n",
    "           'extraction_type_recoded','extraction_type_group','extraction_type_class',\n",
    "           'management_recoded','management_group_recoded',\n",
    "           'payment_recoded',\n",
    "           'water_quality_recoded',\n",
    "           'source_recoded','source_type_recoded','source_class_recoded',\n",
    "           'waterpoint_type_recoded','waterpoint_type_group_recoded',\n",
    "           'quantity_recoded',\n",
    "           'status_group']\n",
    "\n",
    "train_clean = train_clean.reindex(columns=columnsTitles)"
   ]
  },
  {
   "cell_type": "code",
   "execution_count": 68,
   "metadata": {},
   "outputs": [],
   "source": [
    "# Save Clean dataset in csv\n",
    "train_clean.to_csv('train_clean.csv')"
   ]
  },
  {
   "cell_type": "code",
   "execution_count": 69,
   "metadata": {},
   "outputs": [],
   "source": [
    "#Save Clean dataset as a pickle >> this reduces any issues that normally arise with csv files!\n",
    "train_clean.to_pickle('train_clean.pickle')"
   ]
  },
  {
   "cell_type": "markdown",
   "metadata": {},
   "source": [
    "### Stage 1 of Data Cleaning is now complete..."
   ]
  },
  {
   "cell_type": "markdown",
   "metadata": {},
   "source": [
    "### References:\n",
    "\n",
    "1. Value_Counts(): https://re-thought.com/pandas-value_counts/"
   ]
  }
 ],
 "metadata": {
  "kernelspec": {
   "display_name": "Python 3",
   "language": "python",
   "name": "python3"
  },
  "language_info": {
   "codemirror_mode": {
    "name": "ipython",
    "version": 3
   },
   "file_extension": ".py",
   "mimetype": "text/x-python",
   "name": "python",
   "nbconvert_exporter": "python",
   "pygments_lexer": "ipython3",
   "version": "3.7.4"
  }
 },
 "nbformat": 4,
 "nbformat_minor": 2
}